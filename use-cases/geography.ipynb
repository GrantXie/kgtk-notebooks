{
 "cells": [
  {
   "cell_type": "code",
   "execution_count": 2,
   "metadata": {},
   "outputs": [],
   "source": [
    "import io\n",
    "import os\n",
    "import subprocess\n",
    "import sys\n",
    "\n",
    "import numpy as np\n",
    "import pandas as pd\n",
    "\n",
    "\n",
    "\n",
    "from IPython.display import display, Markdown"
   ]
  },
  {
   "cell_type": "code",
   "execution_count": null,
   "metadata": {},
   "outputs": [],
   "source": [
    "# Parameters\n",
    "\n",
    "input_path = \"/data/amandeep/wikidata-20211027-dwd-v3\"\n",
    "output_path = \"/data/amandeep/wikidata-20211027-dwd-v3\"\n",
    "\n",
    "graph_cache_path = None\n",
    "\n",
    "project_name = \"geography-files\"\n",
    "\n",
    "files = 'label,item,monolingualtext,external_id,p279star,p31'"
   ]
  },
  {
   "cell_type": "code",
   "execution_count": null,
   "metadata": {},
   "outputs": [],
   "source": [
    "files = files.split(',')"
   ]
  },
  {
   "cell_type": "code",
   "execution_count": null,
   "metadata": {},
   "outputs": [],
   "source": [
    "ck = ConfigureKGTK(files)\n",
    "ck.configure_kgtk(input_graph_path=input_path,\n",
    "                  output_path=output_path,\n",
    "                  project_name=project_name,\n",
    "                 graph_cache_path=graph_cache_path)"
   ]
  },
  {
   "cell_type": "code",
   "execution_count": null,
   "metadata": {},
   "outputs": [],
   "source": [
    "ck.print_env_variables()"
   ]
  },
  {
   "cell_type": "code",
   "execution_count": null,
   "metadata": {},
   "outputs": [],
   "source": [
    "ck.load_files_into_cache()"
   ]
  },
  {
   "cell_type": "markdown",
   "metadata": {},
   "source": [
    "Mini node browser to help with debugging"
   ]
  },
  {
   "cell_type": "raw",
   "metadata": {},
   "source": [
    "def display_node(node): \n",
    "    template = \"\"\" -i claims -i labels \\\n",
    "    --match '(q)-[l {label: property}]->(n2), labels: (property)-[]->(property_label), labels: (n2)-[]->(n2_label)' \\\n",
    "    --return 'distinct property as label, property_label as `label;label`, n2 as node2, n2_label as `node2;label`' \\\n",
    "    --order-by 'property' \\\n",
    "    --where 'q = \"__query__\"'\"\"\".replace(\"__query__\", node)\n",
    "\n",
    "    lines = !kgtk query --graph-cache /Users/pedroszekely/Downloads/kypher/temp.novartis/wikidata.sqlite3.db {template}\n",
    "    df = kgtk_to_dataframe(lines)\n",
    "    # pd.set_option('display.max_rows', None)\n",
    "    return df"
   ]
  },
  {
   "cell_type": "raw",
   "metadata": {},
   "source": [
    "!$kypher -i items -i labels -i p31 -i p279star -i p279 -i descriptions \\\n",
    "--match '\\\n",
    "    p31: (item)-[]->(class) \\\n",
    "' \\\n",
    "--where 'item = \"Q100020\"' \\\n",
    "--opt 'labels: (class)-[]->(class_label)' \\\n",
    "--return 'class as node2, class_label as `node2;label`' \\\n",
    "--limit 3"
   ]
  },
  {
   "cell_type": "raw",
   "metadata": {},
   "source": [
    "# Command to produce tables to put in the documentation\n",
    "!zcat < \"$OUT\"/derived.P131admin.tsv.gz | head -5000 | kgtk cat --every-nth-record 1000 | kgtk md"
   ]
  },
  {
   "cell_type": "markdown",
   "metadata": {},
   "source": [
    "# Build Files To Reason About Geography"
   ]
  },
  {
   "cell_type": "markdown",
   "metadata": {},
   "source": [
    "Build a file that maps settlements to countries\n",
    "\n",
    "| node1 | label | node2 | id |\n",
    "| -- | -- | -- | -- |\n",
    "| Q100020 | P17 | Q55 | Q100020-P17-Q55 |\n",
    "| Q1000595 | P17 | Q43 | Q1000595-P17-Q43 |\n",
    "| Q1000996 | P17 | Q183 | Q1000996-P17-Q183 |\n",
    "| Q100141 | P17 | Q38 | Q100141-P17-Q38 |"
   ]
  },
  {
   "cell_type": "markdown",
   "metadata": {},
   "source": [
    "# To Do: \n",
    "\n",
    "why did I put the where clause in the following query to filter out human settlement? the file becomes incomplete"
   ]
  },
  {
   "cell_type": "code",
   "execution_count": 9,
   "metadata": {},
   "outputs": [
    {
     "name": "stdout",
     "output_type": "stream",
     "text": [
      "[2021-08-08 18:26:38 query]: SQL Translation:\n",
      "---------------------------------------------\n",
      "  SELECT graph_1_c2.\"node1\" \"_aLias.node1\", ? \"_aLias.label\", graph_3_c1.\"node1\" \"_aLias.node2\"\n",
      "     FROM graph_1 AS graph_1_c2\n",
      "     INNER JOIN graph_3 AS graph_3_c1, graph_3 AS graph_3_c3, graph_6 AS graph_6_c4\n",
      "     ON graph_1_c2.\"node1\" = graph_3_c3.\"node1\"\n",
      "        AND graph_3_c1.\"node1\" = graph_1_c2.\"node2\"\n",
      "        AND graph_3_c3.\"node2\" = graph_6_c4.\"node1\"\n",
      "        AND graph_1_c2.\"label\" = ?\n",
      "        AND graph_3_c1.\"label\" = ?\n",
      "        AND graph_3_c1.\"node2\" = ?\n",
      "        AND graph_3_c3.\"label\" = ?\n",
      "        AND graph_6_c4.\"node2\" = ?\n",
      "        AND (graph_3_c3.\"node2\" != ?)\n",
      "  PARAS: ['P17', 'P17', 'P31', 'Q6256', 'P31', 'Q486972', 'Q486972']\n",
      "---------------------------------------------\n",
      "     1899.78 real       194.99 user       238.53 sys\n"
     ]
    }
   ],
   "source": [
    "!$kypher -i p31 -i items -i p279star \\\n",
    "--match ' \\\n",
    "    p31: (country)-[:P31]->(:Q6256), \\\n",
    "    items: (settlement)-[:P17]->(country), \\\n",
    "    p31: (settlement)-[:P31]->(a_settlement_subclass), \\\n",
    "    p279star: (a_settlement_subclass)-[]->(:Q486972)' \\\n",
    "--where 'a_settlement_subclass != \"Q486972\"' \\\n",
    "--return 'settlement as node1, \"P17\" as label, country as node2' \\\n",
    "/ compact -i - --deduplicate --build-id --id-style wikidata \\\n",
    "-o \"$TEMP\"/settlement-to-country.tsv.gz"
   ]
  },
  {
   "cell_type": "code",
   "execution_count": 10,
   "metadata": {},
   "outputs": [
    {
     "name": "stdout",
     "output_type": "stream",
     "text": [
      "[2021-08-08 18:58:15 sqlstore]: DROP graph data table graph_25 from settlements\n",
      "[2021-08-08 18:58:17 sqlstore]: IMPORT graph directly into table graph_25 from /Users/pedroszekely/Downloads/kypher/temp.geography/settlement-to-country.tsv.gz ...\n",
      "[2021-08-08 18:58:23 query]: SQL Translation:\n",
      "---------------------------------------------\n",
      "  SELECT *\n",
      "     FROM graph_25 AS graph_25_c1\n",
      "     LIMIT ?\n",
      "  PARAS: [3]\n",
      "---------------------------------------------\n",
      "node1\tlabel\tnode2\tid\n",
      "Q100\tP17\tQ30\tQ100-P17-Q30\n",
      "Q100000\tP17\tQ55\tQ100000-P17-Q55\n",
      "Q1000003\tP17\tQ142\tQ1000003-P17-Q142\n",
      "        8.84 real        11.03 user         1.35 sys\n"
     ]
    }
   ],
   "source": [
    "!$kypher -i \"$TEMP\"/settlement-to-country.tsv.gz --as settlements --limit 3"
   ]
  },
  {
   "cell_type": "markdown",
   "metadata": {},
   "source": [
    "## `derived.P17_chain`\n",
    "a file so that chains any property whose value is a settlement to have a direct link to the country\n",
    "\n",
    "| node1 | label | node2 | id |\n",
    "| -- | -- | -- | -- |\n",
    "| Q1000242 | P19_P17 | Q183 | Q1000242-P19_P17-Q183 |\n",
    "| Q1000862 | P19_P17 | Q40 | Q1000862-P19_P17-Q40 |\n",
    "| Q100142684 | P1427_P17 | Q869 | Q100142684-P1427_P17-Q869 |\n",
    "| Q100152749 | P19_P17 | Q183 | Q100152749-P19_P17-Q183 |"
   ]
  },
  {
   "cell_type": "raw",
   "metadata": {},
   "source": [
    "!$kypher -i settlements -i items \\\n",
    "--match ' \\\n",
    "    items: (n1)-[l {label: property}]->(settlement), \\\n",
    "    settlements: (settlement)-[]->(country)' \\\n",
    "--return 'distinct n1 as node1, printf(\"%s_P17\", property) as label, country as node2' \\\n",
    "--limit 3"
   ]
  },
  {
   "cell_type": "code",
   "execution_count": 11,
   "metadata": {},
   "outputs": [
    {
     "name": "stdout",
     "output_type": "stream",
     "text": [
      "[2021-08-08 18:58:27 query]: SQL Translation:\n",
      "---------------------------------------------\n",
      "  SELECT DISTINCT graph_1_c1.\"node1\" \"_aLias.node1\", printf(?, graph_1_c1.\"label\") \"_aLias.label\", graph_25_c2.\"node2\" \"_aLias.node2\"\n",
      "     FROM graph_1 AS graph_1_c1\n",
      "     INNER JOIN graph_25 AS graph_25_c2\n",
      "     ON graph_1_c1.\"node2\" = graph_25_c2.\"node1\"\n",
      "        AND graph_1_c1.\"label\" = graph_1_c1.\"label\"\n",
      "  PARAS: ['%s_P17']\n",
      "---------------------------------------------\n",
      "[2021-08-08 18:58:27 sqlstore]: CREATE INDEX on table graph_25 column node1 ...\n",
      "[2021-08-08 18:58:28 sqlstore]: ANALYZE INDEX on table graph_25 column node1 ...\n",
      "     1218.93 real       217.59 user       189.22 sys\n"
     ]
    }
   ],
   "source": [
    "!$kypher -i settlements -i items \\\n",
    "--match ' \\\n",
    "    items: (n1)-[l {label: property}]->(settlement), \\\n",
    "    settlements: (settlement)-[]->(country)' \\\n",
    "--return 'distinct n1 as node1, printf(\"%s_P17\", property) as label, country as node2' \\\n",
    "/ add-id --id-style wikidata \\\n",
    "/ sort \\\n",
    "-o \"$OUT\"/derived.P17_chain.tsv.gz"
   ]
  },
  {
   "cell_type": "markdown",
   "metadata": {},
   "source": [
    "# New files (Ameandeed: start here)"
   ]
  },
  {
   "cell_type": "markdown",
   "metadata": {},
   "source": [
    "## `P131star`: map each node1 in `P131` to all its admin up the chain of `P131`\n",
    "\n",
    "Removes historical admins, including historical countries.\n",
    "\n",
    "| node1 | label | node2 | id |\n",
    "| -- | -- | -- | -- |\n",
    "| Q1000398 | P131star | Q12694 | Q1000398-P131star-Q12694 |\n",
    "| Q1001008 | P131star | Q12589 | Q1001008-P131star-Q12589 |\n",
    "| Q1001499 | P131star | Q214 | Q1001499-P131star-Q214 |\n",
    "| Q1001995 | P131star | Q1001995 | Q1001995-P131star-Q1001995 |"
   ]
  },
  {
   "cell_type": "raw",
   "metadata": {},
   "source": [
    "!zcat < $OUT/derived.P131star.tsv.gz | head -5000 | kgtk cat --every-nth-record 1000 | kgtk md"
   ]
  },
  {
   "cell_type": "markdown",
   "metadata": {},
   "source": [
    "Extract the graph of `P131` so that we give a smaller graph to reachable-nodes, and remove historical admins"
   ]
  },
  {
   "cell_type": "code",
   "execution_count": 106,
   "metadata": {},
   "outputs": [
    {
     "name": "stdout",
     "output_type": "stream",
     "text": [
      "[2021-09-19 22:26:26 query]: SQL Translation:\n",
      "---------------------------------------------\n",
      "  SELECT DISTINCT graph_8_c1.\"node1\" \"_aLias.node1\", graph_8_c1.\"label\" \"_aLias.label\", graph_8_c1.\"node2\" \"_aLias.node2\"\n",
      "     FROM graph_8 AS graph_8_c1\n",
      "     WHERE graph_8_c1.\"label\" = ?\n",
      "  PARAS: ['P131']\n",
      "---------------------------------------------\n",
      "      241.37 real       128.39 user        49.72 sys\n"
     ]
    }
   ],
   "source": [
    "!$kypher -i items -i p31 -i p279star \\\n",
    "--match '(n1)-[l:P131]->(n2)' \\\n",
    "--return 'distinct n1 as node1, l.label as label, n2 as node2' \\\n",
    "/ add-id --id-style wikidata \\\n",
    "/ sort \\\n",
    "-o \"$TEMP\"/P131.tsv.gz"
   ]
  },
  {
   "cell_type": "markdown",
   "metadata": {},
   "source": [
    "Index P131"
   ]
  },
  {
   "cell_type": "code",
   "execution_count": 107,
   "metadata": {},
   "outputs": [
    {
     "name": "stdout",
     "output_type": "stream",
     "text": [
      "[2021-09-19 22:30:26 sqlstore]: DROP graph data table graph_22 from p131\n",
      "[2021-09-19 22:30:38 sqlstore]: IMPORT graph directly into table graph_26 from /Users/pedroszekely/Downloads/kypher/temp.geography/P131.tsv.gz ...\n",
      "[2021-09-19 22:31:15 query]: SQL Translation:\n",
      "---------------------------------------------\n",
      "  SELECT *\n",
      "     FROM graph_26 AS graph_26_c1\n",
      "     LIMIT ?\n",
      "  PARAS: [2]\n",
      "---------------------------------------------\n",
      "node1\tlabel\tnode2\tid\n",
      "P2618\tP131\tQ3206\tP2618-P131-Q3206\n",
      "P2621\tP131\tQ21\tP2621-P131-Q21\n",
      "       50.38 real        63.64 user         8.42 sys\n"
     ]
    }
   ],
   "source": [
    "!$kypher -i \"$TEMP\"/P131.tsv.gz --as p131 --limit 2"
   ]
  },
  {
   "cell_type": "markdown",
   "metadata": {},
   "source": [
    "Get all node1 in the `P131` relation, as we will use them as roots for `P131star`"
   ]
  },
  {
   "cell_type": "code",
   "execution_count": 108,
   "metadata": {},
   "outputs": [
    {
     "name": "stdout",
     "output_type": "stream",
     "text": [
      "[2021-09-19 22:31:16 query]: SQL Translation:\n",
      "---------------------------------------------\n",
      "  SELECT DISTINCT graph_26_c1.\"node1\" \"_aLias.id\"\n",
      "     FROM graph_26 AS graph_26_c1\n",
      "  PARAS: []\n",
      "---------------------------------------------\n",
      "       39.59 real        38.10 user         1.14 sys\n"
     ]
    }
   ],
   "source": [
    "!$kypher -i p131 \\\n",
    "--match 'p131: (n1)-[]->(n2)' \\\n",
    "--return 'distinct n1 as id' \\\n",
    "-o \"$TEMP\"/p131.node1.tsv.gz"
   ]
  },
  {
   "cell_type": "markdown",
   "metadata": {},
   "source": [
    "Compute `P131star`, which maps every node1 in P131 to all the admin locations that can be reached from it."
   ]
  },
  {
   "cell_type": "code",
   "execution_count": 109,
   "metadata": {},
   "outputs": [
    {
     "name": "stdout",
     "output_type": "stream",
     "text": [
      "    41679.07 real     22700.02 user     19487.15 sys\n"
     ]
    }
   ],
   "source": [
    "!$kgtk reachable-nodes \\\n",
    "    --rootfile \"$TEMP\"/p131.node1.tsv.gz \\\n",
    "    --rootfilecolumn id \\\n",
    "    --label \"P131star\" \\\n",
    "    --selflink \\\n",
    "    -i \"$TEMP\"/P131.tsv.gz \\\n",
    "/ add-id --id-style wikidata \\\n",
    "/ sort \\\n",
    "-o $OUT/derived.P131star.tsv.gz"
   ]
  },
  {
   "cell_type": "markdown",
   "metadata": {},
   "source": [
    "Index `p131star` in kypher"
   ]
  },
  {
   "cell_type": "code",
   "execution_count": 110,
   "metadata": {},
   "outputs": [
    {
     "name": "stdout",
     "output_type": "stream",
     "text": [
      "[2021-09-20 10:06:36 sqlstore]: DROP graph data table graph_24 from p131star\n",
      "[2021-09-20 10:07:40 sqlstore]: IMPORT graph directly into table graph_24 from /Users/pedroszekely/Downloads/kypher/geography/derived.P131star.tsv.gz ...\n",
      "[2021-09-20 10:11:46 query]: SQL Translation:\n",
      "---------------------------------------------\n",
      "  SELECT *\n",
      "     FROM graph_24 AS graph_24_c1\n",
      "     LIMIT ?\n",
      "  PARAS: [2]\n",
      "---------------------------------------------\n",
      "node1\tlabel\tnode2\tid\n",
      "P2618\tP131star\tP2618\tP2618-P131star-P2618\n",
      "P2618\tP131star\tQ3206\tP2618-P131star-Q3206\n",
      "      311.49 real       413.48 user        43.90 sys\n"
     ]
    }
   ],
   "source": [
    "!$kypher -i $OUT/derived.P131star.tsv.gz --as p131star --limit 2"
   ]
  },
  {
   "cell_type": "markdown",
   "metadata": {},
   "source": [
    "Test: get all the admins of Pasadena: Q485176"
   ]
  },
  {
   "cell_type": "code",
   "execution_count": 111,
   "metadata": {},
   "outputs": [
    {
     "name": "stdout",
     "output_type": "stream",
     "text": [
      "[2021-09-20 10:11:47 query]: SQL Translation:\n",
      "---------------------------------------------\n",
      "  SELECT DISTINCT graph_24_c1.\"node2\" \"_aLias.admin\", graph_4_c3.\"node2\" \"_aLias.admin_label\", graph_1_c2.\"node2\" \"_aLias.admin_class\", graph_4_c4.\"node2\" \"_aLias.admin_class_label\"\n",
      "     FROM graph_1 AS graph_1_c2\n",
      "     INNER JOIN graph_24 AS graph_24_c1\n",
      "     ON graph_24_c1.\"node2\" = graph_1_c2.\"node1\"\n",
      "        AND graph_24_c1.\"node1\" = ?\n",
      "     LEFT JOIN graph_4 AS graph_4_c3\n",
      "     ON graph_24_c1.\"node2\" = graph_4_c3.\"node1\"\n",
      "     LEFT JOIN graph_4 AS graph_4_c4\n",
      "     ON graph_1_c2.\"node2\" = graph_4_c4.\"node1\"\n",
      "     ORDER BY \"_aLias.admin_class_label\" ASC\n",
      "  PARAS: ['Q485176']\n",
      "---------------------------------------------\n",
      "[2021-09-20 10:11:47 sqlstore]: CREATE INDEX on table graph_24 column node1 ...\n",
      "[2021-09-20 10:12:13 sqlstore]: ANALYZE INDEX on table graph_24 column node1 ...\n",
      "[2021-09-20 10:12:17 sqlstore]: CREATE INDEX on table graph_24 column node2 ...\n",
      "[2021-09-20 10:13:11 sqlstore]: ANALYZE INDEX on table graph_24 column node2 ...\n",
      "       89.68 real        77.63 user        10.68 sys\n",
      "admin    admin_label                    admin_class  admin_class_label\n",
      "Q485176  'Pasadena'@en                  Q1549591     'big city'@en\n",
      "Q485176  'Pasadena'@en                  Q13218391    'charter city'@en\n",
      "Q485176  'Pasadena'@en                  Q13218357    'city of California'@en\n",
      "Q30      'United States of America'@en  Q1520223     'constitutional republic'@en\n",
      "Q30      'United States of America'@en  Q6256        'country'@en\n",
      "Q104994  'Los Angeles County'@en        Q13212489    'county of California'@en\n",
      "Q30      'United States of America'@en  Q5255892     'democratic republic'@en\n",
      "Q30      'United States of America'@en  Q43702       'federation'@en\n",
      "Q30      'United States of America'@en  Q99541706    'historical unrecognized state'@en\n",
      "Q30      'United States of America'@en  Q3624078     'sovereign state'@en\n",
      "Q99      'California'@en                Q35657       'state of the United States'@en\n",
      "Q30      'United States of America'@en  Q1489259     'superpower'@en\n"
     ]
    }
   ],
   "source": [
    "if debug:\n",
    "    !$kypher -i p131star -i labels -i p31 \\\n",
    "    --match ' \\\n",
    "        p131star: (:Q485176)-[]->(admin), \\\n",
    "        p31: (admin)-[]->(admin_class)' \\\n",
    "    --opt 'labels: (admin)-[]->(admin_label)' \\\n",
    "    --opt 'labels: (admin_class)-[]->(admin_class_label)' \\\n",
    "    --return 'distinct admin as admin, admin_label as admin_label, admin_class as admin_class, admin_class_label as admin_class_label' \\\n",
    "    --order-by 'admin_class_label' \\\n",
    "    | column -t -s $'\\t'"
   ]
  },
  {
   "cell_type": "markdown",
   "metadata": {},
   "source": [
    "##  `derived.P131admin2` map each human settlement to its admin2 `Q13220204`\n",
    "\n",
    "| node1 | label | node2 | id |\n",
    "| -- | -- | -- | -- |\n",
    "| Q100252368 | P131admin1 | Q1588 | Q100252368-P131admin1-Q1588 |\n",
    "| Q1005394 | P131admin1 | Q54171 | Q1005394-P131admin1-Q54171 |\n",
    "| Q100923 | P131admin1 | Q1263 | Q100923-P131admin1-Q1263 |\n",
    "| Q101111580 | P131admin1 | Q34800 | Q101111580-P131admin1-Q34800 |"
   ]
  },
  {
   "cell_type": "raw",
   "metadata": {},
   "source": [
    "!zcat < \"$OUT\"/derived.settlement.P131admin1.tsv.gz | head -5000 | kgtk cat --every-nth-record 1000 | kgtk md"
   ]
  },
  {
   "cell_type": "markdown",
   "metadata": {},
   "source": [
    "Make a list of all human settlements"
   ]
  },
  {
   "cell_type": "code",
   "execution_count": 84,
   "metadata": {},
   "outputs": [
    {
     "name": "stdout",
     "output_type": "stream",
     "text": [
      "[2021-09-19 21:21:19 query]: SQL Translation:\n",
      "---------------------------------------------\n",
      "  SELECT DISTINCT graph_1_c1.\"node1\" \"_aLias.node1\"\n",
      "     FROM graph_1 AS graph_1_c1\n",
      "     INNER JOIN graph_6 AS graph_6_c2\n",
      "     ON graph_1_c1.\"node2\" = graph_6_c2.\"node1\"\n",
      "        AND graph_6_c2.\"node2\" = ?\n",
      "  PARAS: ['Q486972']\n",
      "---------------------------------------------\n",
      "       78.56 real        16.44 user        11.93 sys\n"
     ]
    }
   ],
   "source": [
    "!$kypher -i p31 -i p279star \\\n",
    "--match ' \\\n",
    "    p31: (human_settlement)-[]->(class), \\\n",
    "    p279star: (class)-[]->(:Q486972)' \\\n",
    "--return 'distinct human_settlement as node1' \\\n",
    "-o \"$TEMP\"/human_settlement.tsv.gz"
   ]
  },
  {
   "cell_type": "markdown",
   "metadata": {},
   "source": [
    "Index human_settlement"
   ]
  },
  {
   "cell_type": "code",
   "execution_count": 85,
   "metadata": {},
   "outputs": [
    {
     "name": "stdout",
     "output_type": "stream",
     "text": [
      "[2021-09-19 21:22:38 sqlstore]: DROP graph data table graph_23 from settlement\n",
      "[2021-09-19 21:22:39 sqlstore]: IMPORT graph directly into table graph_23 from /Users/pedroszekely/Downloads/kypher/temp.geography/human_settlement.tsv.gz ...\n",
      "[2021-09-19 21:22:41 query]: SQL Translation:\n",
      "---------------------------------------------\n",
      "  SELECT *\n",
      "     FROM graph_23 AS graph_23_c1\n",
      "     LIMIT ?\n",
      "  PARAS: [2]\n",
      "---------------------------------------------\n",
      "node1\n",
      "Q104214562\n",
      "Q11208543\n",
      "        4.30 real         4.45 user         1.02 sys\n"
     ]
    }
   ],
   "source": [
    "!$kypher -i \"$TEMP\"/human_settlement.tsv.gz --as settlement --limit 2"
   ]
  },
  {
   "cell_type": "markdown",
   "metadata": {},
   "source": [
    "Pick out all the admins that are below admin2 `Q13220204`"
   ]
  },
  {
   "cell_type": "code",
   "execution_count": 112,
   "metadata": {},
   "outputs": [
    {
     "name": "stdout",
     "output_type": "stream",
     "text": [
      "[2021-09-20 10:13:18 query]: SQL Translation:\n",
      "---------------------------------------------\n",
      "  SELECT DISTINCT graph_24_c1.\"node1\" \"_aLias.node1\", ? \"_aLias.label\", graph_24_c1.\"node2\" \"_aLias.node2\"\n",
      "     FROM graph_1 AS graph_1_c2\n",
      "     INNER JOIN graph_24 AS graph_24_c1, graph_6 AS graph_6_c3\n",
      "     ON graph_1_c2.\"node2\" = graph_6_c3.\"node1\"\n",
      "        AND graph_24_c1.\"node2\" = graph_1_c2.\"node1\"\n",
      "        AND graph_6_c3.\"node2\" = ?\n",
      "  PARAS: ['P131admin2', 'Q13220204']\n",
      "---------------------------------------------\n",
      "       71.88 real       100.86 user        13.61 sys\n"
     ]
    }
   ],
   "source": [
    "!$kypher -i p31 -i p131star -i p279star \\\n",
    "--match ' \\\n",
    "    p131star: (x)-[]->(admin), \\\n",
    "    p31: (admin)-[]->(admin_class), \\\n",
    "    p279star: (admin_class)-[]->(:Q13220204)' \\\n",
    "--return 'distinct x as node1, \"P131admin2\" as label, admin as node2' \\\n",
    "/ add-id --id-style wikidata \\\n",
    "/ sort \\\n",
    "-o \"$OUT\"/derived.P131admin2.tsv.gz"
   ]
  },
  {
   "cell_type": "markdown",
   "metadata": {},
   "source": [
    "##  `derived.P131admin1` map each human settlement to its admin1 `Q10864048`\n",
    "\n",
    "| node1 | label | node2 | id |\n",
    "| -- | -- | -- | -- |\n",
    "| Q100252368 | P131admin1 | Q1588 | Q100252368-P131admin1-Q1588 |\n",
    "| Q1005394 | P131admin1 | Q54171 | Q1005394-P131admin1-Q54171 |\n",
    "| Q100923 | P131admin1 | Q1263 | Q100923-P131admin1-Q1263 |\n",
    "| Q101111580 | P131admin1 | Q34800 | Q101111580-P131admin1-Q34800 |"
   ]
  },
  {
   "cell_type": "raw",
   "metadata": {},
   "source": [
    "!zcat < \"$OUT\"/derived.settlement.P131admin1.tsv.gz | head -5000 | kgtk cat --every-nth-record 1000 | kgtk md"
   ]
  },
  {
   "cell_type": "markdown",
   "metadata": {},
   "source": [
    "Pick out the admins that are below admin1 `Q10864048`"
   ]
  },
  {
   "cell_type": "code",
   "execution_count": 113,
   "metadata": {},
   "outputs": [
    {
     "name": "stdout",
     "output_type": "stream",
     "text": [
      "[2021-09-20 10:14:30 query]: SQL Translation:\n",
      "---------------------------------------------\n",
      "  SELECT DISTINCT graph_24_c1.\"node1\" \"_aLias.node1\", ? \"_aLias.label\", graph_24_c1.\"node2\" \"_aLias.node2\"\n",
      "     FROM graph_1 AS graph_1_c2\n",
      "     INNER JOIN graph_24 AS graph_24_c1, graph_6 AS graph_6_c3\n",
      "     ON graph_1_c2.\"node2\" = graph_6_c3.\"node1\"\n",
      "        AND graph_24_c1.\"node2\" = graph_1_c2.\"node1\"\n",
      "        AND graph_6_c3.\"node2\" = ?\n",
      "  PARAS: ['P131admin1', 'Q10864048']\n",
      "---------------------------------------------\n",
      "       89.83 real       145.11 user        13.62 sys\n"
     ]
    }
   ],
   "source": [
    "!$kypher -i p31 -i p131star -i p279star \\\n",
    "--match ' \\\n",
    "    p131star: (x)-[]->(admin), \\\n",
    "    p31: (admin)-[]->(admin_class), \\\n",
    "    p279star: (admin_class)-[]->(:Q10864048)' \\\n",
    "--return 'distinct x as node1, \"P131admin1\" as label, admin as node2' \\\n",
    "/ add-id --id-style wikidata \\\n",
    "/ sort \\\n",
    "-o \"$OUT\"/derived.P131admin1.tsv.gz"
   ]
  },
  {
   "cell_type": "markdown",
   "metadata": {},
   "source": [
    "## `derived.P131country` map each settlement to its country\n",
    "Removes historical country\n",
    "\n",
    "| node1 | label | node2 | id |\n",
    "| -- | -- | -- | -- |\n",
    "| Q1003172 | P131country | Q45 | Q1003172-P131country-Q45 |\n",
    "| Q100701578 | P131country | Q678 | Q100701578-P131country-Q678 |\n",
    "| Q1010068 | P131country | Q219 | Q1010068-P131country-Q219 |\n",
    "| Q101218885 | P131country | Q822 | Q101218885-P131country-Q822 |"
   ]
  },
  {
   "cell_type": "raw",
   "metadata": {},
   "source": [
    "!zcat < \"$OUT\"/derived.settlement.P131country.tsv.gz | head -5000 | kgtk cat --every-nth-record 1000 | kgtk md"
   ]
  },
  {
   "cell_type": "markdown",
   "metadata": {},
   "source": [
    "Pick out all the admin that are countries `Q6256`"
   ]
  },
  {
   "cell_type": "code",
   "execution_count": 114,
   "metadata": {},
   "outputs": [
    {
     "name": "stdout",
     "output_type": "stream",
     "text": [
      "[2021-09-20 10:16:00 query]: SQL Translation:\n",
      "---------------------------------------------\n",
      "  SELECT DISTINCT graph_24_c1.\"node1\" \"_aLias.node1\", ? \"_aLias.label\", graph_24_c1.\"node2\" \"_aLias.node2\"\n",
      "     FROM graph_1 AS graph_1_c2\n",
      "     INNER JOIN graph_24 AS graph_24_c1, graph_6 AS graph_6_c3\n",
      "     ON graph_1_c2.\"node2\" = graph_6_c3.\"node1\"\n",
      "        AND graph_24_c1.\"node2\" = graph_1_c2.\"node1\"\n",
      "        AND graph_6_c3.\"node2\" = ?\n",
      "  PARAS: ['P131country', 'Q6256']\n",
      "---------------------------------------------\n",
      "      154.81 real       220.65 user        17.97 sys\n"
     ]
    }
   ],
   "source": [
    "!$kypher -i p31 -i p131star -i p279star \\\n",
    "--match ' \\\n",
    "    p131star: (x)-[]->(admin), \\\n",
    "    p31: (admin)-[]->(admin_class), \\\n",
    "    p279star: (admin_class)-[]->(:Q6256)' \\\n",
    "--return 'distinct x as node1, \"P131country\" as label, admin as node2' \\\n",
    "/ add-id --id-style wikidata \\\n",
    "/ sort \\\n",
    "-o \"$OUT\"/derived.P131country.tsv.gz"
   ]
  },
  {
   "cell_type": "code",
   "execution_count": null,
   "metadata": {},
   "outputs": [],
   "source": []
  },
  {
   "cell_type": "markdown",
   "metadata": {},
   "source": [
    "## `derived.P131.admin`"
   ]
  },
  {
   "cell_type": "code",
   "execution_count": 120,
   "metadata": {},
   "outputs": [
    {
     "name": "stdout",
     "output_type": "stream",
     "text": [
      "/Users/pedroszekely/Downloads/kypher/geography/derived.P131.admin.tsv.gz\n",
      "/Users/pedroszekely/Downloads/kypher/geography/derived.P131admin1.tsv.gz\n",
      "/Users/pedroszekely/Downloads/kypher/geography/derived.P131admin2.tsv.gz\n",
      "/Users/pedroszekely/Downloads/kypher/geography/derived.P131country.tsv.gz\n",
      "/Users/pedroszekely/Downloads/kypher/geography/derived.P131star.tsv.gz\n"
     ]
    }
   ],
   "source": [
    "!ls \"$OUT\"/derived.P131*.tsv.gz"
   ]
  },
  {
   "cell_type": "code",
   "execution_count": 121,
   "metadata": {},
   "outputs": [
    {
     "name": "stdout",
     "output_type": "stream",
     "text": [
      "      378.64 real       377.09 user         0.92 sys\n"
     ]
    }
   ],
   "source": [
    "!$kgtk cat \\\n",
    "-i \"$OUT\"/derived.P131admin1.tsv.gz \\\n",
    "-i \"$OUT\"/derived.P131admin2.tsv.gz \\\n",
    "-i \"$OUT\"/derived.P131country.tsv.gz \\\n",
    "-o \"$OUT\"/derived.P131.admin.tsv.gz"
   ]
  },
  {
   "cell_type": "markdown",
   "metadata": {},
   "source": [
    "Index `derived.P131.admin`"
   ]
  },
  {
   "cell_type": "code",
   "execution_count": 122,
   "metadata": {},
   "outputs": [
    {
     "name": "stdout",
     "output_type": "stream",
     "text": [
      "[2021-09-20 11:32:06 sqlstore]: DROP graph data table graph_25 from p131admin\n",
      "[2021-09-20 11:32:11 sqlstore]: IMPORT graph directly into table graph_25 from /Users/pedroszekely/Downloads/kypher/geography/derived.P131.admin.tsv.gz ...\n",
      "[2021-09-20 11:34:50 query]: SQL Translation:\n",
      "---------------------------------------------\n",
      "  SELECT *\n",
      "     FROM graph_25 AS graph_25_c1\n",
      "     LIMIT ?\n",
      "  PARAS: [2]\n",
      "---------------------------------------------\n",
      "node1\tlabel\tnode2\tid\n",
      "P2618\tP131admin1\tQ3206\tP2618-P131admin1-Q3206\n",
      "P2621\tP131admin1\tQ21\tP2621-P131admin1-Q21\n",
      "      164.65 real       263.65 user         9.96 sys\n"
     ]
    }
   ],
   "source": [
    "!$kypher -i \"$OUT\"/derived.P131.admin.tsv.gz --as p131admin --limit 2"
   ]
  },
  {
   "cell_type": "markdown",
   "metadata": {},
   "source": [
    "Test"
   ]
  },
  {
   "cell_type": "code",
   "execution_count": 123,
   "metadata": {},
   "outputs": [
    {
     "name": "stdout",
     "output_type": "stream",
     "text": [
      "[2021-09-20 11:34:51 query]: SQL Translation:\n",
      "---------------------------------------------\n",
      "  SELECT *\n",
      "     FROM graph_25 AS graph_25_c1\n",
      "     WHERE graph_25_c1.\"label\" = ?\n",
      "        AND graph_25_c1.\"node1\" = ?\n",
      "  PARAS: ['P131country', 'Q485176']\n",
      "---------------------------------------------\n",
      "[2021-09-20 11:34:51 sqlstore]: CREATE INDEX on table graph_25 column node1 ...\n",
      "[2021-09-20 11:35:10 sqlstore]: ANALYZE INDEX on table graph_25 column node1 ...\n",
      "[2021-09-20 11:35:13 sqlstore]: CREATE INDEX on table graph_25 column label ...\n",
      "[2021-09-20 11:35:30 sqlstore]: ANALYZE INDEX on table graph_25 column label ...\n",
      "node1\tlabel\tnode2\tid\n",
      "Q485176\tP131country\tQ30\tQ485176-P131country-Q30\n",
      "       43.44 real        33.12 user         8.25 sys\n"
     ]
    }
   ],
   "source": [
    "!$kypher -i p131admin -i labels \\\n",
    "--match 'p131admin: (:Q485176)-[:P131country]->(country)'"
   ]
  },
  {
   "cell_type": "code",
   "execution_count": null,
   "metadata": {},
   "outputs": [],
   "source": []
  },
  {
   "cell_type": "markdown",
   "metadata": {},
   "source": [
    "Something to worry about: some countries have end times:"
   ]
  },
  {
   "cell_type": "code",
   "execution_count": 102,
   "metadata": {},
   "outputs": [
    {
     "name": "stdout",
     "output_type": "stream",
     "text": [
      "[2021-09-19 22:10:14 query]: SQL Translation:\n",
      "---------------------------------------------\n",
      "  SELECT graph_1_c1.\"node1\", graph_4_c4.\"node2\", graph_4_c5.\"node2\", graph_7_c3.\"node2\"\n",
      "     FROM graph_1 AS graph_1_c1\n",
      "     INNER JOIN graph_1 AS graph_1_c2, graph_4 AS graph_4_c4, graph_4 AS graph_4_c5, graph_7 AS graph_7_c3\n",
      "     ON graph_1_c1.\"node1\" = graph_1_c2.\"node1\"\n",
      "        AND graph_1_c1.\"node1\" = graph_4_c4.\"node1\"\n",
      "        AND graph_1_c2.\"id\" = graph_7_c3.\"node1\"\n",
      "        AND graph_1_c2.\"node2\" = graph_4_c5.\"node1\"\n",
      "        AND graph_1_c1.\"node2\" = ?\n",
      "        AND graph_7_c3.\"label\" = ?\n",
      "     LIMIT ?\n",
      "  PARAS: ['Q6256', 'P582', 20]\n",
      "---------------------------------------------\n",
      "node1\tnode2\tnode2\tnode2\n",
      "Q1000\t'Gabon'@en\t'French colonial empire'@en\t^1960-01-01T00:00:00Z/9\n",
      "Q1029\t'Mozambique'@en\t'overseas province of Portugal'@en\t^1975-06-24T00:00:00Z/11\n",
      "Q1146786\t'Señorío of Cuzcatlán'@en\t'country'@en\t^1528-01-01T00:00:00Z/9\n",
      "Q1155700\t'Rattanakosin Kingdom'@en\t'country'@en\t^1932-06-24T00:00:00Z/11\n",
      "Q12548\t'Holy Roman Empire'@en\t'sovereign state'@en\t^1806-01-01T00:00:00Z/9\n",
      "Q139377\t'Kingdom of Aksum'@en\t'realm'@en\t^0960-01-01T00:00:00Z/9\n",
      "Q139377\t'Kingdom of Aksum'@en\t'country'@en\t^0960-01-01T00:00:00Z/9\n",
      "Q142\t'France'@en\t'colonial power'@en\t^1960-01-01T00:00:00Z/9\n",
      "Q16\t'Canada'@en\t'dominion of the British Empire'@en\t^1931-01-01T00:00:00Z/9\n",
      "Q172640\t'North Vietnam'@en\t'self-proclaimed state'@en\t^1954-01-01T00:00:00Z/9\n",
      "Q172640\t'North Vietnam'@en\t'sovereign state'@en\t^1976-01-01T00:00:00Z/9\n",
      "Q180573\t'South Vietnam'@en\t'sovereign state'@en\t^1975-01-01T00:00:00Z/9\n",
      "Q189988\t'Central African Empire'@en\t'sovereign state'@en\t^1979-09-20T00:00:00Z/11\n",
      "Q213353\t'Cisalpine Republic'@en\t'country'@en\t^1802-01-01T00:00:00Z/9\n",
      "Q2741089\t'Greater Republic of Central America'@en\t'country'@en\t^1898-08-27T00:00:00Z/11\n",
      "Q30\t'United States of America'@en\t'historical unrecognized state'@en\t^1784-05-12T00:00:00Z/11\n",
      "Q31\t'Belgium'@en\t'colonial power'@en\t^1960-01-01T00:00:00Z/9\n",
      "Q3167772\t'Kingdom of Polonnaruwa'@en\t'country'@en\t^1310-01-01T00:00:00Z/9\n",
      "Q31747\t'Irish Free State'@en\t'country'@en\t^1937-12-29T00:00:00Z/11\n",
      "Q39\t'Switzerland'@en\t'confederation'@en\t^1815-08-07T00:00:00Z/11\n",
      "        0.96 real         0.77 user         0.15 sys\n"
     ]
    }
   ],
   "source": [
    "!$kypher -i p31 -i labels -i qualifiers \\\n",
    "--match ' \\\n",
    "    p31: (country)-[]->(:Q6256), \\\n",
    "    p31: (country)-[r]->(class), \\\n",
    "    qualifiers: (r)-[:P582]->(endtime), \\\n",
    "    labels: (country)-[]->(country_label), \\\n",
    "    labels: (class)-[]->(class_label)' \\\n",
    "--return 'country, country_label, class_label, endtime' \\\n",
    "--limit 20"
   ]
  },
  {
   "cell_type": "code",
   "execution_count": null,
   "metadata": {},
   "outputs": [],
   "source": []
  },
  {
   "cell_type": "code",
   "execution_count": null,
   "metadata": {},
   "outputs": [],
   "source": []
  },
  {
   "cell_type": "code",
   "execution_count": null,
   "metadata": {},
   "outputs": [],
   "source": []
  },
  {
   "cell_type": "code",
   "execution_count": null,
   "metadata": {},
   "outputs": [],
   "source": []
  },
  {
   "cell_type": "code",
   "execution_count": null,
   "metadata": {},
   "outputs": [],
   "source": []
  },
  {
   "cell_type": "code",
   "execution_count": null,
   "metadata": {},
   "outputs": [],
   "source": []
  },
  {
   "cell_type": "markdown",
   "metadata": {},
   "source": [
    "Import the file into the kypher index and give it the alias `admin1`"
   ]
  },
  {
   "cell_type": "code",
   "execution_count": 15,
   "metadata": {},
   "outputs": [
    {
     "name": "stdout",
     "output_type": "stream",
     "text": [
      "[2021-08-08 19:36:34 sqlstore]: IMPORT graph directly into table graph_29 from /Users/pedroszekely/Downloads/kypher/geography/derived.settlement.P131admin1.tsv.gz ...\n",
      "[2021-08-08 19:36:38 query]: SQL Translation:\n",
      "---------------------------------------------\n",
      "  SELECT *\n",
      "     FROM graph_29 AS graph_29_c1\n",
      "     LIMIT ?\n",
      "  PARAS: [3]\n",
      "---------------------------------------------\n",
      "node1\tlabel\tnode2\tid\n",
      "Q100\tP131admin1\tQ771\tQ100-P131admin1-Q771\n",
      "Q100000\tP131admin1\tQ1093\tQ100000-P131admin1-Q1093\n",
      "Q1000003\tP131admin1\tQ16987\tQ1000003-P131admin1-Q16987\n",
      "        5.72 real         5.92 user         0.36 sys\n"
     ]
    }
   ],
   "source": [
    "!$kypher -i \"$OUT\"/derived.settlement.P131admin1.tsv.gz --as settlementadmin1 --limit 3"
   ]
  },
  {
   "cell_type": "markdown",
   "metadata": {},
   "source": [
    "# Aliases for cities"
   ]
  },
  {
   "cell_type": "markdown",
   "metadata": {},
   "source": [
    "### `derived.alias.settlement.admin1.full.tsv`\n",
    "\n",
    "| node1 | label | node2 | id |\n",
    "| -- | -- | -- | -- |\n",
    "| Q100349105 | alias | 'Colonnacce Roman villa, Lazio'@en | Q100349105-alias-44bd19 |\n",
    "| Q1007434 | alias | 'Frangovo, Struga Municipality'@en | Q1007434-alias-1a7cbb |\n",
    "| Q101071309 | alias | '50-76 Stryiska Street, Lviv, Lwów Voivodeship'@en | Q101071309-alias-6c36ec |\n",
    "| Q1012440 | alias | 'Ranong, Ranong'@en | Q1012440-alias-2af390 |"
   ]
  },
  {
   "cell_type": "raw",
   "metadata": {},
   "source": [
    "!zcat < \"$OUT\"/derived.alias.settlement.admin1.full.tsv.gz | head -5000 | kgtk cat --every-nth-record 1000 | kgtk md"
   ]
  },
  {
   "cell_type": "code",
   "execution_count": 25,
   "metadata": {},
   "outputs": [
    {
     "name": "stdout",
     "output_type": "stream",
     "text": [
      "[2021-08-08 19:42:19 query]: SQL Translation:\n",
      "---------------------------------------------\n",
      "  SELECT DISTINCT graph_29_c1.\"node1\" \"_aLias.node1\", ? \"_aLias.label\", kgtk_stringify(printf(?, kgtk_lqstring_text(graph_5_c2.\"node2\"), kgtk_lqstring_text(graph_5_c3.\"node2\"))) \"_aLias.node2;kgtk:text\", ? \"_aLias.node2;kgtk:language\", ? \"_aLias.node2;kgtk:data_type\"\n",
      "     FROM graph_29 AS graph_29_c1\n",
      "     INNER JOIN graph_5 AS graph_5_c2, graph_5 AS graph_5_c3\n",
      "     ON graph_29_c1.\"node1\" = graph_5_c2.\"node1\"\n",
      "        AND graph_29_c1.\"node2\" = graph_5_c3.\"node1\"\n",
      "  PARAS: ['alias', '%s, %s', 'en', 'language_qualified_string']\n",
      "---------------------------------------------\n",
      "[2021-08-08 19:42:19 sqlstore]: CREATE INDEX on table graph_29 column node1 ...\n",
      "[2021-08-08 19:42:20 sqlstore]: ANALYZE INDEX on table graph_29 column node1 ...\n",
      "[2021-08-08 19:42:20 sqlstore]: CREATE INDEX on table graph_29 column node2 ...\n",
      "[2021-08-08 19:42:21 sqlstore]: ANALYZE INDEX on table graph_29 column node2 ...\n",
      "       72.89 real        41.01 user        13.43 sys\n"
     ]
    }
   ],
   "source": [
    "!$kypher -i settlementadmin1 -i labels \\\n",
    "--match '\\\n",
    "    settlementadmin1: (settlement)-[]->(admin1), \\\n",
    "    labels: (settlement)-[]->(settlement_label), \\\n",
    "    labels: (admin1)-[]->(admin1_label)' \\\n",
    "--return 'distinct settlement as node1, \"alias\" as label, \\\n",
    "    kgtk_stringify(printf(\"%s, %s\", kgtk_lqstring_text(settlement_label), kgtk_lqstring_text(admin1_label))) as `node2;kgtk:text`, \\\n",
    "    \"en\" as `node2;kgtk:language`, \\\n",
    "    \"language_qualified_string\" as `node2;kgtk:data_type`' \\\n",
    "/ implode -i - --mode NONE --types language_qualified_string --without language_suffix --remove-prefixed-columns True \\\n",
    "/ add-id --id-style wikidata \\\n",
    "/ sort \\\n",
    "-o \"$OUT\"/derived.alias.settlement.admin1.full.tsv.gz"
   ]
  },
  {
   "cell_type": "markdown",
   "metadata": {},
   "source": [
    "### `derived.alias.settlement.admin1.short.tsv`\n",
    "Use the  short name (`P1813`) of the admin as the label\n",
    "\n",
    "| node1 | label | node2 | id |\n",
    "| -- | -- | -- | -- |\n",
    "| Q1012017 | alias | 'Plainfield, IL'@en | Q1012017-alias-28be4a |\n",
    "| Q1020218 | alias | 'Princeton, C.-B.'@en | Q1020218-alias-f54afb |\n",
    "| Q1029922 | alias | 'Camp Pendleton North, Cal.'@en | Q1029922-alias-3876ac |\n",
    "| Q1052502 | alias | 'Cedar Grove, IN'@en | Q1052502-alias-b1d922 |"
   ]
  },
  {
   "cell_type": "raw",
   "metadata": {},
   "source": [
    "!zcat < \"$OUT\"/derived.alias.settlement.admin1.short.tsv.gz | head -5000 | kgtk cat --every-nth-record 1000 | kgtk md"
   ]
  },
  {
   "cell_type": "raw",
   "metadata": {},
   "source": [
    "# Development query\n",
    "!$kypher -i admin1 -i monolingual -i labels \\\n",
    "--match '\\\n",
    "    admin1: (settlement)-[]->(admin1), \\\n",
    "    labels: (settlement)-[]->(settlement_label), \\\n",
    "    monolingual: (admin1)-[:P1813]->(admin1_short_label)' \\\n",
    "--return 'distinct settlement as node1, \"alias\" as label, \\\n",
    "    kgtk_stringify(printf(\"%s, %s\", kgtk_lqstring_text(settlement_label), kgtk_lqstring_text(admin1_short_label))) as `node2;kgtk:text`, \\\n",
    "    \"en\" as `node2;kgtk:language`, \\\n",
    "    \"language_qualified_string\" as `node2;kgtk:data_type`' \\\n",
    "--limit 10 \\\n",
    "/ implode -i - --mode NONE --types language_qualified_string --without language_suffix --remove-prefixed-columns True "
   ]
  },
  {
   "cell_type": "code",
   "execution_count": 26,
   "metadata": {},
   "outputs": [
    {
     "name": "stdout",
     "output_type": "stream",
     "text": [
      "[2021-08-08 19:43:28 query]: SQL Translation:\n",
      "---------------------------------------------\n",
      "  SELECT DISTINCT graph_29_c1.\"node1\" \"_aLias.node1\", ? \"_aLias.label\", kgtk_stringify(printf(?, kgtk_lqstring_text(graph_5_c2.\"node2\"), kgtk_lqstring_text(graph_27_c3.\"node2\"))) \"_aLias.node2;kgtk:text\", ? \"_aLias.node2;kgtk:language\", ? \"_aLias.node2;kgtk:data_type\"\n",
      "     FROM graph_27 AS graph_27_c3\n",
      "     INNER JOIN graph_29 AS graph_29_c1, graph_5 AS graph_5_c2\n",
      "     ON graph_29_c1.\"node1\" = graph_5_c2.\"node1\"\n",
      "        AND graph_29_c1.\"node2\" = graph_27_c3.\"node1\"\n",
      "        AND graph_27_c3.\"label\" = ?\n",
      "  PARAS: ['alias', '%s, %s', 'en', 'language_qualified_string', 'P1813']\n",
      "---------------------------------------------\n",
      "       15.60 real        23.66 user         3.00 sys\n"
     ]
    }
   ],
   "source": [
    "!$kypher -i settlementadmin1 -i monolingual -i labels \\\n",
    "--match '\\\n",
    "    settlementadmin1: (settlement)-[]->(admin1), \\\n",
    "    labels: (settlement)-[]->(settlement_label), \\\n",
    "    monolingual: (admin1)-[:P1813]->(admin1_short_label)' \\\n",
    "--return 'distinct settlement as node1, \"alias\" as label, \\\n",
    "    kgtk_stringify(printf(\"%s, %s\", kgtk_lqstring_text(settlement_label), kgtk_lqstring_text(admin1_short_label))) as `node2;kgtk:text`, \\\n",
    "    \"en\" as `node2;kgtk:language`, \\\n",
    "    \"language_qualified_string\" as `node2;kgtk:data_type`' \\\n",
    "/ implode -i - --mode NONE --types language_qualified_string --without language_suffix --remove-prefixed-columns True \\\n",
    "/ add-id --id-style wikidata \\\n",
    "/ sort \\\n",
    "-o \"$OUT\"/derived.alias.settlement.admin1.short.tsv.gz"
   ]
  },
  {
   "cell_type": "markdown",
   "metadata": {},
   "source": [
    "### `derived.alias.settlement.admin1.iso.tsv`\n",
    "\n",
    "Use the iso code (`P300`) of the admin as the label, after removing the country part of the code\n",
    "\n",
    "| node1 | label | node2 | id |\n",
    "| -- | -- | -- | -- |\n",
    "| Q1003425 | alias | 'Fourneaux, P'@en | Q1003425-alias-f75f90 |\n",
    "| Q1007427 | alias | 'La Lande-de-Fronsac, B'@en | Q1007427-alias-0eaf01 |\n",
    "| Q101073 | alias | 'Foresto Sparso, 25'@en | Q101073-alias-b6bf2f |\n",
    "| Q1012377 | alias | 'Fabryczna, LB'@en | Q1012377-alias-e30d31 |"
   ]
  },
  {
   "cell_type": "raw",
   "metadata": {},
   "source": [
    "!zcat < \"$OUT\"/derived.alias.settlement.admin1.iso.tsv.gz | head -5000 | kgtk cat --every-nth-record 1000 | kgtk md"
   ]
  },
  {
   "cell_type": "raw",
   "metadata": {},
   "source": [
    "# Development query\n",
    "!$kypher -i admin1 -i external_ids -i labels \\\n",
    "--match '\\\n",
    "    admin1: (settlement)-[]->(admin1), \\\n",
    "    labels: (settlement)-[]->(settlement_label), \\\n",
    "    external_ids: (admin1)-[:P300]->(iso_code)' \\\n",
    "--return 'distinct settlement as node1, \"alias\" as label, \\\n",
    "    kgtk_stringify(printf(\"%s, %s\", kgtk_lqstring_text(settlement_label), substr(kgtk_unstringify(iso_code), 4))) as `node2;kgtk:text`, \\\n",
    "    \"en\" as `node2;kgtk:language`, \\\n",
    "    \"language_qualified_string\" as `node2;kgtk:data_type`' \\\n",
    "--limit 10 \\\n",
    "/ implode -i - --mode NONE --types language_qualified_string --without language_suffix --remove-prefixed-columns True "
   ]
  },
  {
   "cell_type": "code",
   "execution_count": 27,
   "metadata": {},
   "outputs": [
    {
     "name": "stdout",
     "output_type": "stream",
     "text": [
      "[2021-08-08 19:43:45 query]: SQL Translation:\n",
      "---------------------------------------------\n",
      "  SELECT DISTINCT graph_29_c1.\"node1\" \"_aLias.node1\", ? \"_aLias.label\", kgtk_stringify(printf(?, kgtk_lqstring_text(graph_5_c2.\"node2\"), substr(kgtk_unstringify(graph_7_c3.\"node2\"), ?))) \"_aLias.node2;kgtk:text\", ? \"_aLias.node2;kgtk:language\", ? \"_aLias.node2;kgtk:data_type\"\n",
      "     FROM graph_29 AS graph_29_c1\n",
      "     INNER JOIN graph_5 AS graph_5_c2, graph_7 AS graph_7_c3\n",
      "     ON graph_29_c1.\"node1\" = graph_5_c2.\"node1\"\n",
      "        AND graph_29_c1.\"node2\" = graph_7_c3.\"node1\"\n",
      "        AND graph_7_c3.\"label\" = ?\n",
      "  PARAS: ['alias', '%s, %s', 4, 'en', 'language_qualified_string', 'P300']\n",
      "---------------------------------------------\n",
      "       29.17 real        36.65 user         4.48 sys\n"
     ]
    }
   ],
   "source": [
    "!$kypher -i settlementadmin1 -i external_ids -i labels \\\n",
    "--match '\\\n",
    "    settlementadmin1: (settlement)-[]->(admin1), \\\n",
    "    labels: (settlement)-[]->(settlement_label), \\\n",
    "    external_ids: (admin1)-[:P300]->(iso_code)' \\\n",
    "--return 'distinct settlement as node1, \"alias\" as label, \\\n",
    "    kgtk_stringify(printf(\"%s, %s\", kgtk_lqstring_text(settlement_label), substr(kgtk_unstringify(iso_code), 4))) as `node2;kgtk:text`, \\\n",
    "    \"en\" as `node2;kgtk:language`, \\\n",
    "    \"language_qualified_string\" as `node2;kgtk:data_type`' \\\n",
    "/ implode -i - --mode NONE --types language_qualified_string --without language_suffix --remove-prefixed-columns True \\\n",
    "/ add-id --id-style wikidata \\\n",
    "/ sort \\\n",
    "-o \"$OUT\"/derived.alias.settlement.admin1.iso.tsv.gz"
   ]
  },
  {
   "cell_type": "markdown",
   "metadata": {},
   "source": [
    "### `derived.alias.city.country.tsv`\n",
    "\n",
    "Produce \"city, country\" aliases for big cities\n",
    "\n",
    "| node1 | label | node2 | id |\n",
    "| -- | -- | -- | -- |\n",
    "| Q1023481 | alias | 'Ocilla, United States of America'@en | Q1023481-alias-51eee8 |\n",
    "| Q1160417 | alias | 'Lébény, Hungary'@en | Q1160417-alias-e1447f |\n",
    "| Q1341 | alias | 'Tolyatti, Soviet Union'@en | Q1341-alias-e387a3 |\n",
    "| Q151920 | alias | 'Tiberias, Mandatory Palestine'@en | Q151920-alias-0fb665 |"
   ]
  },
  {
   "cell_type": "raw",
   "metadata": {},
   "source": [
    "!zcat < \"$OUT\"/derived.alias.city.country.tsv.gz | head -5000 | kgtk cat --every-nth-record 1000 | kgtk md"
   ]
  },
  {
   "cell_type": "markdown",
   "metadata": {},
   "source": [
    "Produce city/country aliases for all cities (Q515) and all countries"
   ]
  },
  {
   "cell_type": "code",
   "execution_count": 28,
   "metadata": {},
   "outputs": [
    {
     "name": "stdout",
     "output_type": "stream",
     "text": [
      "[2021-08-08 19:44:15 query]: SQL Translation:\n",
      "---------------------------------------------\n",
      "  SELECT DISTINCT graph_3_c1.\"node1\" \"_aLias.node1\", ? \"_aLias.label\", kgtk_stringify(printf(?, kgtk_lqstring_text(graph_5_c4.\"node2\"), kgtk_lqstring_text(graph_5_c5.\"node2\"), ?)) \"_aLias.node2;kgtk:text\", ? \"_aLias.node2;kgtk:language\", ? \"_aLias.node2;kgtk:data_type\"\n",
      "     FROM graph_1 AS graph_1_c3\n",
      "     INNER JOIN graph_3 AS graph_3_c1, graph_5 AS graph_5_c4, graph_5 AS graph_5_c5, graph_6 AS graph_6_c2\n",
      "     ON graph_1_c3.\"node2\" = graph_5_c5.\"node1\"\n",
      "        AND graph_3_c1.\"node1\" = graph_1_c3.\"node1\"\n",
      "        AND graph_3_c1.\"node1\" = graph_5_c4.\"node1\"\n",
      "        AND graph_3_c1.\"node2\" = graph_6_c2.\"node1\"\n",
      "        AND graph_1_c3.\"label\" = ?\n",
      "        AND graph_6_c2.\"node2\" = ?\n",
      "  PARAS: ['alias', '%s, %s', 4, 'en', 'language_qualified_string', 'P17', 'Q515']\n",
      "---------------------------------------------\n",
      "       31.83 real         8.04 user         4.59 sys\n"
     ]
    }
   ],
   "source": [
    "# Q515: city\n",
    "!$kypher -i p31 -i p279star -i items -i labels \\\n",
    "--match ' \\\n",
    "    p31: (city)-[]->(city_class), \\\n",
    "    p279star: (city_class)-[]->(:Q515), \\\n",
    "    items: (city)-[:P17]->(country), \\\n",
    "    labels: (city)-[]->(city_label), \\\n",
    "    labels: (country)-[]->(country_label)' \\\n",
    "--return 'distinct city as node1, \"alias\" as label, \\\n",
    "    kgtk_stringify(printf(\"%s, %s\", kgtk_lqstring_text(city_label), kgtk_lqstring_text(country_label), 4)) as `node2;kgtk:text`, \\\n",
    "    \"en\" as `node2;kgtk:language`, \\\n",
    "    \"language_qualified_string\" as `node2;kgtk:data_type`' \\\n",
    "/ implode -i - --mode NONE --types language_qualified_string --without language_suffix --remove-prefixed-columns True \\\n",
    "/ add-id --id-style wikidata \\\n",
    "/ sort \\\n",
    "-o \"$OUT\"/derived.alias.city.country.tsv.gz"
   ]
  },
  {
   "cell_type": "markdown",
   "metadata": {},
   "source": [
    "### `derived.alias.city.us.tsv`\n",
    "\n",
    "For the US, produce special files that use `USA` and `United States` in addition to the official name `United States of America`\n",
    "\n",
    "| node1 | label | node2 | id |\n",
    "| -- | -- | -- | -- |\n",
    "| Q100 | alias | 'Boston, United States'@en | Q100-alias-d454d3 |\n",
    "| Q100 | alias | 'Boston, USA'@en | Q100-alias-fd19d4 |\n",
    "| Q1000030 | alias | 'Orange City, USA'@en | Q1000030-alias-63cb74 |\n",
    "| Q1000030 | alias | 'Orange City, United States'@en | Q1000030-alias-a00c53 |\n",
    "| Q1000065 | alias | 'Neosho, USA'@en | Q1000065-alias-3631c0 |\n",
    "| Q1000065 | alias | 'Neosho, United States'@en | Q1000065-alias-6be460 |"
   ]
  },
  {
   "cell_type": "markdown",
   "metadata": {},
   "source": [
    "!zcat < \"$OUT\"/derived.alias.city.us.tsv.gz | head -7 | kgtk md"
   ]
  },
  {
   "cell_type": "raw",
   "metadata": {},
   "source": [
    "# development query\n",
    "!$kypher -i p31 -i p279star -i items -i labels \\\n",
    "--match ' \\\n",
    "    p31: (city)-[]->(city_class), \\\n",
    "    p279star: (city_class)-[]->(:Q515), \\\n",
    "    items: (city)-[:P17]->(:Q30), \\\n",
    "    labels: (city)-[]->(city_label)' \\\n",
    "--return 'distinct city as node1, \"alias\" as label, \\\n",
    "    kgtk_stringify(printf(\"%s, USA\", kgtk_lqstring_text(city_label))) as `node2;kgtk:text`, \\\n",
    "    \"en\" as `node2;kgtk:language`, \\\n",
    "    \"language_qualified_string\" as `node2;kgtk:data_type`' \\\n",
    "--limit 3 \\\n",
    "/ implode -i - --mode NONE --types language_qualified_string --without language_suffix --remove-prefixed-columns True \\"
   ]
  },
  {
   "cell_type": "code",
   "execution_count": 29,
   "metadata": {},
   "outputs": [
    {
     "name": "stdout",
     "output_type": "stream",
     "text": [
      "[2021-08-08 19:44:46 query]: SQL Translation:\n",
      "---------------------------------------------\n",
      "  SELECT DISTINCT graph_3_c1.\"node1\" \"_aLias.node1\", ? \"_aLias.label\", kgtk_stringify(printf(?, kgtk_lqstring_text(graph_5_c4.\"node2\"))) \"_aLias.node2;kgtk:text\", ? \"_aLias.node2;kgtk:language\", ? \"_aLias.node2;kgtk:data_type\"\n",
      "     FROM graph_1 AS graph_1_c3\n",
      "     INNER JOIN graph_3 AS graph_3_c1, graph_5 AS graph_5_c4, graph_6 AS graph_6_c2\n",
      "     ON graph_3_c1.\"node1\" = graph_1_c3.\"node1\"\n",
      "        AND graph_3_c1.\"node1\" = graph_5_c4.\"node1\"\n",
      "        AND graph_3_c1.\"node2\" = graph_6_c2.\"node1\"\n",
      "        AND graph_1_c3.\"label\" = ?\n",
      "        AND graph_1_c3.\"node2\" = ?\n",
      "        AND graph_6_c2.\"node2\" = ?\n",
      "  PARAS: ['alias', '%s, USA', 'en', 'language_qualified_string', 'P17', 'Q30', 'Q515']\n",
      "---------------------------------------------\n",
      "      229.66 real        23.15 user        33.65 sys\n"
     ]
    }
   ],
   "source": [
    "!$kypher -i p31 -i p279star -i items -i labels \\\n",
    "--match ' \\\n",
    "    p31: (city)-[]->(city_class), \\\n",
    "    p279star: (city_class)-[]->(:Q515), \\\n",
    "    items: (city)-[:P17]->(:Q30), \\\n",
    "    labels: (city)-[]->(city_label)' \\\n",
    "--return 'distinct city as node1, \"alias\" as label, \\\n",
    "    kgtk_stringify(printf(\"%s, USA\", kgtk_lqstring_text(city_label))) as `node2;kgtk:text`, \\\n",
    "    \"en\" as `node2;kgtk:language`, \\\n",
    "    \"language_qualified_string\" as `node2;kgtk:data_type`' \\\n",
    "/ implode -i - --mode NONE --types language_qualified_string --without language_suffix --remove-prefixed-columns True \\\n",
    "/ add-id --id-style wikidata \\\n",
    "/ sort \\\n",
    "-o \"$TEMP\"/derived.alias.city.USA.tsv.gz"
   ]
  },
  {
   "cell_type": "raw",
   "metadata": {},
   "source": [
    "# development query\n",
    "!$kypher -i p31 -i p279star -i items -i labels \\\n",
    "--match ' \\\n",
    "    p31: (city)-[]->(city_class), \\\n",
    "    p279star: (city_class)-[]->(:Q515), \\\n",
    "    items: (city)-[:P17]->(:Q30), \\\n",
    "    labels: (city)-[]->(city_label)' \\\n",
    "--return 'distinct city as node1, \"alias\" as label, \\\n",
    "    kgtk_stringify(printf(\"%s, United States\", kgtk_lqstring_text(city_label))) as `node2;kgtk:text`, \\\n",
    "    \"en\" as `node2;kgtk:language`, \\\n",
    "    \"language_qualified_string\" as `node2;kgtk:data_type`' \\\n",
    "--limit 3 \\\n",
    "/ implode -i - --mode NONE --types language_qualified_string --without language_suffix --remove-prefixed-columns True \\"
   ]
  },
  {
   "cell_type": "code",
   "execution_count": 30,
   "metadata": {},
   "outputs": [
    {
     "name": "stdout",
     "output_type": "stream",
     "text": [
      "[2021-08-08 19:48:37 query]: SQL Translation:\n",
      "---------------------------------------------\n",
      "  SELECT DISTINCT graph_3_c1.\"node1\" \"_aLias.node1\", ? \"_aLias.label\", kgtk_stringify(printf(?, kgtk_lqstring_text(graph_5_c4.\"node2\"))) \"_aLias.node2;kgtk:text\", ? \"_aLias.node2;kgtk:language\", ? \"_aLias.node2;kgtk:data_type\"\n",
      "     FROM graph_1 AS graph_1_c3\n",
      "     INNER JOIN graph_3 AS graph_3_c1, graph_5 AS graph_5_c4, graph_6 AS graph_6_c2\n",
      "     ON graph_3_c1.\"node1\" = graph_1_c3.\"node1\"\n",
      "        AND graph_3_c1.\"node1\" = graph_5_c4.\"node1\"\n",
      "        AND graph_3_c1.\"node2\" = graph_6_c2.\"node1\"\n",
      "        AND graph_1_c3.\"label\" = ?\n",
      "        AND graph_1_c3.\"node2\" = ?\n",
      "        AND graph_6_c2.\"node2\" = ?\n",
      "  PARAS: ['alias', '%s, United States', 'en', 'language_qualified_string', 'P17', 'Q30', 'Q515']\n",
      "---------------------------------------------\n",
      "      227.90 real        23.58 user        34.32 sys\n"
     ]
    }
   ],
   "source": [
    "!$kypher -i p31 -i p279star -i items -i labels \\\n",
    "--match ' \\\n",
    "    p31: (city)-[]->(city_class), \\\n",
    "    p279star: (city_class)-[]->(:Q515), \\\n",
    "    items: (city)-[:P17]->(:Q30), \\\n",
    "    labels: (city)-[]->(city_label)' \\\n",
    "--return 'distinct city as node1, \"alias\" as label, \\\n",
    "    kgtk_stringify(printf(\"%s, United States\", kgtk_lqstring_text(city_label))) as `node2;kgtk:text`, \\\n",
    "    \"en\" as `node2;kgtk:language`, \\\n",
    "    \"language_qualified_string\" as `node2;kgtk:data_type`' \\\n",
    "/ implode -i - --mode NONE --types language_qualified_string --without language_suffix --remove-prefixed-columns True \\\n",
    "/ add-id --id-style wikidata \\\n",
    "/ sort \\\n",
    "-o \"$TEMP\"/derived.alias.city.united_states.tsv.gz"
   ]
  },
  {
   "cell_type": "markdown",
   "metadata": {},
   "source": [
    "Combine the files for the US into one file, as it might be useful by itself"
   ]
  },
  {
   "cell_type": "code",
   "execution_count": 31,
   "metadata": {},
   "outputs": [
    {
     "name": "stdout",
     "output_type": "stream",
     "text": [
      "        2.53 real         2.65 user         0.67 sys\n"
     ]
    }
   ],
   "source": [
    "!$kgtk cat \\\n",
    "    -i \"$TEMP\"/derived.alias.city.USA.tsv.gz \\\n",
    "    -i \"$TEMP\"/derived.alias.city.united_states.tsv.gz \\\n",
    "/ sort \\\n",
    "-o \"$OUT\"/derived.alias.city.us.tsv.gz"
   ]
  },
  {
   "cell_type": "markdown",
   "metadata": {},
   "source": [
    "### `derived.alias.settlement.tsv` \n",
    "Combined file of all aliases for cities"
   ]
  },
  {
   "cell_type": "code",
   "execution_count": 32,
   "metadata": {},
   "outputs": [
    {
     "name": "stdout",
     "output_type": "stream",
     "text": [
      "       34.96 real        40.74 user         1.17 sys\n"
     ]
    }
   ],
   "source": [
    "!$kgtk cat \\\n",
    "    -i \"$OUT\"/derived.alias.settlement.admin1.iso.tsv.gz \\\n",
    "    -i \"$OUT\"/derived.alias.settlement.admin1.short.tsv.gz \\\n",
    "    -i \"$OUT\"/derived.alias.settlement.admin1.full.tsv.gz \\\n",
    "    -i \"$OUT\"/derived.alias.city.country.tsv.gz \\\n",
    "    -i \"$OUT\"/derived.alias.city.us.tsv.gz \\\n",
    "/ compact -i - --deduplicate --build-id --id-style wikidata \\\n",
    "-o \"$OUT\"/derived.alias.settlement.tsv.gz"
   ]
  },
  {
   "cell_type": "code",
   "execution_count": 33,
   "metadata": {},
   "outputs": [
    {
     "name": "stdout",
     "output_type": "stream",
     "text": [
      "\n",
      "====================================================\n",
      "Data lines read: 1364775\n",
      "Data lines passed: 1364775\n",
      "       77.01 real        75.92 user         0.38 sys\n"
     ]
    }
   ],
   "source": [
    "!$kgtk validate -i \"$OUT\"/derived.alias.settlement.tsv.gz"
   ]
  },
  {
   "cell_type": "code",
   "execution_count": null,
   "metadata": {},
   "outputs": [],
   "source": []
  },
  {
   "cell_type": "code",
   "execution_count": null,
   "metadata": {},
   "outputs": [],
   "source": []
  },
  {
   "cell_type": "code",
   "execution_count": null,
   "metadata": {},
   "outputs": [],
   "source": []
  },
  {
   "cell_type": "code",
   "execution_count": null,
   "metadata": {},
   "outputs": [],
   "source": []
  },
  {
   "cell_type": "code",
   "execution_count": null,
   "metadata": {},
   "outputs": [],
   "source": []
  },
  {
   "cell_type": "code",
   "execution_count": null,
   "metadata": {},
   "outputs": [],
   "source": []
  },
  {
   "cell_type": "code",
   "execution_count": null,
   "metadata": {},
   "outputs": [],
   "source": []
  },
  {
   "cell_type": "code",
   "execution_count": null,
   "metadata": {},
   "outputs": [],
   "source": []
  },
  {
   "cell_type": "code",
   "execution_count": null,
   "metadata": {},
   "outputs": [],
   "source": []
  },
  {
   "cell_type": "code",
   "execution_count": null,
   "metadata": {},
   "outputs": [],
   "source": []
  },
  {
   "cell_type": "code",
   "execution_count": null,
   "metadata": {},
   "outputs": [],
   "source": []
  },
  {
   "cell_type": "code",
   "execution_count": null,
   "metadata": {},
   "outputs": [],
   "source": []
  },
  {
   "cell_type": "code",
   "execution_count": null,
   "metadata": {},
   "outputs": [],
   "source": []
  },
  {
   "cell_type": "code",
   "execution_count": null,
   "metadata": {},
   "outputs": [],
   "source": []
  },
  {
   "cell_type": "code",
   "execution_count": null,
   "metadata": {},
   "outputs": [],
   "source": []
  },
  {
   "cell_type": "code",
   "execution_count": null,
   "metadata": {},
   "outputs": [],
   "source": []
  },
  {
   "cell_type": "code",
   "execution_count": null,
   "metadata": {},
   "outputs": [],
   "source": []
  },
  {
   "cell_type": "code",
   "execution_count": null,
   "metadata": {},
   "outputs": [],
   "source": []
  },
  {
   "cell_type": "code",
   "execution_count": null,
   "metadata": {},
   "outputs": [],
   "source": []
  },
  {
   "cell_type": "code",
   "execution_count": null,
   "metadata": {},
   "outputs": [],
   "source": []
  },
  {
   "cell_type": "code",
   "execution_count": null,
   "metadata": {},
   "outputs": [],
   "source": []
  },
  {
   "cell_type": "code",
   "execution_count": null,
   "metadata": {},
   "outputs": [],
   "source": []
  },
  {
   "cell_type": "code",
   "execution_count": null,
   "metadata": {},
   "outputs": [],
   "source": []
  },
  {
   "cell_type": "code",
   "execution_count": null,
   "metadata": {},
   "outputs": [],
   "source": []
  },
  {
   "cell_type": "code",
   "execution_count": null,
   "metadata": {},
   "outputs": [],
   "source": []
  },
  {
   "cell_type": "markdown",
   "metadata": {},
   "source": [
    "# OLD CODE xxxxxxxxxxxxxxxx"
   ]
  },
  {
   "cell_type": "markdown",
   "metadata": {},
   "source": [
    "## `derived.settlement.P131admin1`\n",
    "map cities to their `admin1` \n",
    "\n",
    "| node1 | label | node2 | id |\n",
    "| -- | -- | -- | -- |\n",
    "| Q1003343 | P131admin1 | Q18677875 | Q1003343-P131admin1-Q18677875 |\n",
    "| Q1007140 | P131admin1 | Q18678082 | Q1007140-P131admin1-Q18678082 |\n",
    "| Q1010414 | P131admin1 | Q326203 | Q1010414-P131admin1-Q326203 |\n",
    "| Q1012284 | P131admin1 | Q1527 | Q1012284-P131admin1-Q1527 |"
   ]
  },
  {
   "cell_type": "code",
   "execution_count": 25,
   "metadata": {},
   "outputs": [
    {
     "data": {
      "text/markdown": [
       "| node1 | label | node2 | id |\n",
       "| -- | -- | -- | -- |\n",
       "| Q1003343 | P131admin1 | Q18677875 | Q1003343-P131admin1-Q18677875 |\n",
       "| Q1007140 | P131admin1 | Q18678082 | Q1007140-P131admin1-Q18678082 |\n",
       "| Q1010414 | P131admin1 | Q326203 | Q1010414-P131admin1-Q326203 |\n",
       "| Q1012284 | P131admin1 | Q1527 | Q1012284-P131admin1-Q1527 |"
      ],
      "text/plain": [
       "<IPython.core.display.Markdown object>"
      ]
     },
     "metadata": {},
     "output_type": "display_data"
    }
   ],
   "source": [
    "x = !zcat < \"$OUT\"/derived.P131admin.tsv.gz | head -5000 | kgtk cat --every-nth-record 1000 | kgtk md\n",
    "display(Markdown(\"\\n\".join(x)))"
   ]
  },
  {
   "cell_type": "raw",
   "metadata": {},
   "source": [
    "# Q10864048: first-level administrative country subdivision\n",
    "!$kypher -i settlements -i items -i p31 -i p279star \\\n",
    "--match ' \\\n",
    "    settlements: (settlement)-[]->(), \\\n",
    "    items: (settlement)-[:P131]->(admin), \\\n",
    "    p31: (admin)-[]->(admin_class), \\\n",
    "    p279star: (admin_class)-[]->(:Q10864048)' \\\n",
    "--return 'distinct settlement as node1, \"P131admin1\" as label, admin as node2' \\\n",
    "--limit 3"
   ]
  },
  {
   "cell_type": "code",
   "execution_count": 12,
   "metadata": {},
   "outputs": [
    {
     "name": "stdout",
     "output_type": "stream",
     "text": [
      "[2021-08-08 19:18:43 query]: SQL Translation:\n",
      "---------------------------------------------\n",
      "  SELECT DISTINCT graph_25_c1.\"node1\" \"_aLias.node1\", ? \"_aLias.label\", graph_1_c2.\"node2\" \"_aLias.node2\"\n",
      "     FROM graph_1 AS graph_1_c2\n",
      "     INNER JOIN graph_25 AS graph_25_c1, graph_3 AS graph_3_c3, graph_6 AS graph_6_c4\n",
      "     ON graph_1_c2.\"node2\" = graph_3_c3.\"node1\"\n",
      "        AND graph_25_c1.\"node1\" = graph_1_c2.\"node1\"\n",
      "        AND graph_3_c3.\"node2\" = graph_6_c4.\"node1\"\n",
      "        AND graph_1_c2.\"label\" = ?\n",
      "        AND graph_6_c4.\"node2\" = ?\n",
      "  PARAS: ['P131admin1', 'P131', 'Q10864048']\n",
      "---------------------------------------------\n",
      "      215.13 real        11.99 user        27.80 sys\n"
     ]
    }
   ],
   "source": [
    "# Q10864048: first-level administrative country subdivision\n",
    "!$kypher -i settlements -i items -i p31 -i p279star \\\n",
    "--match ' \\\n",
    "    settlements: (settlement)-[]->(), \\\n",
    "    items: (settlement)-[:P131]->(admin), \\\n",
    "    p31: (admin)-[]->(admin_class), \\\n",
    "    p279star: (admin_class)-[]->(:Q10864048)' \\\n",
    "--return 'distinct settlement as node1, \"P131admin1\" as label, admin as node2' \\\n",
    "-o \"$TEMP\"/derived.settlement.P131admin1.direct.tsv.gz"
   ]
  },
  {
   "cell_type": "markdown",
   "metadata": {},
   "source": [
    "For some cities, such as Pasadena (Q485176), the value if `P131` is LA country, so need one more hop to get to the state"
   ]
  },
  {
   "cell_type": "raw",
   "metadata": {},
   "source": [
    "# development query\n",
    "# Q10864048: first-level administrative country subdivision\n",
    "!$kypher -i settlements -i items -i p31 -i p279star \\\n",
    "--match ' \\\n",
    "    settlements: (settlement)-[]->(), \\\n",
    "    items: (settlement)-[:P131]->(admin_a)-[:P131]->(admin), \\\n",
    "    p31: (admin)-[]->(admin_class), \\\n",
    "    p279star: (admin_class)-[]->(:Q10864048)' \\\n",
    "--return 'distinct settlement as node1, \"P131admin1\" as label, admin as node2' \\\n",
    "--limit 3"
   ]
  },
  {
   "cell_type": "code",
   "execution_count": 13,
   "metadata": {},
   "outputs": [
    {
     "name": "stdout",
     "output_type": "stream",
     "text": [
      "[2021-08-08 19:22:19 query]: SQL Translation:\n",
      "---------------------------------------------\n",
      "  SELECT DISTINCT graph_25_c1.\"node1\" \"_aLias.node1\", ? \"_aLias.label\", graph_1_c3.\"node2\" \"_aLias.node2\"\n",
      "     FROM graph_1 AS graph_1_c2\n",
      "     INNER JOIN graph_1 AS graph_1_c3, graph_25 AS graph_25_c1, graph_3 AS graph_3_c4, graph_6 AS graph_6_c5\n",
      "     ON graph_1_c2.\"node2\" = graph_1_c3.\"node1\"\n",
      "        AND graph_1_c3.\"node2\" = graph_3_c4.\"node1\"\n",
      "        AND graph_25_c1.\"node1\" = graph_1_c2.\"node1\"\n",
      "        AND graph_3_c4.\"node2\" = graph_6_c5.\"node1\"\n",
      "        AND graph_1_c2.\"label\" = ?\n",
      "        AND graph_1_c3.\"label\" = ?\n",
      "        AND graph_6_c5.\"node2\" = ?\n",
      "  PARAS: ['P131admin1', 'P131', 'P131', 'Q10864048']\n",
      "---------------------------------------------\n",
      "      836.33 real        44.27 user        97.10 sys\n"
     ]
    }
   ],
   "source": [
    "# Q10864048: first-level administrative country subdivision\n",
    "!$kypher -i settlements -i items -i p31 -i p279star \\\n",
    "--match ' \\\n",
    "    settlements: (settlement)-[]->(), \\\n",
    "    items: (settlement)-[:P131]->(admin_a)-[:P131]->(admin), \\\n",
    "    p31: (admin)-[]->(admin_class), \\\n",
    "    p279star: (admin_class)-[]->(:Q10864048)' \\\n",
    "--return 'distinct settlement as node1, \"P131admin1\" as label, admin as node2' \\\n",
    "-o \"$TEMP\"/derived.settlement.P131admin1.2hop.tsv.gz"
   ]
  },
  {
   "cell_type": "markdown",
   "metadata": {},
   "source": [
    "Combine the two files into a single file"
   ]
  },
  {
   "cell_type": "code",
   "execution_count": 14,
   "metadata": {},
   "outputs": [
    {
     "name": "stdout",
     "output_type": "stream",
     "text": [
      "       18.29 real        19.32 user         1.19 sys\n"
     ]
    }
   ],
   "source": [
    "!$kgtk cat \\\n",
    "    -i \"$TEMP\"/derived.settlement.P131admin1.direct.tsv.gz \\\n",
    "    -i \"$TEMP\"/derived.settlement.P131admin1.2hop.tsv.gz \\\n",
    "/ compact -i - --deduplicate --build-id --id-style wikidata \\\n",
    "/ sort \\\n",
    "-o \"$OUT\"/derived.settlement.P131admin1.tsv.gz"
   ]
  },
  {
   "cell_type": "code",
   "execution_count": null,
   "metadata": {},
   "outputs": [],
   "source": []
  },
  {
   "cell_type": "markdown",
   "metadata": {},
   "source": [
    "### `derived.settlement.P131admin2.tsv`\n",
    "\n",
    "Map settlements to admin2\n",
    "\n",
    "| node1 | label | node2 | id |\n",
    "| -- | -- | -- | -- |\n",
    "| Q1000239 | P131admin2 | Q12626 | Q1000239-P131admin2-Q12626 |\n",
    "| Q1000679 | P131admin2 | Q1758432 | Q1000679-P131admin2-Q1758432 |\n",
    "| Q1001015 | P131admin2 | Q702381 | Q1001015-P131admin2-Q702381 |\n",
    "| Q1001458 | P131admin2 | Q12589 | Q1001458-P131admin2-Q12589 |"
   ]
  },
  {
   "cell_type": "raw",
   "metadata": {},
   "source": [
    "!zcat < \"$OUT\"/derived.settlement.P131admin2.tsv.gz | head -500 | kgtk cat --every-nth-record 100 | kgtk md"
   ]
  },
  {
   "cell_type": "raw",
   "metadata": {},
   "source": [
    "# development query\n",
    "# Q13220204: second-level administrative country subdivision\n",
    "!$kypher -i settlements -i items -i p31 -i p279star \\\n",
    "--match ' \\\n",
    "    settlements: (settlement)-[]->(), \\\n",
    "    items: (settlement)-[:P131]->(admin), \\\n",
    "    p31: (admin)-[]->(admin_class), \\\n",
    "    p279star: (admin_class)-[]->(:Q13220204)' \\\n",
    "--return 'distinct settlement as node1, \"P131admin2\" as label, admin as node2' \\\n",
    "--limit 3"
   ]
  },
  {
   "cell_type": "code",
   "execution_count": 41,
   "metadata": {},
   "outputs": [
    {
     "name": "stdout",
     "output_type": "stream",
     "text": [
      "[2021-08-08 21:07:18 query]: SQL Translation:\n",
      "---------------------------------------------\n",
      "  SELECT DISTINCT graph_25_c1.\"node1\" \"_aLias.node1\", ? \"_aLias.label\", graph_1_c2.\"node2\" \"_aLias.node2\"\n",
      "     FROM graph_1 AS graph_1_c2\n",
      "     INNER JOIN graph_25 AS graph_25_c1, graph_3 AS graph_3_c3, graph_6 AS graph_6_c4\n",
      "     ON graph_1_c2.\"node2\" = graph_3_c3.\"node1\"\n",
      "        AND graph_25_c1.\"node1\" = graph_1_c2.\"node1\"\n",
      "        AND graph_3_c3.\"node2\" = graph_6_c4.\"node1\"\n",
      "        AND graph_1_c2.\"label\" = ?\n",
      "        AND graph_6_c4.\"node2\" = ?\n",
      "  PARAS: ['P131admin2', 'P131', 'Q13220204']\n",
      "---------------------------------------------\n",
      "      409.24 real        27.59 user        51.26 sys\n"
     ]
    }
   ],
   "source": [
    "# Q13220204: second-level administrative country subdivision\n",
    "!$kypher -i settlements -i items -i p31 -i p279star \\\n",
    "--match ' \\\n",
    "    settlements: (settlement)-[]->(), \\\n",
    "    items: (settlement)-[:P131]->(admin), \\\n",
    "    p31: (admin)-[]->(admin_class), \\\n",
    "    p279star: (admin_class)-[]->(:Q13220204)' \\\n",
    "--return 'distinct settlement as node1, \"P131admin2\" as label, admin as node2' \\\n",
    "/ add-id --id-style wikidata \\\n",
    "/ sort \\\n",
    "-o \"$OUT\"/derived.settlement.P131admin2.tsv.gz"
   ]
  },
  {
   "cell_type": "code",
   "execution_count": 48,
   "metadata": {},
   "outputs": [
    {
     "name": "stdout",
     "output_type": "stream",
     "text": [
      "node1\tlabel\tnode2\tid\n",
      "Q100\tP131admin2\tQ54072\tQ100-P131admin2-Q54072\n",
      "Q100000\tP131admin2\tQ28109138\tQ100000-P131admin2-Q28109138\n",
      "Q100000\tP131admin2\tQ9766\tQ100000-P131admin2-Q9766\n",
      "Q1000003\tP131admin2\tQ12689\tQ1000003-P131admin2-Q12689\n",
      "Q1000003\tP131admin2\tQ702409\tQ1000003-P131admin2-Q702409\n",
      "Q1000008\tP131admin2\tQ12689\tQ1000008-P131admin2-Q12689\n",
      "Q1000008\tP131admin2\tQ700495\tQ1000008-P131admin2-Q700495\n",
      "Q1000009\tP131admin2\tQ12689\tQ1000009-P131admin2-Q12689\n",
      "Q1000009\tP131admin2\tQ700495\tQ1000009-P131admin2-Q700495\n",
      "zcat: error writing to output: Broken pipe\n"
     ]
    }
   ],
   "source": [
    "!zcat < \"$OUT\"/derived.settlement.P131admin2.tsv.gz | head"
   ]
  },
  {
   "cell_type": "markdown",
   "metadata": {},
   "source": [
    "## `derived.admin2.admin1`\n",
    "\n",
    "Map admin2 to admin1\n",
    "\n",
    "| node1 | label | node2 | id |\n",
    "| -- | -- | -- | -- |\n",
    "| Q1001799 | P131admin1 | Q27566 | Q1001799-P131admin1-Q27566 |\n",
    "| Q1003231 | P131admin1 | Q1112985 | Q1003231-P131admin1-Q1112985 |\n",
    "| Q1003948 | P131admin1 | Q83274 | Q1003948-P131admin1-Q83274 |\n",
    "| Q1004597 | P131admin1 | Q80550 | Q1004597-P131admin1-Q80550 |"
   ]
  },
  {
   "cell_type": "raw",
   "metadata": {},
   "source": [
    "!zcat < \"$OUT\"/derived.admin2.admin1.tsv.gz | head -500 | kgtk cat --every-nth-record 100 | kgtk md"
   ]
  },
  {
   "cell_type": "code",
   "execution_count": null,
   "metadata": {},
   "outputs": [],
   "source": [
    "!wd u "
   ]
  },
  {
   "cell_type": "markdown",
   "metadata": {},
   "source": [
    "Create a file with all admin2's"
   ]
  },
  {
   "cell_type": "code",
   "execution_count": 19,
   "metadata": {},
   "outputs": [
    {
     "name": "stdout",
     "output_type": "stream",
     "text": [
      "[2021-08-08 19:41:51 query]: SQL Translation:\n",
      "---------------------------------------------\n",
      "  SELECT DISTINCT graph_3_c1.\"node1\" \"_aLias.node1\"\n",
      "     FROM graph_3 AS graph_3_c1\n",
      "     INNER JOIN graph_6 AS graph_6_c2\n",
      "     ON graph_3_c1.\"node2\" = graph_6_c2.\"node1\"\n",
      "        AND graph_6_c2.\"node2\" = ?\n",
      "  PARAS: ['Q13220204']\n",
      "---------------------------------------------\n",
      "       10.92 real         1.51 user         1.54 sys\n"
     ]
    }
   ],
   "source": [
    "# Q13220204: second-level administrative country subdivision\n",
    "!$kypher -i p31 -i p279star \\\n",
    "--match ' \\\n",
    "    p31: (admin2)-[]->(admin_class), \\\n",
    "    p279star: (admin_class)-[]->(:Q13220204)' \\\n",
    "--return 'distinct admin2 as node1' \\\n",
    "-o \"$TEMP\"/admin2.tsv.gz"
   ]
  },
  {
   "cell_type": "code",
   "execution_count": 20,
   "metadata": {},
   "outputs": [
    {
     "name": "stdout",
     "output_type": "stream",
     "text": [
      "[2021-08-08 19:42:02 sqlstore]: DROP graph data table graph_28 from admin2\n",
      "[2021-08-08 19:42:03 sqlstore]: IMPORT graph directly into table graph_28 from /Users/pedroszekely/Downloads/kypher/temp.geography/admin2.tsv.gz ...\n",
      "[2021-08-08 19:42:03 query]: SQL Translation:\n",
      "---------------------------------------------\n",
      "  SELECT *\n",
      "     FROM graph_28 AS graph_28_c1\n",
      "     LIMIT ?\n",
      "  PARAS: [2]\n",
      "---------------------------------------------\n",
      "node1\n",
      "Q1026448\n",
      "Q1120443\n",
      "        1.49 real         0.86 user         0.25 sys\n"
     ]
    }
   ],
   "source": [
    "!$kypher -i \"$TEMP\"/admin2.tsv.gz --as admin2 --limit 2"
   ]
  },
  {
   "cell_type": "markdown",
   "metadata": {},
   "source": [
    "Create a file with all admin1's"
   ]
  },
  {
   "cell_type": "code",
   "execution_count": 34,
   "metadata": {},
   "outputs": [
    {
     "name": "stdout",
     "output_type": "stream",
     "text": [
      "[2021-08-08 20:57:04 query]: SQL Translation:\n",
      "---------------------------------------------\n",
      "  SELECT DISTINCT graph_3_c1.\"node1\" \"_aLias.node1\"\n",
      "     FROM graph_3 AS graph_3_c1\n",
      "     INNER JOIN graph_6 AS graph_6_c2\n",
      "     ON graph_3_c1.\"node2\" = graph_6_c2.\"node1\"\n",
      "        AND graph_6_c2.\"node2\" = ?\n",
      "  PARAS: ['Q10864048']\n",
      "---------------------------------------------\n",
      "        3.34 real         0.91 user         0.48 sys\n"
     ]
    }
   ],
   "source": [
    "# Q10864048: first-level administrative country subdivision\n",
    "!$kypher -i p31 -i p279star \\\n",
    "--match ' \\\n",
    "    p31: (admin1)-[]->(admin_class), \\\n",
    "    p279star: (admin_class)-[]->(:Q10864048)' \\\n",
    "--return 'distinct admin1 as node1' \\\n",
    "-o \"$TEMP\"/admin1.tsv.gz"
   ]
  },
  {
   "cell_type": "code",
   "execution_count": 35,
   "metadata": {},
   "outputs": [
    {
     "name": "stdout",
     "output_type": "stream",
     "text": [
      "[2021-08-08 20:57:29 sqlstore]: DROP graph data table graph_26 from admin1\n",
      "[2021-08-08 20:57:30 sqlstore]: IMPORT graph directly into table graph_26 from /Users/pedroszekely/Downloads/kypher/temp.geography/admin1.tsv.gz ...\n",
      "[2021-08-08 20:57:30 query]: SQL Translation:\n",
      "---------------------------------------------\n",
      "  SELECT *\n",
      "     FROM graph_26 AS graph_26_c1\n",
      "     LIMIT ?\n",
      "  PARAS: [2]\n",
      "---------------------------------------------\n",
      "node1\n",
      "Q182378\n",
      "Q1865\n",
      "        1.79 real         0.87 user         0.68 sys\n"
     ]
    }
   ],
   "source": [
    "!$kypher -i \"$TEMP\"/admin1.tsv.gz --as admin1 --limit 2"
   ]
  },
  {
   "cell_type": "raw",
   "metadata": {},
   "source": [
    "# development query\n",
    "!$kypher -i admin1 -i admin2 -i items -i p31 -i p279star \\\n",
    "--match ' \\\n",
    "    admin1: (admin1)-[]->(), \\\n",
    "    admin2: (admin2)-[]->(), \\\n",
    "    items: (admin2)-[:P131]->(admin1)' \\\n",
    "--return 'distinct admin2 as node1, \"P131admin1\" as label, admin1 as node2' \\\n",
    "--limit 3"
   ]
  },
  {
   "cell_type": "code",
   "execution_count": 50,
   "metadata": {},
   "outputs": [
    {
     "name": "stdout",
     "output_type": "stream",
     "text": [
      "[2021-08-08 21:32:08 query]: SQL Translation:\n",
      "---------------------------------------------\n",
      "  SELECT DISTINCT graph_28_c2.\"node1\" \"_aLias.node1\", ? \"_aLias.label\", graph_26_c1.\"node1\" \"_aLias.node2\"\n",
      "     FROM graph_1 AS graph_1_c3\n",
      "     INNER JOIN graph_26 AS graph_26_c1, graph_28 AS graph_28_c2\n",
      "     ON graph_26_c1.\"node1\" = graph_1_c3.\"node2\"\n",
      "        AND graph_28_c2.\"node1\" = graph_1_c3.\"node1\"\n",
      "        AND graph_1_c3.\"label\" = ?\n",
      "  PARAS: ['P131admin1', 'P131']\n",
      "---------------------------------------------\n",
      "      294.67 real        15.38 user        40.70 sys\n"
     ]
    }
   ],
   "source": [
    "!$kypher -i admin1 -i admin2 -i items -i p31 -i p279star \\\n",
    "--match ' \\\n",
    "    admin1: (admin1)-[]->(), \\\n",
    "    admin2: (admin2)-[]->(), \\\n",
    "    items: (admin2)-[:P131]->(admin1)' \\\n",
    "--return 'distinct admin2 as node1, \"P131admin1\" as label, admin1 as node2' \\\n",
    "/ add-id --id-style wikidata \\\n",
    "-o \"$TEMP\"/admin2.P131admin1.admin1.tsv.gz"
   ]
  },
  {
   "cell_type": "markdown",
   "metadata": {},
   "source": [
    "Surprisingly, traversing `P131` twice may lead to other links"
   ]
  },
  {
   "cell_type": "raw",
   "metadata": {},
   "source": [
    "# development query\n",
    "# Use a double hop to fin other links\n",
    "!$kypher -i admin1 -i admin2 -i items -i p31 -i p279star \\\n",
    "--match ' \\\n",
    "    admin1: (admin1)-[]->(), \\\n",
    "    admin2: (admin2)-[]->(), \\\n",
    "    items: (admin2)-[:P131]->()-[:P131]->(admin1)' \\\n",
    "--return 'distinct admin2 as node1, \"P131admin1\" as label, admin1 as node2' \\\n",
    "--limit 3"
   ]
  },
  {
   "cell_type": "code",
   "execution_count": 51,
   "metadata": {},
   "outputs": [
    {
     "name": "stdout",
     "output_type": "stream",
     "text": [
      "[2021-08-08 21:37:04 query]: SQL Translation:\n",
      "---------------------------------------------\n",
      "  SELECT DISTINCT graph_28_c2.\"node1\" \"_aLias.node1\", ? \"_aLias.label\", graph_26_c1.\"node1\" \"_aLias.node2\"\n",
      "     FROM graph_1 AS graph_1_c3\n",
      "     INNER JOIN graph_1 AS graph_1_c4, graph_26 AS graph_26_c1, graph_28 AS graph_28_c2\n",
      "     ON graph_1_c3.\"node2\" = graph_1_c4.\"node1\"\n",
      "        AND graph_26_c1.\"node1\" = graph_1_c4.\"node2\"\n",
      "        AND graph_28_c2.\"node1\" = graph_1_c3.\"node1\"\n",
      "        AND graph_1_c3.\"label\" = ?\n",
      "        AND graph_1_c4.\"label\" = ?\n",
      "  PARAS: ['P131admin1', 'P131', 'P131']\n",
      "---------------------------------------------\n",
      "       30.16 real         4.54 user         4.09 sys\n"
     ]
    }
   ],
   "source": [
    "!$kypher -i admin1 -i admin2 -i items -i p31 -i p279star \\\n",
    "--match ' \\\n",
    "    admin1: (admin1)-[]->(), \\\n",
    "    admin2: (admin2)-[]->(), \\\n",
    "    items: (admin2)-[:P131]->()-[:P131]->(admin1)' \\\n",
    "--return 'distinct admin2 as node1, \"P131admin1\" as label, admin1 as node2' \\\n",
    "/ add-id --id-style wikidata \\\n",
    "-o \"$TEMP\"/admin2.P131admin1.2hop.admin1.tsv.gz"
   ]
  },
  {
   "cell_type": "markdown",
   "metadata": {},
   "source": [
    "Use `P50` to possibly find new links"
   ]
  },
  {
   "cell_type": "raw",
   "metadata": {},
   "source": [
    "# development query\n",
    "# P150: contains administrative territorial entity\n",
    "!$kypher -i admin1 -i admin2 -i items -i p31 -i p279star \\\n",
    "--match ' \\\n",
    "    admin1: (admin1)-[]->(), \\\n",
    "    items: (admin1)-[:P150]->(admin2), \\\n",
    "    admin2: (admin2)-[]->()' \\\n",
    "--return 'distinct admin2 as node1, \"P131admin1\" as label, admin1 as node2' \\\n",
    "--limit 3"
   ]
  },
  {
   "cell_type": "code",
   "execution_count": 52,
   "metadata": {},
   "outputs": [
    {
     "name": "stdout",
     "output_type": "stream",
     "text": [
      "[2021-08-08 21:37:33 query]: SQL Translation:\n",
      "---------------------------------------------\n",
      "  SELECT DISTINCT graph_1_c2.\"node2\" \"_aLias.node1\", ? \"_aLias.label\", graph_26_c1.\"node1\" \"_aLias.node2\"\n",
      "     FROM graph_1 AS graph_1_c2\n",
      "     INNER JOIN graph_26 AS graph_26_c1, graph_28 AS graph_28_c3\n",
      "     ON graph_1_c2.\"node2\" = graph_28_c3.\"node1\"\n",
      "        AND graph_26_c1.\"node1\" = graph_1_c2.\"node1\"\n",
      "        AND graph_1_c2.\"label\" = ?\n",
      "  PARAS: ['P131admin1', 'P150']\n",
      "---------------------------------------------\n",
      "        3.92 real         2.96 user         0.75 sys\n"
     ]
    }
   ],
   "source": [
    "# development query\n",
    "# P150: contains administrative territorial entity\n",
    "!$kypher -i admin1 -i admin2 -i items -i p31 -i p279star \\\n",
    "--match ' \\\n",
    "    admin1: (admin1)-[]->(), \\\n",
    "    items: (admin1)-[:P150]->(admin2), \\\n",
    "    admin2: (admin2)-[]->()' \\\n",
    "--return 'distinct admin2 as node1, \"P131admin1\" as label, admin1 as node2' \\\n",
    "/ add-id --id-style wikidata \\\n",
    "-o \"$TEMP\"/P150.admin2.P131admin1.admin1.tsv.gz"
   ]
  },
  {
   "cell_type": "markdown",
   "metadata": {},
   "source": [
    "Concatenate all the `P131admin1` files"
   ]
  },
  {
   "cell_type": "code",
   "execution_count": 53,
   "metadata": {},
   "outputs": [],
   "source": [
    "!kgtk cat \\\n",
    "    -i \"$TEMP\"/admin2.P131admin1.admin1.tsv.gz \\\n",
    "    -i \"$TEMP\"/admin2.P131admin1.admin1.tsv.gz \\\n",
    "    -i \"$TEMP\"/P150.admin2.P131admin1.admin1.tsv.gz \\\n",
    "/ sort \\\n",
    "-o \"$OUT\"/derived.admin2.admin1.tsv.gz"
   ]
  },
  {
   "cell_type": "markdown",
   "metadata": {},
   "source": [
    "# END OLD CODE"
   ]
  }
 ],
 "metadata": {
  "kernelspec": {
   "display_name": "kgtk-env",
   "language": "python",
   "name": "kgtk-env"
  },
  "language_info": {
   "codemirror_mode": {
    "name": "ipython",
    "version": 3
   },
   "file_extension": ".py",
   "mimetype": "text/x-python",
   "name": "python",
   "nbconvert_exporter": "python",
   "pygments_lexer": "ipython3",
   "version": "3.9.7"
  }
 },
 "nbformat": 4,
 "nbformat_minor": 4
}
