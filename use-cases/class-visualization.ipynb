{
 "cells": [
  {
   "cell_type": "markdown",
   "metadata": {},
   "source": [
    "# Class Visualization\n",
    "\n"
   ]
  },
  {
   "cell_type": "markdown",
   "metadata": {},
   "source": [
    "### Preamble: set up the environment and files used in the tutorial"
   ]
  },
  {
   "cell_type": "code",
   "execution_count": 1,
   "metadata": {
    "execution": {
     "iopub.execute_input": "2021-12-23T18:52:46.567789Z",
     "iopub.status.busy": "2021-12-23T18:52:46.567517Z",
     "iopub.status.idle": "2021-12-23T18:52:49.213711Z",
     "shell.execute_reply": "2021-12-23T18:52:49.213089Z",
     "shell.execute_reply.started": "2021-12-23T18:52:46.567726Z"
    },
    "tags": []
   },
   "outputs": [],
   "source": [
    "import io\n",
    "import os\n",
    "import subprocess\n",
    "import sys\n",
    "\n",
    "import numpy as np\n",
    "import pandas as pd\n",
    "from IPython.display import display, HTML\n",
    "\n",
    "from graph_tool.all import *\n",
    "\n",
    "import papermill as pm\n",
    "\n",
    "from kgtk.configure_kgtk_notebooks import ConfigureKGTK\n",
    "from kgtk.functions import kgtk, kypher"
   ]
  },
  {
   "cell_type": "code",
   "execution_count": 2,
   "metadata": {
    "execution": {
     "iopub.execute_input": "2021-12-23T18:52:54.617192Z",
     "iopub.status.busy": "2021-12-23T18:52:54.616942Z",
     "iopub.status.idle": "2021-12-23T18:52:54.620612Z",
     "shell.execute_reply": "2021-12-23T18:52:54.619985Z",
     "shell.execute_reply.started": "2021-12-23T18:52:54.617162Z"
    },
    "tags": [
     "parameters"
    ]
   },
   "outputs": [],
   "source": [
    "# Parameters\n",
    "\n",
    "kgtk_path = \"/Users/pedroszekely/Documents/GitHub/kgtk\"\n",
    "\n",
    "# Folder on local machine where to create the output and temporary folders\n",
    "input_path = \"/Volumes/GoogleDrive/Shared drives/KGTK/datasets/wikidata-20210215-dwd-v2/\"\n",
    "output_path = \"/Users/pedroszekely/Downloads/kypher/projects\"\n",
    "graph_cache_path = \"/Users/pedroszekely/Downloads/kypher/class-visualization.sqlite3.db\"\n",
    "project_name = \"class-visualization\""
   ]
  },
  {
   "cell_type": "markdown",
   "metadata": {},
   "source": [
    "Our Wikidata distribution partitions the knowledge in Wikidata into smaller files that make it possible for you to pick and choose which files you want to use. Our tutorial KG is a subset of Wikidata, and is partitioned in the same way as the full Wikidata. The following is a partial list of all the files:"
   ]
  },
  {
   "cell_type": "code",
   "execution_count": 5,
   "metadata": {
    "execution": {
     "iopub.execute_input": "2021-12-23T18:53:21.349744Z",
     "iopub.status.busy": "2021-12-23T18:53:21.349526Z",
     "iopub.status.idle": "2021-12-23T18:53:21.354029Z",
     "shell.execute_reply": "2021-12-23T18:53:21.353482Z",
     "shell.execute_reply.started": "2021-12-23T18:53:21.349718Z"
    },
    "tags": []
   },
   "outputs": [
    {
     "name": "stdout",
     "output_type": "stream",
     "text": [
      "User home: /Users/pedroszekely\n",
      "Current dir: /Users/pedroszekely/Documents/GitHub/kgtk-tutorial-files/use-cases\n",
      "KGTK dir: /Users/pedroszekely/Documents/GitHub/kgtk\n",
      "Use-cases dir: /Users/pedroszekely/Documents/GitHub/kgtk/use-cases\n"
     ]
    }
   ],
   "source": [
    "files = [\n",
    "    \"p279\",\n",
    "    \"p279star\",\n",
    "    \"label\"\n",
    "]\n",
    "\n",
    "# statistics.Pinstance_count.tsv.gz\n",
    "\n",
    "ck = ConfigureKGTK(files, kgtk_path=kgtk_path)\n",
    "ck.configure_kgtk(input_graph_path=input_path,\n",
    "                  output_path=output_path,\n",
    "                  graph_cache_path=graph_cache_path,\n",
    "                  project_name=project_name,\n",
    "                  debug=True\n",
    "                 )"
   ]
  },
  {
   "cell_type": "markdown",
   "metadata": {},
   "source": [
    "The KGTK setup command defines environment variables for all the files so that you can reuse the Jupyter notebook when you install it on your local machine."
   ]
  },
  {
   "cell_type": "code",
   "execution_count": 6,
   "metadata": {
    "execution": {
     "iopub.execute_input": "2021-12-23T18:53:22.847422Z",
     "iopub.status.busy": "2021-12-23T18:53:22.847172Z",
     "iopub.status.idle": "2021-12-23T18:53:22.851431Z",
     "shell.execute_reply": "2021-12-23T18:53:22.850714Z",
     "shell.execute_reply.started": "2021-12-23T18:53:22.847392Z"
    },
    "tags": []
   },
   "outputs": [
    {
     "name": "stdout",
     "output_type": "stream",
     "text": [
      "EXAMPLES_DIR: /Users/pedroszekely/Documents/GitHub/kgtk/examples\n",
      "KGTK_OPTION_DEBUG: false\n",
      "OUT: /Users/pedroszekely/Downloads/kypher/projects/class-visualization\n",
      "TEMP: /Users/pedroszekely/Downloads/kypher/projects/class-visualization/temp.class-visualization\n",
      "kypher: kgtk --debug query --graph-cache /Users/pedroszekely/Downloads/kypher/class-visualization.sqlite3.db\n",
      "KGTK_LABEL_FILE: /Volumes/GoogleDrive/Shared drives/KGTK/datasets/wikidata-20210215-dwd-v2//labels.en.tsv.gz\n",
      "STORE: /Users/pedroszekely/Downloads/kypher/class-visualization.sqlite3.db\n",
      "GRAPH: /Volumes/GoogleDrive/Shared drives/KGTK/datasets/wikidata-20210215-dwd-v2/\n",
      "KGTK_GRAPH_CACHE: /Users/pedroszekely/Downloads/kypher/class-visualization.sqlite3.db\n",
      "kgtk: kgtk --debug\n",
      "USE_CASES_DIR: /Users/pedroszekely/Documents/GitHub/kgtk/use-cases\n",
      "p279: /Volumes/GoogleDrive/Shared drives/KGTK/datasets/wikidata-20210215-dwd-v2//derived.P279.tsv.gz\n",
      "p279star: /Volumes/GoogleDrive/Shared drives/KGTK/datasets/wikidata-20210215-dwd-v2//derived.P279star.tsv.gz\n",
      "label: /Volumes/GoogleDrive/Shared drives/KGTK/datasets/wikidata-20210215-dwd-v2//labels.en.tsv.gz\n"
     ]
    }
   ],
   "source": [
    "ck.print_env_variables()"
   ]
  },
  {
   "cell_type": "code",
   "execution_count": 7,
   "metadata": {
    "execution": {
     "iopub.execute_input": "2021-12-23T18:53:27.912688Z",
     "iopub.status.busy": "2021-12-23T18:53:27.912436Z",
     "iopub.status.idle": "2021-12-23T19:04:31.943760Z",
     "shell.execute_reply": "2021-12-23T19:04:31.943032Z",
     "shell.execute_reply.started": "2021-12-23T18:53:27.912664Z"
    },
    "tags": []
   },
   "outputs": [
    {
     "name": "stdout",
     "output_type": "stream",
     "text": [
      "kgtk --debug query --graph-cache /Users/pedroszekely/Downloads/kypher/class-visualization.sqlite3.db -i \"/Volumes/GoogleDrive/Shared drives/KGTK/datasets/wikidata-20210215-dwd-v2//derived.P279.tsv.gz\" --as p279  -i \"/Volumes/GoogleDrive/Shared drives/KGTK/datasets/wikidata-20210215-dwd-v2//derived.P279star.tsv.gz\" --as p279star  -i \"/Volumes/GoogleDrive/Shared drives/KGTK/datasets/wikidata-20210215-dwd-v2//labels.en.tsv.gz\" --as label  --limit 3\n",
      "[2021-12-23 10:53:30 sqlstore]: IMPORT graph directly into table graph_1 from /Volumes/GoogleDrive/Shared drives/KGTK/datasets/wikidata-20210215-dwd-v2/derived.P279.tsv.gz ...\n",
      "[2021-12-23 10:53:46 sqlstore]: IMPORT graph directly into table graph_2 from /Volumes/GoogleDrive/Shared drives/KGTK/datasets/wikidata-20210215-dwd-v2/derived.P279star.tsv.gz ...\n",
      "[2021-12-23 11:00:52 sqlstore]: IMPORT graph directly into table graph_3 from /Volumes/GoogleDrive/Shared drives/KGTK/datasets/wikidata-20210215-dwd-v2/labels.en.tsv.gz ...\n",
      "[2021-12-23 11:04:31 query]: SQL Translation:\n",
      "---------------------------------------------\n",
      "  SELECT *\n",
      "     FROM graph_1 AS graph_1_c1\n",
      "     LIMIT ?\n",
      "  PARAS: [3]\n",
      "---------------------------------------------\n",
      "id\tnode1\tlabel\tnode2\n",
      "Q100000030-P279-Q14748-30394205-0\tQ100000030\tP279\tQ14748\n",
      "Q100000058-P279-Q1622444-bd182663-0\tQ100000058\tP279\tQ1622444\n",
      "Q1000032-P279-Q1813494-0aa0f1dc-0\tQ1000032\tP279\tQ1813494\n"
     ]
    }
   ],
   "source": [
    "ck.load_files_into_cache()"
   ]
  },
  {
   "cell_type": "code",
   "execution_count": 8,
   "metadata": {
    "execution": {
     "iopub.execute_input": "2021-12-23T19:48:29.172457Z",
     "iopub.status.busy": "2021-12-23T19:48:29.172160Z",
     "iopub.status.idle": "2021-12-23T19:48:38.752545Z",
     "shell.execute_reply": "2021-12-23T19:48:38.751549Z",
     "shell.execute_reply.started": "2021-12-23T19:48:29.172424Z"
    }
   },
   "outputs": [
    {
     "name": "stdout",
     "output_type": "stream",
     "text": [
      "[2021-12-23 11:48:32 query]: SQL Translation:\n",
      "---------------------------------------------\n",
      "  SELECT *\n",
      "     FROM graph_1 AS graph_1_c1\n",
      "     LIMIT ?\n",
      "  PARAS: [5]\n",
      "---------------------------------------------\n",
      "[2021-12-23 11:48:32 sqlstore]: CREATE INDEX \"graph_1_node1_label_node2_idx\" ON \"graph_1\" (\"node1\", \"label\", \"node2\")\n",
      "[2021-12-23 11:48:34 sqlstore]: ANALYZE \"graph_1_node1_label_node2_idx\"\n",
      "[2021-12-23 11:48:35 sqlstore]: CREATE INDEX \"graph_1_node2_label_node1_idx\" ON \"graph_1\" (\"node2\", \"label\", \"node1\")\n",
      "[2021-12-23 11:48:37 sqlstore]: ANALYZE \"graph_1_node2_label_node1_idx\"\n",
      "id\tnode1\tlabel\tnode2\n",
      "Q100000030-P279-Q14748-30394205-0\tQ100000030\tP279\tQ14748\n",
      "Q100000058-P279-Q1622444-bd182663-0\tQ100000058\tP279\tQ1622444\n",
      "Q1000032-P279-Q1813494-0aa0f1dc-0\tQ1000032\tP279\tQ1813494\n",
      "Q1000032-P279-Q83602-482a1943-0\tQ1000032\tP279\tQ83602\n",
      "Q1000039-P279-Q11555767-2dddfd86-0\tQ1000039\tP279\tQ11555767\n"
     ]
    }
   ],
   "source": [
    "!kgtk --debug query -i p279 --idx mode:monograph --limit 5"
   ]
  },
  {
   "cell_type": "code",
   "execution_count": 9,
   "metadata": {
    "execution": {
     "iopub.execute_input": "2021-12-23T19:48:38.755215Z",
     "iopub.status.busy": "2021-12-23T19:48:38.754933Z",
     "iopub.status.idle": "2021-12-23T19:52:30.449266Z",
     "shell.execute_reply": "2021-12-23T19:52:30.448258Z",
     "shell.execute_reply.started": "2021-12-23T19:48:38.755192Z"
    },
    "tags": []
   },
   "outputs": [
    {
     "name": "stdout",
     "output_type": "stream",
     "text": [
      "[2021-12-23 11:48:41 query]: SQL Translation:\n",
      "---------------------------------------------\n",
      "  SELECT *\n",
      "     FROM graph_2 AS graph_2_c1\n",
      "     LIMIT ?\n",
      "  PARAS: [5]\n",
      "---------------------------------------------\n",
      "[2021-12-23 11:48:41 sqlstore]: CREATE INDEX \"graph_2_node1_label_node2_idx\" ON \"graph_2\" (\"node1\", \"label\", \"node2\")\n",
      "[2021-12-23 11:49:58 sqlstore]: ANALYZE \"graph_2_node1_label_node2_idx\"\n",
      "[2021-12-23 11:50:11 sqlstore]: CREATE INDEX \"graph_2_node2_label_node1_idx\" ON \"graph_2\" (\"node2\", \"label\", \"node1\")\n",
      "[2021-12-23 11:52:16 sqlstore]: ANALYZE \"graph_2_node2_label_node1_idx\"\n",
      "node1\tlabel\tnode2\tid\n",
      "Q100000030\tP279star\tQ100000030\tQ100000030-P279star-Q100000030-0000\n",
      "Q100000030\tP279star\tQ1357761\tQ100000030-P279star-Q1357761-0000\n",
      "Q100000030\tP279star\tQ14745\tQ100000030-P279star-Q14745-0000\n",
      "Q100000030\tP279star\tQ14748\tQ100000030-P279star-Q14748-0000\n",
      "Q100000030\tP279star\tQ15401930\tQ100000030-P279star-Q15401930-0000\n"
     ]
    }
   ],
   "source": [
    "!kgtk --debug query -i p279star --idx mode:monograph --limit 5"
   ]
  },
  {
   "cell_type": "code",
   "execution_count": 10,
   "metadata": {
    "execution": {
     "iopub.execute_input": "2021-12-23T19:52:30.451852Z",
     "iopub.status.busy": "2021-12-23T19:52:30.451595Z",
     "iopub.status.idle": "2021-12-23T19:54:21.659400Z",
     "shell.execute_reply": "2021-12-23T19:54:21.658739Z",
     "shell.execute_reply.started": "2021-12-23T19:52:30.451823Z"
    }
   },
   "outputs": [
    {
     "name": "stdout",
     "output_type": "stream",
     "text": [
      "[2021-12-23 11:52:32 query]: SQL Translation:\n",
      "---------------------------------------------\n",
      "  SELECT *\n",
      "     FROM graph_3 AS graph_3_c1\n",
      "     LIMIT ?\n",
      "  PARAS: [5]\n",
      "---------------------------------------------\n",
      "[2021-12-23 11:52:32 sqlstore]: CREATE INDEX \"graph_3_node1_label_node2_idx\" ON \"graph_3\" (\"node1\", \"label\", \"node2\")\n",
      "[2021-12-23 11:53:09 sqlstore]: ANALYZE \"graph_3_node1_label_node2_idx\"\n",
      "[2021-12-23 11:53:15 sqlstore]: CREATE INDEX \"graph_3_node2_label_node1_idx\" ON \"graph_3\" (\"node2\", \"label\", \"node1\")\n",
      "[2021-12-23 11:54:14 sqlstore]: ANALYZE \"graph_3_node2_label_node1_idx\"\n",
      "id\tnode1\tlabel\tnode2\n",
      "P10-label-en\tP10\tlabel\t'video'@en\n",
      "P1000-label-en\tP1000\tlabel\t'record held'@en\n",
      "P1001-label-en\tP1001\tlabel\t'applies to jurisdiction'@en\n",
      "P1002-label-en\tP1002\tlabel\t'engine configuration'@en\n",
      "P1003-label-en\tP1003\tlabel\t'National Library of Romania ID'@en\n"
     ]
    }
   ],
   "source": [
    "!kgtk --debug query -i label --idx mode:monograph --limit 5"
   ]
  },
  {
   "cell_type": "markdown",
   "metadata": {},
   "source": [
    "## Get a list of all the classes\n"
   ]
  },
  {
   "cell_type": "markdown",
   "metadata": {
    "execution": {
     "iopub.execute_input": "2021-12-23T19:59:38.096353Z",
     "iopub.status.busy": "2021-12-23T19:59:38.096121Z",
     "iopub.status.idle": "2021-12-23T19:59:38.100393Z",
     "shell.execute_reply": "2021-12-23T19:59:38.099645Z",
     "shell.execute_reply.started": "2021-12-23T19:59:38.096330Z"
    }
   },
   "source": [
    "First get a list of all the `node1` in p279"
   ]
  },
  {
   "cell_type": "code",
   "execution_count": 55,
   "metadata": {
    "execution": {
     "iopub.execute_input": "2021-12-23T20:37:02.024898Z",
     "iopub.status.busy": "2021-12-23T20:37:02.024637Z",
     "iopub.status.idle": "2021-12-23T20:37:10.089478Z",
     "shell.execute_reply": "2021-12-23T20:37:10.088585Z",
     "shell.execute_reply.started": "2021-12-23T20:37:02.024868Z"
    },
    "tags": []
   },
   "outputs": [],
   "source": [
    "kgtk(\"\"\"\n",
    "    query -i p279\n",
    "        --match '(class)-[]->()'\n",
    "        --return 'distinct class as id'\n",
    "    -o $TEMP/p279.node1.tsv.gz\n",
    "\"\"\")"
   ]
  },
  {
   "cell_type": "code",
   "execution_count": 18,
   "metadata": {
    "execution": {
     "iopub.execute_input": "2021-12-23T20:01:51.988166Z",
     "iopub.status.busy": "2021-12-23T20:01:51.987878Z",
     "iopub.status.idle": "2021-12-23T20:01:52.167195Z",
     "shell.execute_reply": "2021-12-23T20:01:52.166558Z",
     "shell.execute_reply.started": "2021-12-23T20:01:51.988136Z"
    }
   },
   "outputs": [
    {
     "name": "stdout",
     "output_type": "stream",
     "text": [
      " 2493245\n"
     ]
    }
   ],
   "source": [
    "!zcat < $TEMP/p279.node1.tsv.gz | wc -l"
   ]
  },
  {
   "cell_type": "markdown",
   "metadata": {},
   "source": [
    "Now get a list of all the node2 in p279"
   ]
  },
  {
   "cell_type": "code",
   "execution_count": 54,
   "metadata": {
    "execution": {
     "iopub.execute_input": "2021-12-23T20:36:57.902190Z",
     "iopub.status.busy": "2021-12-23T20:36:57.901937Z",
     "iopub.status.idle": "2021-12-23T20:37:00.715217Z",
     "shell.execute_reply": "2021-12-23T20:37:00.714287Z",
     "shell.execute_reply.started": "2021-12-23T20:36:57.902164Z"
    },
    "tags": []
   },
   "outputs": [],
   "source": [
    "kgtk(\"\"\"\n",
    "    query -i p279\n",
    "        --match '()-[]->(class)'\n",
    "        --return 'distinct class as id'\n",
    "    -o $TEMP/p279.node2.tsv.gz\n",
    "\"\"\")"
   ]
  },
  {
   "cell_type": "code",
   "execution_count": 19,
   "metadata": {
    "execution": {
     "iopub.execute_input": "2021-12-23T20:02:13.677986Z",
     "iopub.status.busy": "2021-12-23T20:02:13.677708Z",
     "iopub.status.idle": "2021-12-23T20:02:13.812317Z",
     "shell.execute_reply": "2021-12-23T20:02:13.811662Z",
     "shell.execute_reply.started": "2021-12-23T20:02:13.677959Z"
    }
   },
   "outputs": [
    {
     "name": "stdout",
     "output_type": "stream",
     "text": [
      "  126327\n"
     ]
    }
   ],
   "source": [
    "!zcat < $TEMP/p279.node2.tsv.gz | wc -l"
   ]
  },
  {
   "cell_type": "code",
   "execution_count": 56,
   "metadata": {
    "execution": {
     "iopub.execute_input": "2021-12-23T20:37:17.432799Z",
     "iopub.status.busy": "2021-12-23T20:37:17.432508Z",
     "iopub.status.idle": "2021-12-23T20:37:24.196177Z",
     "shell.execute_reply": "2021-12-23T20:37:24.195231Z",
     "shell.execute_reply.started": "2021-12-23T20:37:17.432766Z"
    },
    "tags": []
   },
   "outputs": [],
   "source": [
    "kgtk(\"\"\"\n",
    "    ifnotexists --mode NONE \n",
    "        -i $TEMP/p279.node2.tsv.gz\n",
    "        --filter-on $TEMP/p279.node1.tsv.gz\n",
    "        --input-keys id\n",
    "        --filter-keys id\n",
    "    -o $TEMP/p279.classes-that-are-not-subclasses.tsv.gz\n",
    "\"\"\")"
   ]
  },
  {
   "cell_type": "code",
   "execution_count": 21,
   "metadata": {
    "execution": {
     "iopub.execute_input": "2021-12-23T20:03:17.027647Z",
     "iopub.status.busy": "2021-12-23T20:03:17.027360Z",
     "iopub.status.idle": "2021-12-23T20:03:17.158891Z",
     "shell.execute_reply": "2021-12-23T20:03:17.158033Z",
     "shell.execute_reply.started": "2021-12-23T20:03:17.027621Z"
    },
    "tags": []
   },
   "outputs": [
    {
     "name": "stdout",
     "output_type": "stream",
     "text": [
      "   10700\n"
     ]
    }
   ],
   "source": [
    "!zcat < $TEMP/p279.classes-that-are-not-subclasses.tsv.gz | wc -l"
   ]
  },
  {
   "cell_type": "markdown",
   "metadata": {},
   "source": [
    "Concatenate the files to get a list of all the classes"
   ]
  },
  {
   "cell_type": "code",
   "execution_count": 57,
   "metadata": {
    "execution": {
     "iopub.execute_input": "2021-12-23T20:37:24.198404Z",
     "iopub.status.busy": "2021-12-23T20:37:24.198172Z",
     "iopub.status.idle": "2021-12-23T20:37:32.413705Z",
     "shell.execute_reply": "2021-12-23T20:37:32.412741Z",
     "shell.execute_reply.started": "2021-12-23T20:37:24.198378Z"
    },
    "tags": []
   },
   "outputs": [],
   "source": [
    "kgtk(\"\"\"\n",
    "    cat --mode NONE -i $TEMP/p279.node1.tsv.gz -i $TEMP/p279.classes-that-are-not-subclasses.tsv.gz\n",
    "    / sort --mode NONE --column id\n",
    "    -o $OUT/classes.tsv.gz\n",
    "\"\"\")"
   ]
  },
  {
   "cell_type": "code",
   "execution_count": 58,
   "metadata": {
    "execution": {
     "iopub.execute_input": "2021-12-23T20:37:32.415183Z",
     "iopub.status.busy": "2021-12-23T20:37:32.414855Z",
     "iopub.status.idle": "2021-12-23T20:37:32.605787Z",
     "shell.execute_reply": "2021-12-23T20:37:32.604884Z",
     "shell.execute_reply.started": "2021-12-23T20:37:32.415156Z"
    },
    "tags": []
   },
   "outputs": [
    {
     "name": "stdout",
     "output_type": "stream",
     "text": [
      " 2503944\n"
     ]
    }
   ],
   "source": [
    "!zcat < $OUT/classes.tsv.gz | wc -l"
   ]
  },
  {
   "cell_type": "markdown",
   "metadata": {},
   "source": [
    "## Measure the degree of classes"
   ]
  },
  {
   "cell_type": "code",
   "execution_count": 154,
   "metadata": {
    "execution": {
     "iopub.execute_input": "2021-12-25T21:14:25.438864Z",
     "iopub.status.busy": "2021-12-25T21:14:25.438623Z",
     "iopub.status.idle": "2021-12-25T21:15:38.542174Z",
     "shell.execute_reply": "2021-12-25T21:15:38.540453Z",
     "shell.execute_reply.started": "2021-12-25T21:14:25.438838Z"
    }
   },
   "outputs": [],
   "source": [
    "kgtk(\"\"\"\n",
    "    graph-statistics -i \"$p279\" -o $OUT/statistics.p279.tsv.gz \n",
    "    --compute-pagerank False \n",
    "    --compute-hits False \n",
    "    --page-rank-property Pdirected_pagerank \n",
    "    --vertex-in-degree-property Pindegree\n",
    "    --vertex-out-degree-property Poutdegree\n",
    "    --output-degrees True \n",
    "    --output-pagerank False \n",
    "    --output-hits False \\\n",
    "    --output-statistics-only \n",
    "    --undirected False \n",
    "    --log-file $TEMP/statistics.summary.txt\n",
    "\"\"\")"
   ]
  },
  {
   "cell_type": "code",
   "execution_count": 157,
   "metadata": {
    "execution": {
     "iopub.execute_input": "2021-12-25T21:29:01.920311Z",
     "iopub.status.busy": "2021-12-25T21:29:01.920025Z",
     "iopub.status.idle": "2021-12-25T21:29:12.715246Z",
     "shell.execute_reply": "2021-12-25T21:29:12.713480Z",
     "shell.execute_reply.started": "2021-12-25T21:29:01.920282Z"
    },
    "tags": []
   },
   "outputs": [],
   "source": [
    "kgtk(\"sort -i $OUT/statistics.p279.tsv.gz --columns node2 --numeric --reverse -o $TEMP.p279.indegree.tsv.gz\")"
   ]
  },
  {
   "cell_type": "code",
   "execution_count": 158,
   "metadata": {
    "execution": {
     "iopub.execute_input": "2021-12-25T21:31:35.461684Z",
     "iopub.status.busy": "2021-12-25T21:31:35.461274Z",
     "iopub.status.idle": "2021-12-25T21:33:09.285633Z",
     "shell.execute_reply": "2021-12-25T21:33:09.284547Z",
     "shell.execute_reply.started": "2021-12-25T21:31:35.461651Z"
    }
   },
   "outputs": [
    {
     "data": {
      "text/html": [
       "<div>\n",
       "<style scoped>\n",
       "    .dataframe tbody tr th:only-of-type {\n",
       "        vertical-align: middle;\n",
       "    }\n",
       "\n",
       "    .dataframe tbody tr th {\n",
       "        vertical-align: top;\n",
       "    }\n",
       "\n",
       "    .dataframe thead th {\n",
       "        text-align: right;\n",
       "    }\n",
       "</style>\n",
       "<table border=\"1\" class=\"dataframe\">\n",
       "  <thead>\n",
       "    <tr style=\"text-align: right;\">\n",
       "      <th></th>\n",
       "      <th>node1</th>\n",
       "      <th>label</th>\n",
       "      <th>node2</th>\n",
       "      <th>id</th>\n",
       "      <th>node1;label</th>\n",
       "    </tr>\n",
       "  </thead>\n",
       "  <tbody>\n",
       "    <tr>\n",
       "      <th>0</th>\n",
       "      <td>Q20747295</td>\n",
       "      <td>Pindegree</td>\n",
       "      <td>942004</td>\n",
       "      <td>Q20747295-Pindegree-19626</td>\n",
       "      <td>'protein-coding gene'@en</td>\n",
       "    </tr>\n",
       "    <tr>\n",
       "      <th>1</th>\n",
       "      <td>Q8054</td>\n",
       "      <td>Pindegree</td>\n",
       "      <td>764038</td>\n",
       "      <td>Q8054-Pindegree-15274</td>\n",
       "      <td>'protein'@en</td>\n",
       "    </tr>\n",
       "    <tr>\n",
       "      <th>2</th>\n",
       "      <td>Q7187</td>\n",
       "      <td>Pindegree</td>\n",
       "      <td>449619</td>\n",
       "      <td>Q7187-Pindegree-5566</td>\n",
       "      <td>'gene'@en</td>\n",
       "    </tr>\n",
       "    <tr>\n",
       "      <th>3</th>\n",
       "      <td>Q277338</td>\n",
       "      <td>Pindegree</td>\n",
       "      <td>49936</td>\n",
       "      <td>Q277338-Pindegree-220748</td>\n",
       "      <td>'pseudogene'@en</td>\n",
       "    </tr>\n",
       "    <tr>\n",
       "      <th>4</th>\n",
       "      <td>Q427087</td>\n",
       "      <td>Pindegree</td>\n",
       "      <td>47843</td>\n",
       "      <td>Q427087-Pindegree-197396</td>\n",
       "      <td>'non-coding RNA'@en</td>\n",
       "    </tr>\n",
       "    <tr>\n",
       "      <th>5</th>\n",
       "      <td>Q382617</td>\n",
       "      <td>Pindegree</td>\n",
       "      <td>40184</td>\n",
       "      <td>Q382617-Pindegree-45664</td>\n",
       "      <td>'mayor of a place in France'@en</td>\n",
       "    </tr>\n",
       "    <tr>\n",
       "      <th>6</th>\n",
       "      <td>Q15113603</td>\n",
       "      <td>Pindegree</td>\n",
       "      <td>40179</td>\n",
       "      <td>Q15113603-Pindegree-197900</td>\n",
       "      <td>'municipal councillor'@en</td>\n",
       "    </tr>\n",
       "    <tr>\n",
       "      <th>7</th>\n",
       "      <td>Q11173</td>\n",
       "      <td>Pindegree</td>\n",
       "      <td>14255</td>\n",
       "      <td>Q11173-Pindegree-638</td>\n",
       "      <td>'chemical compound'@en</td>\n",
       "    </tr>\n",
       "    <tr>\n",
       "      <th>8</th>\n",
       "      <td>Q64698614</td>\n",
       "      <td>Pindegree</td>\n",
       "      <td>8832</td>\n",
       "      <td>Q64698614-Pindegree-2767278</td>\n",
       "      <td>'pseudogenic transcript'@en</td>\n",
       "    </tr>\n",
       "    <tr>\n",
       "      <th>9</th>\n",
       "      <td>Q201448</td>\n",
       "      <td>Pindegree</td>\n",
       "      <td>8724</td>\n",
       "      <td>Q201448-Pindegree-278588</td>\n",
       "      <td>'transfer RNA'@en</td>\n",
       "    </tr>\n",
       "    <tr>\n",
       "      <th>10</th>\n",
       "      <td>Q5663900</td>\n",
       "      <td>Pindegree</td>\n",
       "      <td>8011</td>\n",
       "      <td>Q5663900-Pindegree-46632</td>\n",
       "      <td>'mayor of a place in Spain'@en</td>\n",
       "    </tr>\n",
       "    <tr>\n",
       "      <th>11</th>\n",
       "      <td>Q11436</td>\n",
       "      <td>Pindegree</td>\n",
       "      <td>4486</td>\n",
       "      <td>Q11436-Pindegree-620</td>\n",
       "      <td>'aircraft'@en</td>\n",
       "    </tr>\n",
       "    <tr>\n",
       "      <th>12</th>\n",
       "      <td>Q284416</td>\n",
       "      <td>Pindegree</td>\n",
       "      <td>3392</td>\n",
       "      <td>Q284416-Pindegree-280684</td>\n",
       "      <td>'small nucleolar RNA'@en</td>\n",
       "    </tr>\n",
       "    <tr>\n",
       "      <th>13</th>\n",
       "      <td>Q99762605</td>\n",
       "      <td>Pindegree</td>\n",
       "      <td>3186</td>\n",
       "      <td>Q99762605-Pindegree-588940</td>\n",
       "      <td>'mayor of a place in Romania'@en</td>\n",
       "    </tr>\n",
       "    <tr>\n",
       "      <th>14</th>\n",
       "      <td>Q2095</td>\n",
       "      <td>Pindegree</td>\n",
       "      <td>2837</td>\n",
       "      <td>Q2095-Pindegree-1938</td>\n",
       "      <td>'food'@en</td>\n",
       "    </tr>\n",
       "    <tr>\n",
       "      <th>15</th>\n",
       "      <td>Q20650761</td>\n",
       "      <td>Pindegree</td>\n",
       "      <td>2459</td>\n",
       "      <td>Q20650761-Pindegree-5618</td>\n",
       "      <td>'tender locomotive'@en</td>\n",
       "    </tr>\n",
       "    <tr>\n",
       "      <th>16</th>\n",
       "      <td>Q1125341</td>\n",
       "      <td>Pindegree</td>\n",
       "      <td>2379</td>\n",
       "      <td>Q1125341-Pindegree-26474</td>\n",
       "      <td>'Italian wine'@en</td>\n",
       "    </tr>\n",
       "    <tr>\n",
       "      <th>17</th>\n",
       "      <td>Q30185</td>\n",
       "      <td>Pindegree</td>\n",
       "      <td>2350</td>\n",
       "      <td>Q30185-Pindegree-1190</td>\n",
       "      <td>'mayor'@en</td>\n",
       "    </tr>\n",
       "    <tr>\n",
       "      <th>18</th>\n",
       "      <td>Q483373</td>\n",
       "      <td>Pindegree</td>\n",
       "      <td>2063</td>\n",
       "      <td>Q483373-Pindegree-2144</td>\n",
       "      <td>'electric multiple unit'@en</td>\n",
       "    </tr>\n",
       "    <tr>\n",
       "      <th>19</th>\n",
       "      <td>Q200779</td>\n",
       "      <td>Pindegree</td>\n",
       "      <td>2027</td>\n",
       "      <td>Q200779-Pindegree-24990</td>\n",
       "      <td>'genetic disease'@en</td>\n",
       "    </tr>\n",
       "    <tr>\n",
       "      <th>20</th>\n",
       "      <td>Q215980</td>\n",
       "      <td>Pindegree</td>\n",
       "      <td>1843</td>\n",
       "      <td>Q215980-Pindegree-113320</td>\n",
       "      <td>'ribosomal RNA'@en</td>\n",
       "    </tr>\n",
       "    <tr>\n",
       "      <th>21</th>\n",
       "      <td>Q17517</td>\n",
       "      <td>Pindegree</td>\n",
       "      <td>1755</td>\n",
       "      <td>Q17517-Pindegree-24936</td>\n",
       "      <td>'mobile phone'@en</td>\n",
       "    </tr>\n",
       "    <tr>\n",
       "      <th>22</th>\n",
       "      <td>Q13219666</td>\n",
       "      <td>Pindegree</td>\n",
       "      <td>1748</td>\n",
       "      <td>Q13219666-Pindegree-23322</td>\n",
       "      <td>'tennis tournament'@en</td>\n",
       "    </tr>\n",
       "    <tr>\n",
       "      <th>23</th>\n",
       "      <td>Q2449730</td>\n",
       "      <td>Pindegree</td>\n",
       "      <td>1739</td>\n",
       "      <td>Q2449730-Pindegree-16150</td>\n",
       "      <td>'transport protein'@en</td>\n",
       "    </tr>\n",
       "    <tr>\n",
       "      <th>24</th>\n",
       "      <td>Q785745</td>\n",
       "      <td>Pindegree</td>\n",
       "      <td>1536</td>\n",
       "      <td>Q785745-Pindegree-5976</td>\n",
       "      <td>'tank locomotive'@en</td>\n",
       "    </tr>\n",
       "  </tbody>\n",
       "</table>\n",
       "</div>"
      ],
      "text/plain": [
       "        node1      label   node2                           id  \\\n",
       "0   Q20747295  Pindegree  942004    Q20747295-Pindegree-19626   \n",
       "1       Q8054  Pindegree  764038        Q8054-Pindegree-15274   \n",
       "2       Q7187  Pindegree  449619         Q7187-Pindegree-5566   \n",
       "3     Q277338  Pindegree   49936     Q277338-Pindegree-220748   \n",
       "4     Q427087  Pindegree   47843     Q427087-Pindegree-197396   \n",
       "5     Q382617  Pindegree   40184      Q382617-Pindegree-45664   \n",
       "6   Q15113603  Pindegree   40179   Q15113603-Pindegree-197900   \n",
       "7      Q11173  Pindegree   14255         Q11173-Pindegree-638   \n",
       "8   Q64698614  Pindegree    8832  Q64698614-Pindegree-2767278   \n",
       "9     Q201448  Pindegree    8724     Q201448-Pindegree-278588   \n",
       "10   Q5663900  Pindegree    8011     Q5663900-Pindegree-46632   \n",
       "11     Q11436  Pindegree    4486         Q11436-Pindegree-620   \n",
       "12    Q284416  Pindegree    3392     Q284416-Pindegree-280684   \n",
       "13  Q99762605  Pindegree    3186   Q99762605-Pindegree-588940   \n",
       "14      Q2095  Pindegree    2837         Q2095-Pindegree-1938   \n",
       "15  Q20650761  Pindegree    2459     Q20650761-Pindegree-5618   \n",
       "16   Q1125341  Pindegree    2379     Q1125341-Pindegree-26474   \n",
       "17     Q30185  Pindegree    2350        Q30185-Pindegree-1190   \n",
       "18    Q483373  Pindegree    2063       Q483373-Pindegree-2144   \n",
       "19    Q200779  Pindegree    2027      Q200779-Pindegree-24990   \n",
       "20    Q215980  Pindegree    1843     Q215980-Pindegree-113320   \n",
       "21     Q17517  Pindegree    1755       Q17517-Pindegree-24936   \n",
       "22  Q13219666  Pindegree    1748    Q13219666-Pindegree-23322   \n",
       "23   Q2449730  Pindegree    1739     Q2449730-Pindegree-16150   \n",
       "24    Q785745  Pindegree    1536       Q785745-Pindegree-5976   \n",
       "\n",
       "                         node1;label  \n",
       "0           'protein-coding gene'@en  \n",
       "1                       'protein'@en  \n",
       "2                          'gene'@en  \n",
       "3                    'pseudogene'@en  \n",
       "4                'non-coding RNA'@en  \n",
       "5    'mayor of a place in France'@en  \n",
       "6          'municipal councillor'@en  \n",
       "7             'chemical compound'@en  \n",
       "8        'pseudogenic transcript'@en  \n",
       "9                  'transfer RNA'@en  \n",
       "10    'mayor of a place in Spain'@en  \n",
       "11                     'aircraft'@en  \n",
       "12          'small nucleolar RNA'@en  \n",
       "13  'mayor of a place in Romania'@en  \n",
       "14                         'food'@en  \n",
       "15            'tender locomotive'@en  \n",
       "16                 'Italian wine'@en  \n",
       "17                        'mayor'@en  \n",
       "18       'electric multiple unit'@en  \n",
       "19              'genetic disease'@en  \n",
       "20                'ribosomal RNA'@en  \n",
       "21                 'mobile phone'@en  \n",
       "22            'tennis tournament'@en  \n",
       "23            'transport protein'@en  \n",
       "24              'tank locomotive'@en  "
      ]
     },
     "execution_count": 158,
     "metadata": {},
     "output_type": "execute_result"
    }
   ],
   "source": [
    "kgtk(\"head -i $TEMP.p279.indegree.tsv.gz -n 25 / add-labels\")"
   ]
  },
  {
   "cell_type": "code",
   "execution_count": 425,
   "metadata": {
    "execution": {
     "iopub.execute_input": "2021-12-29T00:31:51.569504Z",
     "iopub.status.busy": "2021-12-29T00:31:51.569282Z",
     "iopub.status.idle": "2021-12-29T00:31:56.012272Z",
     "shell.execute_reply": "2021-12-29T00:31:56.011571Z",
     "shell.execute_reply.started": "2021-12-29T00:31:51.569481Z"
    },
    "tags": []
   },
   "outputs": [
    {
     "data": {
      "text/html": [
       "<div>\n",
       "<style scoped>\n",
       "    .dataframe tbody tr th:only-of-type {\n",
       "        vertical-align: middle;\n",
       "    }\n",
       "\n",
       "    .dataframe tbody tr th {\n",
       "        vertical-align: top;\n",
       "    }\n",
       "\n",
       "    .dataframe thead th {\n",
       "        text-align: right;\n",
       "    }\n",
       "</style>\n",
       "<table border=\"1\" class=\"dataframe\">\n",
       "  <thead>\n",
       "    <tr style=\"text-align: right;\">\n",
       "      <th></th>\n",
       "      <th>node1</th>\n",
       "      <th>label</th>\n",
       "      <th>node2</th>\n",
       "      <th>id</th>\n",
       "    </tr>\n",
       "  </thead>\n",
       "  <tbody>\n",
       "    <tr>\n",
       "      <th>0</th>\n",
       "      <td>Q20747295</td>\n",
       "      <td>Pindegree</td>\n",
       "      <td>942004</td>\n",
       "      <td>Q20747295-Pindegree-19626</td>\n",
       "    </tr>\n",
       "    <tr>\n",
       "      <th>1</th>\n",
       "      <td>Q8054</td>\n",
       "      <td>Pindegree</td>\n",
       "      <td>764038</td>\n",
       "      <td>Q8054-Pindegree-15274</td>\n",
       "    </tr>\n",
       "    <tr>\n",
       "      <th>2</th>\n",
       "      <td>Q7187</td>\n",
       "      <td>Pindegree</td>\n",
       "      <td>449619</td>\n",
       "      <td>Q7187-Pindegree-5566</td>\n",
       "    </tr>\n",
       "    <tr>\n",
       "      <th>3</th>\n",
       "      <td>Q277338</td>\n",
       "      <td>Pindegree</td>\n",
       "      <td>49936</td>\n",
       "      <td>Q277338-Pindegree-220748</td>\n",
       "    </tr>\n",
       "    <tr>\n",
       "      <th>4</th>\n",
       "      <td>Q427087</td>\n",
       "      <td>Pindegree</td>\n",
       "      <td>47843</td>\n",
       "      <td>Q427087-Pindegree-197396</td>\n",
       "    </tr>\n",
       "    <tr>\n",
       "      <th>...</th>\n",
       "      <td>...</td>\n",
       "      <td>...</td>\n",
       "      <td>...</td>\n",
       "      <td>...</td>\n",
       "    </tr>\n",
       "    <tr>\n",
       "      <th>63</th>\n",
       "      <td>Q1183543</td>\n",
       "      <td>Pindegree</td>\n",
       "      <td>517</td>\n",
       "      <td>Q1183543-Pindegree-330</td>\n",
       "    </tr>\n",
       "    <tr>\n",
       "      <th>64</th>\n",
       "      <td>Q7368</td>\n",
       "      <td>Pindegree</td>\n",
       "      <td>516</td>\n",
       "      <td>Q7368-Pindegree-2150</td>\n",
       "    </tr>\n",
       "    <tr>\n",
       "      <th>65</th>\n",
       "      <td>Q11415564</td>\n",
       "      <td>Pindegree</td>\n",
       "      <td>512</td>\n",
       "      <td>Q11415564-Pindegree-656</td>\n",
       "    </tr>\n",
       "    <tr>\n",
       "      <th>66</th>\n",
       "      <td>Q87008012</td>\n",
       "      <td>Pindegree</td>\n",
       "      <td>501</td>\n",
       "      <td>Q87008012-Pindegree-5226</td>\n",
       "    </tr>\n",
       "    <tr>\n",
       "      <th>67</th>\n",
       "      <td>Q62927</td>\n",
       "      <td>Pindegree</td>\n",
       "      <td>501</td>\n",
       "      <td>Q62927-Pindegree-26744</td>\n",
       "    </tr>\n",
       "  </tbody>\n",
       "</table>\n",
       "<p>68 rows × 4 columns</p>\n",
       "</div>"
      ],
      "text/plain": [
       "        node1      label   node2                         id\n",
       "0   Q20747295  Pindegree  942004  Q20747295-Pindegree-19626\n",
       "1       Q8054  Pindegree  764038      Q8054-Pindegree-15274\n",
       "2       Q7187  Pindegree  449619       Q7187-Pindegree-5566\n",
       "3     Q277338  Pindegree   49936   Q277338-Pindegree-220748\n",
       "4     Q427087  Pindegree   47843   Q427087-Pindegree-197396\n",
       "..        ...        ...     ...                        ...\n",
       "63   Q1183543  Pindegree     517     Q1183543-Pindegree-330\n",
       "64      Q7368  Pindegree     516       Q7368-Pindegree-2150\n",
       "65  Q11415564  Pindegree     512    Q11415564-Pindegree-656\n",
       "66  Q87008012  Pindegree     501   Q87008012-Pindegree-5226\n",
       "67     Q62927  Pindegree     501     Q62927-Pindegree-26744\n",
       "\n",
       "[68 rows x 4 columns]"
      ]
     },
     "execution_count": 425,
     "metadata": {},
     "output_type": "execute_result"
    }
   ],
   "source": [
    "kgtk(\"\"\"\n",
    "    query -i $OUT/statistics.p279.tsv.gz \n",
    "        --match '(n1)-[eid]->(degree)' \n",
    "        --where 'cast(degree, int) > 500' \n",
    "        --order-by 'cast(degree, int) desc'\n",
    "\"\"\")"
   ]
  },
  {
   "cell_type": "markdown",
   "metadata": {},
   "source": [
    "### Create list of high and low `P279` degree classes "
   ]
  },
  {
   "cell_type": "code",
   "execution_count": 213,
   "metadata": {
    "execution": {
     "iopub.execute_input": "2021-12-26T02:39:16.243677Z",
     "iopub.status.busy": "2021-12-26T02:39:16.243151Z",
     "iopub.status.idle": "2021-12-26T02:39:21.211841Z",
     "shell.execute_reply": "2021-12-26T02:39:21.210540Z",
     "shell.execute_reply.started": "2021-12-26T02:39:16.243644Z"
    },
    "tags": []
   },
   "outputs": [],
   "source": [
    "kgtk(\"\"\"\n",
    "    query -i $OUT/statistics.p279.tsv.gz \n",
    "        --match '(n1)-[:Pindegree]->(degree)' \n",
    "        --where 'cast(degree, int) < 500' \n",
    "        --return 'n1 as node1'\n",
    "        --order-by 'cast(degree, int) desc'\n",
    "    -o $OUT/class-browsing.low-degree-nodes.tsv\n",
    "\"\"\")"
   ]
  },
  {
   "cell_type": "markdown",
   "metadata": {},
   "source": [
    "The `class-browsing.low-degree-nodes.tsv` is simply a list of nodes:"
   ]
  },
  {
   "cell_type": "code",
   "execution_count": 439,
   "metadata": {
    "execution": {
     "iopub.execute_input": "2021-12-29T01:24:36.132698Z",
     "iopub.status.busy": "2021-12-29T01:24:36.132436Z",
     "iopub.status.idle": "2021-12-29T01:24:38.369700Z",
     "shell.execute_reply": "2021-12-29T01:24:38.368787Z",
     "shell.execute_reply.started": "2021-12-29T01:24:36.132667Z"
    },
    "tags": []
   },
   "outputs": [
    {
     "data": {
      "text/html": [
       "<div>\n",
       "<style scoped>\n",
       "    .dataframe tbody tr th:only-of-type {\n",
       "        vertical-align: middle;\n",
       "    }\n",
       "\n",
       "    .dataframe tbody tr th {\n",
       "        vertical-align: top;\n",
       "    }\n",
       "\n",
       "    .dataframe thead th {\n",
       "        text-align: right;\n",
       "    }\n",
       "</style>\n",
       "<table border=\"1\" class=\"dataframe\">\n",
       "  <thead>\n",
       "    <tr style=\"text-align: right;\">\n",
       "      <th></th>\n",
       "      <th>node1</th>\n",
       "    </tr>\n",
       "  </thead>\n",
       "  <tbody>\n",
       "    <tr>\n",
       "      <th>0</th>\n",
       "      <td>Q898273</td>\n",
       "    </tr>\n",
       "    <tr>\n",
       "      <th>1</th>\n",
       "      <td>Q1002954</td>\n",
       "    </tr>\n",
       "    <tr>\n",
       "      <th>2</th>\n",
       "      <td>Q11446</td>\n",
       "    </tr>\n",
       "    <tr>\n",
       "      <th>3</th>\n",
       "      <td>Q22325163</td>\n",
       "    </tr>\n",
       "    <tr>\n",
       "      <th>4</th>\n",
       "      <td>Q79529</td>\n",
       "    </tr>\n",
       "  </tbody>\n",
       "</table>\n",
       "</div>"
      ],
      "text/plain": [
       "       node1\n",
       "0    Q898273\n",
       "1   Q1002954\n",
       "2     Q11446\n",
       "3  Q22325163\n",
       "4     Q79529"
      ]
     },
     "execution_count": 439,
     "metadata": {},
     "output_type": "execute_result"
    }
   ],
   "source": [
    "kgtk(\"head -n 5 -i $OUT/class-browsing.low-degree-nodes.tsv\")"
   ]
  },
  {
   "cell_type": "code",
   "execution_count": 407,
   "metadata": {
    "execution": {
     "iopub.execute_input": "2021-12-28T02:20:54.217946Z",
     "iopub.status.busy": "2021-12-28T02:20:54.217672Z",
     "iopub.status.idle": "2021-12-28T02:20:57.153935Z",
     "shell.execute_reply": "2021-12-28T02:20:57.152892Z",
     "shell.execute_reply.started": "2021-12-28T02:20:54.217919Z"
    },
    "tags": []
   },
   "outputs": [],
   "source": [
    "kgtk(\"\"\"\n",
    "    query -i $OUT/statistics.p279.tsv.gz \n",
    "        --match '(n1)-[:Pindegree]->(degree)' \n",
    "        --where 'cast(degree, int) > 499'\n",
    "        --return 'n1 as node1'\n",
    "        --order-by 'cast(degree, int) desc'\n",
    "    -o $OUT/class-browsing.high-degree-nodes.tsv\n",
    "\"\"\")"
   ]
  },
  {
   "cell_type": "markdown",
   "metadata": {},
   "source": [
    "## Create a P279star file that we will use for visualization.\n",
    "\n"
   ]
  },
  {
   "cell_type": "markdown",
   "metadata": {},
   "source": [
    "### First create a complete p279star file containing all classes\n",
    "\n",
    "First create a complete P279star file that contains all classes as our starting point. We do this because in the browser, users can click on any class."
   ]
  },
  {
   "cell_type": "code",
   "execution_count": 59,
   "metadata": {
    "execution": {
     "iopub.execute_input": "2021-12-23T20:37:33.866625Z",
     "iopub.status.busy": "2021-12-23T20:37:33.866374Z",
     "iopub.status.idle": "2021-12-23T21:48:00.754835Z",
     "shell.execute_reply": "2021-12-23T21:48:00.753890Z",
     "shell.execute_reply.started": "2021-12-23T20:37:33.866598Z"
    },
    "tags": []
   },
   "outputs": [],
   "source": [
    "kgtk(\"\"\"\n",
    "    reachable-nodes\n",
    "        --rootfile $OUT/classes.tsv.gz\n",
    "        --selflink \n",
    "        --breadth-first True\n",
    "        --show-distance True\n",
    "        --label P279star\n",
    "        -i \"$p279\"\n",
    "        -o $TEMP/derived.p279star.complete.tsv.gz\n",
    "\"\"\")"
   ]
  },
  {
   "cell_type": "code",
   "execution_count": 63,
   "metadata": {
    "execution": {
     "iopub.execute_input": "2021-12-24T00:19:56.364755Z",
     "iopub.status.busy": "2021-12-24T00:19:56.364472Z",
     "iopub.status.idle": "2021-12-24T00:20:00.013418Z",
     "shell.execute_reply": "2021-12-24T00:20:00.012657Z",
     "shell.execute_reply.started": "2021-12-24T00:19:56.364725Z"
    },
    "tags": []
   },
   "outputs": [
    {
     "data": {
      "text/html": [
       "<div>\n",
       "<style scoped>\n",
       "    .dataframe tbody tr th:only-of-type {\n",
       "        vertical-align: middle;\n",
       "    }\n",
       "\n",
       "    .dataframe tbody tr th {\n",
       "        vertical-align: top;\n",
       "    }\n",
       "\n",
       "    .dataframe thead th {\n",
       "        text-align: right;\n",
       "    }\n",
       "</style>\n",
       "<table border=\"1\" class=\"dataframe\">\n",
       "  <thead>\n",
       "    <tr style=\"text-align: right;\">\n",
       "      <th></th>\n",
       "      <th>node1</th>\n",
       "      <th>label</th>\n",
       "      <th>node2</th>\n",
       "      <th>distance</th>\n",
       "    </tr>\n",
       "  </thead>\n",
       "  <tbody>\n",
       "    <tr>\n",
       "      <th>0</th>\n",
       "      <td>Q100000030</td>\n",
       "      <td>P279star</td>\n",
       "      <td>Q100000030</td>\n",
       "      <td>0</td>\n",
       "    </tr>\n",
       "    <tr>\n",
       "      <th>1</th>\n",
       "      <td>Q100000030</td>\n",
       "      <td>P279star</td>\n",
       "      <td>Q14748</td>\n",
       "      <td>1</td>\n",
       "    </tr>\n",
       "    <tr>\n",
       "      <th>2</th>\n",
       "      <td>Q100000030</td>\n",
       "      <td>P279star</td>\n",
       "      <td>Q14745</td>\n",
       "      <td>2</td>\n",
       "    </tr>\n",
       "    <tr>\n",
       "      <th>3</th>\n",
       "      <td>Q100000030</td>\n",
       "      <td>P279star</td>\n",
       "      <td>Q1357761</td>\n",
       "      <td>3</td>\n",
       "    </tr>\n",
       "    <tr>\n",
       "      <th>4</th>\n",
       "      <td>Q100000030</td>\n",
       "      <td>P279star</td>\n",
       "      <td>Q2424752</td>\n",
       "      <td>3</td>\n",
       "    </tr>\n",
       "    <tr>\n",
       "      <th>5</th>\n",
       "      <td>Q100000030</td>\n",
       "      <td>P279star</td>\n",
       "      <td>Q31807746</td>\n",
       "      <td>3</td>\n",
       "    </tr>\n",
       "    <tr>\n",
       "      <th>6</th>\n",
       "      <td>Q100000030</td>\n",
       "      <td>P279star</td>\n",
       "      <td>Q8205328</td>\n",
       "      <td>3</td>\n",
       "    </tr>\n",
       "    <tr>\n",
       "      <th>7</th>\n",
       "      <td>Q100000030</td>\n",
       "      <td>P279star</td>\n",
       "      <td>Q223557</td>\n",
       "      <td>4</td>\n",
       "    </tr>\n",
       "    <tr>\n",
       "      <th>8</th>\n",
       "      <td>Q100000030</td>\n",
       "      <td>P279star</td>\n",
       "      <td>Q15401930</td>\n",
       "      <td>4</td>\n",
       "    </tr>\n",
       "    <tr>\n",
       "      <th>9</th>\n",
       "      <td>Q100000030</td>\n",
       "      <td>P279star</td>\n",
       "      <td>Q28877</td>\n",
       "      <td>4</td>\n",
       "    </tr>\n",
       "  </tbody>\n",
       "</table>\n",
       "</div>"
      ],
      "text/plain": [
       "        node1     label       node2  distance\n",
       "0  Q100000030  P279star  Q100000030         0\n",
       "1  Q100000030  P279star      Q14748         1\n",
       "2  Q100000030  P279star      Q14745         2\n",
       "3  Q100000030  P279star    Q1357761         3\n",
       "4  Q100000030  P279star    Q2424752         3\n",
       "5  Q100000030  P279star   Q31807746         3\n",
       "6  Q100000030  P279star    Q8205328         3\n",
       "7  Q100000030  P279star     Q223557         4\n",
       "8  Q100000030  P279star   Q15401930         4\n",
       "9  Q100000030  P279star      Q28877         4"
      ]
     },
     "execution_count": 63,
     "metadata": {},
     "output_type": "execute_result"
    }
   ],
   "source": [
    "kgtk(\"head -i $TEMP/derived.p279star.complete.tsv.gz -n 10\")"
   ]
  },
  {
   "cell_type": "markdown",
   "metadata": {},
   "source": [
    "The complete p279star file has only a few more edges than the default one. We should replace the original one with the complete one in any case."
   ]
  },
  {
   "cell_type": "code",
   "execution_count": 434,
   "metadata": {
    "execution": {
     "iopub.execute_input": "2021-12-29T01:11:04.889226Z",
     "iopub.status.busy": "2021-12-29T01:11:04.888989Z",
     "iopub.status.idle": "2021-12-29T01:12:00.322260Z",
     "shell.execute_reply": "2021-12-29T01:12:00.321533Z",
     "shell.execute_reply.started": "2021-12-29T01:11:04.889201Z"
    },
    "tags": []
   },
   "outputs": [
    {
     "name": "stdout",
     "output_type": "stream",
     "text": [
      " 87773437\n"
     ]
    }
   ],
   "source": [
    "!zcat < \"$p279star\" | wc -l"
   ]
  },
  {
   "cell_type": "code",
   "execution_count": 62,
   "metadata": {
    "execution": {
     "iopub.execute_input": "2021-12-24T00:18:35.376302Z",
     "iopub.status.busy": "2021-12-24T00:18:35.376064Z",
     "iopub.status.idle": "2021-12-24T00:18:38.620684Z",
     "shell.execute_reply": "2021-12-24T00:18:38.619512Z",
     "shell.execute_reply.started": "2021-12-24T00:18:35.376278Z"
    }
   },
   "outputs": [
    {
     "name": "stdout",
     "output_type": "stream",
     "text": [
      " 87783113\n"
     ]
    }
   ],
   "source": [
    "!zcat < $TEMP/derived.p279star.complete.tsv.gz | wc -l"
   ]
  },
  {
   "cell_type": "markdown",
   "metadata": {},
   "source": [
    "Add ids and index for use in queries. The new file has a distance column, which we index too so that we can do index queries quickly."
   ]
  },
  {
   "cell_type": "code",
   "execution_count": 64,
   "metadata": {
    "execution": {
     "iopub.execute_input": "2021-12-24T00:22:21.813441Z",
     "iopub.status.busy": "2021-12-24T00:22:21.813169Z",
     "iopub.status.idle": "2021-12-24T00:39:29.121863Z",
     "shell.execute_reply": "2021-12-24T00:39:29.120880Z",
     "shell.execute_reply.started": "2021-12-24T00:22:21.813410Z"
    }
   },
   "outputs": [],
   "source": [
    "kgtk(\"\"\"\n",
    "    add-id --id-style wikidata -i $TEMP/derived.p279star.complete.tsv.gz\n",
    "    -o $OUT/derived.p279star.complete.tsv.gz\n",
    "\"\"\")"
   ]
  },
  {
   "cell_type": "code",
   "execution_count": 80,
   "metadata": {
    "execution": {
     "iopub.execute_input": "2021-12-24T01:56:47.767303Z",
     "iopub.status.busy": "2021-12-24T01:56:47.766919Z",
     "iopub.status.idle": "2021-12-24T01:59:24.971162Z",
     "shell.execute_reply": "2021-12-24T01:59:24.970253Z",
     "shell.execute_reply.started": "2021-12-24T01:56:47.767274Z"
    },
    "tags": []
   },
   "outputs": [
    {
     "name": "stdout",
     "output_type": "stream",
     "text": [
      "[2021-12-23 17:56:49 query]: SQL Translation:\n",
      "---------------------------------------------\n",
      "  SELECT *\n",
      "     FROM graph_5 AS graph_5_c1\n",
      "     LIMIT ?\n",
      "  PARAS: [3]\n",
      "---------------------------------------------\n",
      "[2021-12-23 17:56:49 sqlstore]: CREATE INDEX \"graph_5_node2_node1_distance_idx\" ON \"graph_5\" (\"node2\", \"node1\", \"distance\")\n",
      "[2021-12-23 17:59:12 sqlstore]: ANALYZE \"graph_5_node2_node1_distance_idx\"\n",
      "node1\tlabel\tnode2\tdistance\tid\n",
      "Q100000030\tP279star\tQ100000030\t0\tQ100000030-P279star-Q100000030\n",
      "Q100000030\tP279star\tQ14748\t1\tQ100000030-P279star-Q14748\n",
      "Q100000030\tP279star\tQ14745\t2\tQ100000030-P279star-Q14745\n"
     ]
    }
   ],
   "source": [
    "!kgtk --debug query -i $OUT/derived.p279star.complete.tsv.gz --as p279stard --idx index:node2,node1,distance --limit 3"
   ]
  },
  {
   "cell_type": "markdown",
   "metadata": {},
   "source": [
    "### Count the number of subclasses \n",
    "We eventually want to build the subclass graph for each class, but some may be too large"
   ]
  },
  {
   "cell_type": "code",
   "execution_count": 69,
   "metadata": {
    "execution": {
     "iopub.execute_input": "2021-12-24T01:00:54.315106Z",
     "iopub.status.busy": "2021-12-24T01:00:54.314268Z",
     "iopub.status.idle": "2021-12-24T01:02:59.201951Z",
     "shell.execute_reply": "2021-12-24T01:02:59.201009Z",
     "shell.execute_reply.started": "2021-12-24T01:00:54.315046Z"
    },
    "tags": []
   },
   "outputs": [],
   "source": [
    "kgtk(\"\"\"\n",
    "    query -i p279starcomplete\n",
    "        --match '\n",
    "            (subclass)-[]->(class)'\n",
    "        --return 'class as node1, \"Pcount_subclasses\" as label, count(distinct subclass) as node2, class as graph'\n",
    "        --where 'subclass != class'\n",
    "        --order-by 'cast(node2, int) desc'\n",
    "    -o $TEMP/subclass.count.tsv.gz\n",
    "\"\"\")"
   ]
  },
  {
   "cell_type": "markdown",
   "metadata": {},
   "source": [
    "Get an overview of the file. The top classes have an enormous number of subclasses, which will cause trouble for visualization.\n",
    "Also, only 126K classes with subclasses, so there are a lot of leaf classes in Wikidata.\n",
    "\n",
    "In the steps below we exclude the high degree classes, but that won't fix the problem as the top classes have too many subclasses anyway. Sigh. The browser will freeze and the user will be annoyed."
   ]
  },
  {
   "cell_type": "code",
   "execution_count": 70,
   "metadata": {
    "execution": {
     "iopub.execute_input": "2021-12-24T01:02:59.204426Z",
     "iopub.status.busy": "2021-12-24T01:02:59.203943Z",
     "iopub.status.idle": "2021-12-24T01:04:51.217239Z",
     "shell.execute_reply": "2021-12-24T01:04:51.216464Z",
     "shell.execute_reply.started": "2021-12-24T01:02:59.204395Z"
    },
    "tags": []
   },
   "outputs": [
    {
     "data": {
      "text/html": [
       "<div>\n",
       "<style scoped>\n",
       "    .dataframe tbody tr th:only-of-type {\n",
       "        vertical-align: middle;\n",
       "    }\n",
       "\n",
       "    .dataframe tbody tr th {\n",
       "        vertical-align: top;\n",
       "    }\n",
       "\n",
       "    .dataframe thead th {\n",
       "        text-align: right;\n",
       "    }\n",
       "</style>\n",
       "<table border=\"1\" class=\"dataframe\">\n",
       "  <thead>\n",
       "    <tr style=\"text-align: right;\">\n",
       "      <th></th>\n",
       "      <th>node1</th>\n",
       "      <th>label</th>\n",
       "      <th>node2</th>\n",
       "      <th>graph</th>\n",
       "      <th>node1;label</th>\n",
       "      <th>graph;label</th>\n",
       "    </tr>\n",
       "  </thead>\n",
       "  <tbody>\n",
       "    <tr>\n",
       "      <th>0</th>\n",
       "      <td>Q35120</td>\n",
       "      <td>Pcount_subclasses</td>\n",
       "      <td>2461204</td>\n",
       "      <td>Q35120</td>\n",
       "      <td>'entity'@en</td>\n",
       "      <td>'entity'@en</td>\n",
       "    </tr>\n",
       "    <tr>\n",
       "      <th>1</th>\n",
       "      <td>Q99527517</td>\n",
       "      <td>Pcount_subclasses</td>\n",
       "      <td>2254394</td>\n",
       "      <td>Q99527517</td>\n",
       "      <td>'collection entity'@en</td>\n",
       "      <td>'collection entity'@en</td>\n",
       "    </tr>\n",
       "    <tr>\n",
       "      <th>2</th>\n",
       "      <td>Q28813620</td>\n",
       "      <td>Pcount_subclasses</td>\n",
       "      <td>1362927</td>\n",
       "      <td>Q28813620</td>\n",
       "      <td>'set'@en</td>\n",
       "      <td>'set'@en</td>\n",
       "    </tr>\n",
       "    <tr>\n",
       "      <th>3</th>\n",
       "      <td>Q16887380</td>\n",
       "      <td>Pcount_subclasses</td>\n",
       "      <td>1362452</td>\n",
       "      <td>Q16887380</td>\n",
       "      <td>'group'@en</td>\n",
       "      <td>'group'@en</td>\n",
       "    </tr>\n",
       "    <tr>\n",
       "      <th>4</th>\n",
       "      <td>Q488383</td>\n",
       "      <td>Pcount_subclasses</td>\n",
       "      <td>1286223</td>\n",
       "      <td>Q488383</td>\n",
       "      <td>'object'@en</td>\n",
       "      <td>'object'@en</td>\n",
       "    </tr>\n",
       "    <tr>\n",
       "      <th>...</th>\n",
       "      <td>...</td>\n",
       "      <td>...</td>\n",
       "      <td>...</td>\n",
       "      <td>...</td>\n",
       "      <td>...</td>\n",
       "      <td>...</td>\n",
       "    </tr>\n",
       "    <tr>\n",
       "      <th>126319</th>\n",
       "      <td>Q99970237</td>\n",
       "      <td>Pcount_subclasses</td>\n",
       "      <td>1</td>\n",
       "      <td>Q99970237</td>\n",
       "      <td>'anthropomorphic deer'@en</td>\n",
       "      <td>'anthropomorphic deer'@en</td>\n",
       "    </tr>\n",
       "    <tr>\n",
       "      <th>126320</th>\n",
       "      <td>Q99971015</td>\n",
       "      <td>Pcount_subclasses</td>\n",
       "      <td>1</td>\n",
       "      <td>Q99971015</td>\n",
       "      <td>'anthropomorphic cow or other cattle'@en</td>\n",
       "      <td>'anthropomorphic cow or other cattle'@en</td>\n",
       "    </tr>\n",
       "    <tr>\n",
       "      <th>126321</th>\n",
       "      <td>Q99972330</td>\n",
       "      <td>Pcount_subclasses</td>\n",
       "      <td>1</td>\n",
       "      <td>Q99972330</td>\n",
       "      <td>'video game occupation'@en</td>\n",
       "      <td>'video game occupation'@en</td>\n",
       "    </tr>\n",
       "    <tr>\n",
       "      <th>126322</th>\n",
       "      <td>Q99974769</td>\n",
       "      <td>Pcount_subclasses</td>\n",
       "      <td>1</td>\n",
       "      <td>Q99974769</td>\n",
       "      <td>NaN</td>\n",
       "      <td>NaN</td>\n",
       "    </tr>\n",
       "    <tr>\n",
       "      <th>126323</th>\n",
       "      <td>Q999897</td>\n",
       "      <td>Pcount_subclasses</td>\n",
       "      <td>1</td>\n",
       "      <td>Q999897</td>\n",
       "      <td>'middle management'@en</td>\n",
       "      <td>'middle management'@en</td>\n",
       "    </tr>\n",
       "  </tbody>\n",
       "</table>\n",
       "<p>126324 rows × 6 columns</p>\n",
       "</div>"
      ],
      "text/plain": [
       "            node1              label    node2      graph  \\\n",
       "0          Q35120  Pcount_subclasses  2461204     Q35120   \n",
       "1       Q99527517  Pcount_subclasses  2254394  Q99527517   \n",
       "2       Q28813620  Pcount_subclasses  1362927  Q28813620   \n",
       "3       Q16887380  Pcount_subclasses  1362452  Q16887380   \n",
       "4         Q488383  Pcount_subclasses  1286223    Q488383   \n",
       "...           ...                ...      ...        ...   \n",
       "126319  Q99970237  Pcount_subclasses        1  Q99970237   \n",
       "126320  Q99971015  Pcount_subclasses        1  Q99971015   \n",
       "126321  Q99972330  Pcount_subclasses        1  Q99972330   \n",
       "126322  Q99974769  Pcount_subclasses        1  Q99974769   \n",
       "126323    Q999897  Pcount_subclasses        1    Q999897   \n",
       "\n",
       "                                     node1;label  \\\n",
       "0                                    'entity'@en   \n",
       "1                         'collection entity'@en   \n",
       "2                                       'set'@en   \n",
       "3                                     'group'@en   \n",
       "4                                    'object'@en   \n",
       "...                                          ...   \n",
       "126319                 'anthropomorphic deer'@en   \n",
       "126320  'anthropomorphic cow or other cattle'@en   \n",
       "126321                'video game occupation'@en   \n",
       "126322                                       NaN   \n",
       "126323                    'middle management'@en   \n",
       "\n",
       "                                     graph;label  \n",
       "0                                    'entity'@en  \n",
       "1                         'collection entity'@en  \n",
       "2                                       'set'@en  \n",
       "3                                     'group'@en  \n",
       "4                                    'object'@en  \n",
       "...                                          ...  \n",
       "126319                 'anthropomorphic deer'@en  \n",
       "126320  'anthropomorphic cow or other cattle'@en  \n",
       "126321                'video game occupation'@en  \n",
       "126322                                       NaN  \n",
       "126323                    'middle management'@en  \n",
       "\n",
       "[126324 rows x 6 columns]"
      ]
     },
     "execution_count": 70,
     "metadata": {},
     "output_type": "execute_result"
    }
   ],
   "source": [
    "df = kgtk(\"\"\"\n",
    "    cat -i $TEMP/subclass.count.tsv.gz / add-labels\n",
    "\"\"\")\n",
    "df"
   ]
  },
  {
   "cell_type": "markdown",
   "metadata": {},
   "source": [
    "### Create a subset of p279 that excludes high in-degree classes in node2\n",
    "\n",
    "File `class-browsing.low-degree-nodes.tsv` has the class with a low number of subclasses, which we call the low degree nodes. Our low degree P279 file will have all P279 edges that arrive at a low degree class, i.e., where the superclass is a low degree class."
   ]
  },
  {
   "cell_type": "code",
   "execution_count": 214,
   "metadata": {
    "execution": {
     "iopub.execute_input": "2021-12-26T02:40:55.929032Z",
     "iopub.status.busy": "2021-12-26T02:40:55.928782Z",
     "iopub.status.idle": "2021-12-26T02:41:10.921780Z",
     "shell.execute_reply": "2021-12-26T02:41:10.920352Z",
     "shell.execute_reply.started": "2021-12-26T02:40:55.929007Z"
    },
    "tags": []
   },
   "outputs": [],
   "source": [
    "kgtk(\"\"\"\n",
    "    query -i p279 -i $OUT/class-browsing.low-degree-nodes.tsv\n",
    "        --match '\n",
    "            p279: (class)-[eid]->(superclass),\n",
    "            low: (superclass)'\n",
    "        --return 'class as node1, eid.label as label, superclass as node2, eid as id'\n",
    "    -o $OUT/p279.lowdegree.tsv.gz\n",
    "\"\"\")"
   ]
  },
  {
   "cell_type": "code",
   "execution_count": 190,
   "metadata": {
    "execution": {
     "iopub.execute_input": "2021-12-26T01:39:00.076289Z",
     "iopub.status.busy": "2021-12-26T01:39:00.075966Z",
     "iopub.status.idle": "2021-12-26T01:39:05.379329Z",
     "shell.execute_reply": "2021-12-26T01:39:05.378442Z",
     "shell.execute_reply.started": "2021-12-26T01:39:00.076256Z"
    }
   },
   "outputs": [
    {
     "name": "stdout",
     "output_type": "stream",
     "text": [
      " 3077832\n"
     ]
    }
   ],
   "source": [
    "!zcat < \"$p279\" | wc -l"
   ]
  },
  {
   "cell_type": "markdown",
   "metadata": {},
   "source": [
    "The low degree P279 file has many fewer edges, which is expected as the high degree classes account for a lot of edges."
   ]
  },
  {
   "cell_type": "code",
   "execution_count": 215,
   "metadata": {
    "execution": {
     "iopub.execute_input": "2021-12-26T02:41:10.925018Z",
     "iopub.status.busy": "2021-12-26T02:41:10.924543Z",
     "iopub.status.idle": "2021-12-26T02:41:11.191231Z",
     "shell.execute_reply": "2021-12-26T02:41:11.189934Z",
     "shell.execute_reply.started": "2021-12-26T02:41:10.924984Z"
    },
    "tags": []
   },
   "outputs": [
    {
     "name": "stdout",
     "output_type": "stream",
     "text": [
      "  633444\n"
     ]
    }
   ],
   "source": [
    "!zcat < $OUT/p279.lowdegree.tsv.gz | wc -l"
   ]
  },
  {
   "cell_type": "markdown",
   "metadata": {},
   "source": [
    "### Recompute P279star with the low degree classes\n",
    "The output will be `derived.p279star.low-degree.complete.tsv.gz`\n",
    "\n",
    "We start at all classes, and find all superclasses for them, excluding the high degree classes."
   ]
  },
  {
   "cell_type": "code",
   "execution_count": 216,
   "metadata": {
    "execution": {
     "iopub.execute_input": "2021-12-26T02:41:11.193597Z",
     "iopub.status.busy": "2021-12-26T02:41:11.193326Z",
     "iopub.status.idle": "2021-12-26T02:47:50.119397Z",
     "shell.execute_reply": "2021-12-26T02:47:50.117610Z",
     "shell.execute_reply.started": "2021-12-26T02:41:11.193555Z"
    },
    "tags": []
   },
   "outputs": [],
   "source": [
    "kgtk(\"\"\"\n",
    "    reachable-nodes\n",
    "        --rootfile $OUT/classes.tsv.gz\n",
    "        --selflink \n",
    "        --breadth-first True\n",
    "        --show-distance True\n",
    "        --label P279star\n",
    "        -i $OUT/p279.lowdegree.tsv.gz\n",
    "        -o $TEMP/derived.p279star.low-degree.complete.tsv.gz\n",
    "\"\"\")"
   ]
  },
  {
   "cell_type": "markdown",
   "metadata": {},
   "source": [
    "Add ids"
   ]
  },
  {
   "cell_type": "code",
   "execution_count": 217,
   "metadata": {
    "execution": {
     "iopub.execute_input": "2021-12-26T02:47:50.122203Z",
     "iopub.status.busy": "2021-12-26T02:47:50.121940Z",
     "iopub.status.idle": "2021-12-26T02:50:39.061300Z",
     "shell.execute_reply": "2021-12-26T02:50:39.059529Z",
     "shell.execute_reply.started": "2021-12-26T02:47:50.122174Z"
    },
    "tags": []
   },
   "outputs": [],
   "source": [
    "kgtk(\"\"\"\n",
    "    add-id --id-style wikidata -i $TEMP/derived.p279star.low-degree.complete.tsv.gz\n",
    "    -o $OUT/derived.p279star.low-degree.complete.tsv.gz\n",
    "\"\"\")"
   ]
  },
  {
   "cell_type": "markdown",
   "metadata": {},
   "source": [
    "Index using node1, node2 and distance. I wonder if we should also index the id column?"
   ]
  },
  {
   "cell_type": "code",
   "execution_count": 218,
   "metadata": {
    "execution": {
     "iopub.execute_input": "2021-12-26T02:50:39.063992Z",
     "iopub.status.busy": "2021-12-26T02:50:39.063602Z",
     "iopub.status.idle": "2021-12-26T02:52:27.266887Z",
     "shell.execute_reply": "2021-12-26T02:52:27.265663Z",
     "shell.execute_reply.started": "2021-12-26T02:50:39.063945Z"
    },
    "tags": []
   },
   "outputs": [
    {
     "name": "stdout",
     "output_type": "stream",
     "text": [
      "[2021-12-25 18:50:41 sqlstore]: DROP graph data table graph_11 from p279starlow\n",
      "[2021-12-25 18:50:51 sqlstore]: IMPORT graph directly into table graph_11 from /Users/pedroszekely/Downloads/kypher/projects/class-visualization/derived.p279star.low-degree.complete.tsv.gz ...\n",
      "[2021-12-25 18:51:59 query]: SQL Translation:\n",
      "---------------------------------------------\n",
      "  SELECT *\n",
      "     FROM graph_11 AS graph_11_c1\n",
      "     LIMIT ?\n",
      "  PARAS: [3]\n",
      "---------------------------------------------\n",
      "[2021-12-25 18:51:59 sqlstore]: CREATE INDEX \"graph_11_node2_node1_distance_idx\" ON \"graph_11\" (\"node2\", \"node1\", \"distance\")\n",
      "[2021-12-25 18:52:24 sqlstore]: ANALYZE \"graph_11_node2_node1_distance_idx\"\n",
      "node1\tlabel\tnode2\tdistance\tid\n",
      "Q100000030\tP279star\tQ100000030\t0\tQ100000030-P279star-Q100000030\n",
      "Q100000030\tP279star\tQ14748\t1\tQ100000030-P279star-Q14748\n",
      "Q100000030\tP279star\tQ14745\t2\tQ100000030-P279star-Q14745\n"
     ]
    }
   ],
   "source": [
    "!kgtk --debug query -i $OUT/derived.p279star.low-degree.complete.tsv.gz --as p279starlow --idx index:node2,node1,distance --limit 3"
   ]
  },
  {
   "cell_type": "markdown",
   "metadata": {},
   "source": [
    "### Statistics to show in the graph\n",
    "\n",
    "> We are not computing the statistics file in this notebook as it is computed in the `p1963` project. \n",
    "> We need the file here, so Pedro copied it from the `p1963` project and put it in the `$TEMP` folder\n",
    "\n",
    "File is `statistics.Pinstance_count.tsv.gz`\n"
   ]
  },
  {
   "cell_type": "code",
   "execution_count": 270,
   "metadata": {
    "execution": {
     "iopub.execute_input": "2021-12-26T05:45:50.418183Z",
     "iopub.status.busy": "2021-12-26T05:45:50.417826Z",
     "iopub.status.idle": "2021-12-26T05:45:52.598966Z",
     "shell.execute_reply": "2021-12-26T05:45:52.598274Z",
     "shell.execute_reply.started": "2021-12-26T05:45:50.418163Z"
    }
   },
   "outputs": [
    {
     "data": {
      "text/html": [
       "<div>\n",
       "<style scoped>\n",
       "    .dataframe tbody tr th:only-of-type {\n",
       "        vertical-align: middle;\n",
       "    }\n",
       "\n",
       "    .dataframe tbody tr th {\n",
       "        vertical-align: top;\n",
       "    }\n",
       "\n",
       "    .dataframe thead th {\n",
       "        text-align: right;\n",
       "    }\n",
       "</style>\n",
       "<table border=\"1\" class=\"dataframe\">\n",
       "  <thead>\n",
       "    <tr style=\"text-align: right;\">\n",
       "      <th></th>\n",
       "      <th>node1</th>\n",
       "      <th>label</th>\n",
       "      <th>node2</th>\n",
       "      <th>id</th>\n",
       "    </tr>\n",
       "  </thead>\n",
       "  <tbody>\n",
       "    <tr>\n",
       "      <th>0</th>\n",
       "      <td>Q1000017</td>\n",
       "      <td>Pinstance_count</td>\n",
       "      <td>1</td>\n",
       "      <td>Q1000017-Pinstance_count-6b86b2</td>\n",
       "    </tr>\n",
       "    <tr>\n",
       "      <th>1</th>\n",
       "      <td>Q1000091</td>\n",
       "      <td>Pinstance_count</td>\n",
       "      <td>1</td>\n",
       "      <td>Q1000091-Pinstance_count-6b86b2</td>\n",
       "    </tr>\n",
       "    <tr>\n",
       "      <th>2</th>\n",
       "      <td>Q1000156</td>\n",
       "      <td>Pinstance_count</td>\n",
       "      <td>11</td>\n",
       "      <td>Q1000156-Pinstance_count-4fc82b</td>\n",
       "    </tr>\n",
       "    <tr>\n",
       "      <th>3</th>\n",
       "      <td>Q100023</td>\n",
       "      <td>Pinstance_count</td>\n",
       "      <td>1</td>\n",
       "      <td>Q100023-Pinstance_count-6b86b2</td>\n",
       "    </tr>\n",
       "    <tr>\n",
       "      <th>4</th>\n",
       "      <td>Q100026</td>\n",
       "      <td>Pinstance_count</td>\n",
       "      <td>1</td>\n",
       "      <td>Q100026-Pinstance_count-6b86b2</td>\n",
       "    </tr>\n",
       "    <tr>\n",
       "      <th>5</th>\n",
       "      <td>Q100029091</td>\n",
       "      <td>Pinstance_count</td>\n",
       "      <td>10</td>\n",
       "      <td>Q100029091-Pinstance_count-4a44dc</td>\n",
       "    </tr>\n",
       "    <tr>\n",
       "      <th>6</th>\n",
       "      <td>Q1000300</td>\n",
       "      <td>Pinstance_count</td>\n",
       "      <td>2</td>\n",
       "      <td>Q1000300-Pinstance_count-d4735e</td>\n",
       "    </tr>\n",
       "    <tr>\n",
       "      <th>7</th>\n",
       "      <td>Q100034524</td>\n",
       "      <td>Pinstance_count</td>\n",
       "      <td>3</td>\n",
       "      <td>Q100034524-Pinstance_count-4e0740</td>\n",
       "    </tr>\n",
       "    <tr>\n",
       "      <th>8</th>\n",
       "      <td>Q1000371</td>\n",
       "      <td>Pinstance_count</td>\n",
       "      <td>3</td>\n",
       "      <td>Q1000371-Pinstance_count-4e0740</td>\n",
       "    </tr>\n",
       "    <tr>\n",
       "      <th>9</th>\n",
       "      <td>Q100038174</td>\n",
       "      <td>Pinstance_count</td>\n",
       "      <td>11</td>\n",
       "      <td>Q100038174-Pinstance_count-4fc82b</td>\n",
       "    </tr>\n",
       "  </tbody>\n",
       "</table>\n",
       "</div>"
      ],
      "text/plain": [
       "        node1            label  node2                                 id\n",
       "0    Q1000017  Pinstance_count      1    Q1000017-Pinstance_count-6b86b2\n",
       "1    Q1000091  Pinstance_count      1    Q1000091-Pinstance_count-6b86b2\n",
       "2    Q1000156  Pinstance_count     11    Q1000156-Pinstance_count-4fc82b\n",
       "3     Q100023  Pinstance_count      1     Q100023-Pinstance_count-6b86b2\n",
       "4     Q100026  Pinstance_count      1     Q100026-Pinstance_count-6b86b2\n",
       "5  Q100029091  Pinstance_count     10  Q100029091-Pinstance_count-4a44dc\n",
       "6    Q1000300  Pinstance_count      2    Q1000300-Pinstance_count-d4735e\n",
       "7  Q100034524  Pinstance_count      3  Q100034524-Pinstance_count-4e0740\n",
       "8    Q1000371  Pinstance_count      3    Q1000371-Pinstance_count-4e0740\n",
       "9  Q100038174  Pinstance_count     11  Q100038174-Pinstance_count-4fc82b"
      ]
     },
     "execution_count": 270,
     "metadata": {},
     "output_type": "execute_result"
    }
   ],
   "source": [
    "kgtk(\"head -i $TEMP/statistics.Pinstance_count.tsv.gz\")"
   ]
  },
  {
   "cell_type": "code",
   "execution_count": 271,
   "metadata": {
    "execution": {
     "iopub.execute_input": "2021-12-26T05:47:38.880805Z",
     "iopub.status.busy": "2021-12-26T05:47:38.880404Z",
     "iopub.status.idle": "2021-12-26T05:47:42.508976Z",
     "shell.execute_reply": "2021-12-26T05:47:42.508123Z",
     "shell.execute_reply.started": "2021-12-26T05:47:38.880772Z"
    }
   },
   "outputs": [
    {
     "name": "stdout",
     "output_type": "stream",
     "text": [
      "[2021-12-25 21:47:40 sqlstore]: IMPORT graph directly into table graph_12 from /Users/pedroszekely/Downloads/kypher/projects/class-visualization/temp.class-visualization/statistics.Pinstance_count.tsv.gz ...\n",
      "[2021-12-25 21:47:41 query]: SQL Translation:\n",
      "---------------------------------------------\n",
      "  SELECT *\n",
      "     FROM graph_12 AS graph_12_c1\n",
      "     LIMIT ?\n",
      "  PARAS: [5]\n",
      "---------------------------------------------\n",
      "[2021-12-25 21:47:41 sqlstore]: CREATE INDEX \"graph_12_node1_label_node2_idx\" ON \"graph_12\" (\"node1\", \"label\", \"node2\")\n",
      "[2021-12-25 21:47:42 sqlstore]: ANALYZE \"graph_12_node1_label_node2_idx\"\n",
      "[2021-12-25 21:47:42 sqlstore]: CREATE INDEX \"graph_12_node2_label_node1_idx\" ON \"graph_12\" (\"node2\", \"label\", \"node1\")\n",
      "[2021-12-25 21:47:42 sqlstore]: ANALYZE \"graph_12_node2_label_node1_idx\"\n",
      "node1\tlabel\tnode2\tid\n",
      "Q1000017\tPinstance_count\t1\tQ1000017-Pinstance_count-6b86b2\n",
      "Q1000091\tPinstance_count\t1\tQ1000091-Pinstance_count-6b86b2\n",
      "Q1000156\tPinstance_count\t11\tQ1000156-Pinstance_count-4fc82b\n",
      "Q100023\tPinstance_count\t1\tQ100023-Pinstance_count-6b86b2\n",
      "Q100026\tPinstance_count\t1\tQ100026-Pinstance_count-6b86b2\n"
     ]
    }
   ],
   "source": [
    "!kgtk --debug query -i $TEMP/statistics.Pinstance_count.tsv.gz --idx mode:monograph --limit 5"
   ]
  },
  {
   "cell_type": "markdown",
   "metadata": {},
   "source": [
    "## Compute the edge file that contains the graph we want to visualize for each class\n",
    "\n",
    "The edge file contains `subclass / P279 / class` edges, but we add two columns to support the visualization:\n",
    "\n",
    "- `graph:` is the id of a class we want to visualize. This columns allows us to quickly fetch all the edges to build the visualization of a class.\n",
    "- `edge_type`: in the visualization we want to distinguish `subclass` and `superclass` edges so the viewer can easily distinguish subclasses and superclasses."
   ]
  },
  {
   "cell_type": "markdown",
   "metadata": {},
   "source": [
    "### Compute the subclass edges\n",
    "\n",
    "For every class (the graph) we want to find all the P279 edges for subclasses of the given class. We use `class-browsing.low-degree-nodes.tsv` so that we don't include high degree classes that will blow up the browser."
   ]
  },
  {
   "cell_type": "code",
   "execution_count": 291,
   "metadata": {
    "execution": {
     "iopub.execute_input": "2021-12-26T06:19:37.758978Z",
     "iopub.status.busy": "2021-12-26T06:19:37.758461Z",
     "iopub.status.idle": "2021-12-26T06:23:35.531949Z",
     "shell.execute_reply": "2021-12-26T06:23:35.530826Z",
     "shell.execute_reply.started": "2021-12-26T06:19:37.758948Z"
    },
    "tags": []
   },
   "outputs": [],
   "source": [
    "kgtk(f\"\"\"\n",
    "    query -i p279starlow -i p279 -i $OUT/class-browsing.low-degree-nodes.tsv\n",
    "        --match '\n",
    "            p279starlow: (subclass1)-[]->(class),\n",
    "            p279starlow: (subclass2)-[]->(class),\n",
    "            low: (subclass1),\n",
    "            low: (subclass2),\n",
    "            p279: (subclass1)-[]->(subclass2)'\n",
    "        --return 'distinct subclass1 as node1, \"P279\" as label, subclass2 as node2, class as graph, \"subclass\" as edge_type'\n",
    "    -o $TEMP/all.graph.low.sub.tsv.gz\n",
    "\"\"\")"
   ]
  },
  {
   "cell_type": "code",
   "execution_count": 293,
   "metadata": {
    "execution": {
     "iopub.execute_input": "2021-12-26T20:53:18.554121Z",
     "iopub.status.busy": "2021-12-26T20:53:18.553771Z",
     "iopub.status.idle": "2021-12-26T20:53:19.835111Z",
     "shell.execute_reply": "2021-12-26T20:53:19.833413Z",
     "shell.execute_reply.started": "2021-12-26T20:53:18.554089Z"
    }
   },
   "outputs": [
    {
     "name": "stdout",
     "output_type": "stream",
     "text": [
      " 18213555\n"
     ]
    }
   ],
   "source": [
    "!zcat < $TEMP/all.graph.low.sub.tsv.gz | wc -l"
   ]
  },
  {
   "cell_type": "markdown",
   "metadata": {},
   "source": [
    "We have a lot of edges because we make copies for every graph, i.e., the same edge appears in many graphs. This is annoying, but it allows us to fetch the graphs very quickly, in less than 2 seconds."
   ]
  },
  {
   "cell_type": "code",
   "execution_count": 440,
   "metadata": {
    "execution": {
     "iopub.execute_input": "2021-12-29T01:43:45.290342Z",
     "iopub.status.busy": "2021-12-29T01:43:45.289977Z",
     "iopub.status.idle": "2021-12-29T01:43:48.281701Z",
     "shell.execute_reply": "2021-12-29T01:43:48.280851Z",
     "shell.execute_reply.started": "2021-12-29T01:43:45.290313Z"
    },
    "tags": []
   },
   "outputs": [
    {
     "data": {
      "text/html": [
       "<div>\n",
       "<style scoped>\n",
       "    .dataframe tbody tr th:only-of-type {\n",
       "        vertical-align: middle;\n",
       "    }\n",
       "\n",
       "    .dataframe tbody tr th {\n",
       "        vertical-align: top;\n",
       "    }\n",
       "\n",
       "    .dataframe thead th {\n",
       "        text-align: right;\n",
       "    }\n",
       "</style>\n",
       "<table border=\"1\" class=\"dataframe\">\n",
       "  <thead>\n",
       "    <tr style=\"text-align: right;\">\n",
       "      <th></th>\n",
       "      <th>node1</th>\n",
       "      <th>label</th>\n",
       "      <th>node2</th>\n",
       "      <th>graph</th>\n",
       "      <th>edge_type</th>\n",
       "    </tr>\n",
       "  </thead>\n",
       "  <tbody>\n",
       "    <tr>\n",
       "      <th>0</th>\n",
       "      <td>Q100000030</td>\n",
       "      <td>P279</td>\n",
       "      <td>Q14748</td>\n",
       "      <td>Q14748</td>\n",
       "      <td>subclass</td>\n",
       "    </tr>\n",
       "    <tr>\n",
       "      <th>1</th>\n",
       "      <td>Q100000030</td>\n",
       "      <td>P279</td>\n",
       "      <td>Q14748</td>\n",
       "      <td>Q14745</td>\n",
       "      <td>subclass</td>\n",
       "    </tr>\n",
       "    <tr>\n",
       "      <th>2</th>\n",
       "      <td>Q100000030</td>\n",
       "      <td>P279</td>\n",
       "      <td>Q14748</td>\n",
       "      <td>Q1357761</td>\n",
       "      <td>subclass</td>\n",
       "    </tr>\n",
       "    <tr>\n",
       "      <th>3</th>\n",
       "      <td>Q100000030</td>\n",
       "      <td>P279</td>\n",
       "      <td>Q14748</td>\n",
       "      <td>Q2424752</td>\n",
       "      <td>subclass</td>\n",
       "    </tr>\n",
       "    <tr>\n",
       "      <th>4</th>\n",
       "      <td>Q100000030</td>\n",
       "      <td>P279</td>\n",
       "      <td>Q14748</td>\n",
       "      <td>Q31807746</td>\n",
       "      <td>subclass</td>\n",
       "    </tr>\n",
       "  </tbody>\n",
       "</table>\n",
       "</div>"
      ],
      "text/plain": [
       "        node1 label   node2      graph edge_type\n",
       "0  Q100000030  P279  Q14748     Q14748  subclass\n",
       "1  Q100000030  P279  Q14748     Q14745  subclass\n",
       "2  Q100000030  P279  Q14748   Q1357761  subclass\n",
       "3  Q100000030  P279  Q14748   Q2424752  subclass\n",
       "4  Q100000030  P279  Q14748  Q31807746  subclass"
      ]
     },
     "execution_count": 440,
     "metadata": {},
     "output_type": "execute_result"
    }
   ],
   "source": [
    "kgtk(\"head -n 5 -i $TEMP/all.graph.low.sub.tsv.gz\")"
   ]
  },
  {
   "cell_type": "markdown",
   "metadata": {},
   "source": [
    "### Compute the superclass edges\n",
    "\n",
    "The superclass edges are also P279 edges, but they sit above the given class. We don't need to filter to low degree classes because we are going up the P279 hierarchy."
   ]
  },
  {
   "cell_type": "code",
   "execution_count": 292,
   "metadata": {
    "execution": {
     "iopub.execute_input": "2021-12-26T06:23:35.534412Z",
     "iopub.status.busy": "2021-12-26T06:23:35.534198Z",
     "iopub.status.idle": "2021-12-26T06:37:54.313145Z",
     "shell.execute_reply": "2021-12-26T06:37:54.311971Z",
     "shell.execute_reply.started": "2021-12-26T06:23:35.534390Z"
    },
    "tags": []
   },
   "outputs": [],
   "source": [
    "kgtk(f\"\"\"\n",
    "    query -i p279stard -i p279\n",
    "        --match '\n",
    "            p279stard: (class)-[]->(superclass1),\n",
    "            p279stard: (class)-[]->(superclass2),\n",
    "            p279: (superclass1)-[]->(superclass2)'\n",
    "        --return 'distinct superclass1 as node1, \"P279\" as label, superclass2 as node2, class as graph, \"superclass\" as edge_type'\n",
    "    -o $TEMP/all.graph.low.super.tsv.gz\n",
    "\"\"\")"
   ]
  },
  {
   "cell_type": "code",
   "execution_count": 295,
   "metadata": {
    "execution": {
     "iopub.execute_input": "2021-12-26T20:53:47.243247Z",
     "iopub.status.busy": "2021-12-26T20:53:47.242954Z",
     "iopub.status.idle": "2021-12-26T20:53:51.972790Z",
     "shell.execute_reply": "2021-12-26T20:53:51.971559Z",
     "shell.execute_reply.started": "2021-12-26T20:53:47.243218Z"
    },
    "tags": []
   },
   "outputs": [
    {
     "name": "stdout",
     "output_type": "stream",
     "text": [
      " 121028861\n"
     ]
    }
   ],
   "source": [
    "!zcat < $TEMP/all.graph.low.super.tsv.gz | wc -l"
   ]
  },
  {
   "cell_type": "code",
   "execution_count": 441,
   "metadata": {
    "execution": {
     "iopub.execute_input": "2021-12-29T01:43:53.493550Z",
     "iopub.status.busy": "2021-12-29T01:43:53.493314Z",
     "iopub.status.idle": "2021-12-29T01:43:55.749033Z",
     "shell.execute_reply": "2021-12-29T01:43:55.748190Z",
     "shell.execute_reply.started": "2021-12-29T01:43:53.493524Z"
    },
    "tags": []
   },
   "outputs": [
    {
     "data": {
      "text/html": [
       "<div>\n",
       "<style scoped>\n",
       "    .dataframe tbody tr th:only-of-type {\n",
       "        vertical-align: middle;\n",
       "    }\n",
       "\n",
       "    .dataframe tbody tr th {\n",
       "        vertical-align: top;\n",
       "    }\n",
       "\n",
       "    .dataframe thead th {\n",
       "        text-align: right;\n",
       "    }\n",
       "</style>\n",
       "<table border=\"1\" class=\"dataframe\">\n",
       "  <thead>\n",
       "    <tr style=\"text-align: right;\">\n",
       "      <th></th>\n",
       "      <th>node1</th>\n",
       "      <th>label</th>\n",
       "      <th>node2</th>\n",
       "      <th>graph</th>\n",
       "      <th>edge_type</th>\n",
       "    </tr>\n",
       "  </thead>\n",
       "  <tbody>\n",
       "    <tr>\n",
       "      <th>0</th>\n",
       "      <td>Q95079834</td>\n",
       "      <td>P279</td>\n",
       "      <td>Q1000068</td>\n",
       "      <td>Q95079834</td>\n",
       "      <td>superclass</td>\n",
       "    </tr>\n",
       "    <tr>\n",
       "      <th>1</th>\n",
       "      <td>Q17372279</td>\n",
       "      <td>P279</td>\n",
       "      <td>Q100026</td>\n",
       "      <td>Q17372279</td>\n",
       "      <td>superclass</td>\n",
       "    </tr>\n",
       "    <tr>\n",
       "      <th>2</th>\n",
       "      <td>Q17372377</td>\n",
       "      <td>P279</td>\n",
       "      <td>Q100026</td>\n",
       "      <td>Q17372377</td>\n",
       "      <td>superclass</td>\n",
       "    </tr>\n",
       "    <tr>\n",
       "      <th>3</th>\n",
       "      <td>Q17372377</td>\n",
       "      <td>P279</td>\n",
       "      <td>Q100026</td>\n",
       "      <td>Q17372463</td>\n",
       "      <td>superclass</td>\n",
       "    </tr>\n",
       "    <tr>\n",
       "      <th>4</th>\n",
       "      <td>Q17372377</td>\n",
       "      <td>P279</td>\n",
       "      <td>Q100026</td>\n",
       "      <td>Q17372473</td>\n",
       "      <td>superclass</td>\n",
       "    </tr>\n",
       "  </tbody>\n",
       "</table>\n",
       "</div>"
      ],
      "text/plain": [
       "       node1 label     node2      graph   edge_type\n",
       "0  Q95079834  P279  Q1000068  Q95079834  superclass\n",
       "1  Q17372279  P279   Q100026  Q17372279  superclass\n",
       "2  Q17372377  P279   Q100026  Q17372377  superclass\n",
       "3  Q17372377  P279   Q100026  Q17372463  superclass\n",
       "4  Q17372377  P279   Q100026  Q17372473  superclass"
      ]
     },
     "execution_count": 441,
     "metadata": {},
     "output_type": "execute_result"
    }
   ],
   "source": [
    "kgtk(\"head -n 5 -i $TEMP/all.graph.low.super.tsv.gz\")"
   ]
  },
  {
   "cell_type": "markdown",
   "metadata": {},
   "source": [
    "### Concatenate the subclass and superclass files, and store in `$TEMP/graph.low.tsv.gz`\n",
    "\n",
    "We keep the file in `$TEMP` because for the final file we want to add he high degree nodes so that the user sees that they exist (we will not add the subclasses). Once we have the complete file, we will put it in `$OUT`."
   ]
  },
  {
   "cell_type": "code",
   "execution_count": 299,
   "metadata": {
    "execution": {
     "iopub.execute_input": "2021-12-27T16:27:59.258564Z",
     "iopub.status.busy": "2021-12-27T16:27:59.258268Z",
     "iopub.status.idle": "2021-12-27T16:33:36.190107Z",
     "shell.execute_reply": "2021-12-27T16:33:36.188941Z",
     "shell.execute_reply.started": "2021-12-27T16:27:59.258531Z"
    },
    "tags": []
   },
   "outputs": [],
   "source": [
    "kgtk(f\"\"\"\n",
    "    cat -i $TEMP/all.graph.low.sub.tsv.gz -i $TEMP/all.graph.low.super.tsv.gz\n",
    "    -o $TEMP/graph.low.tsv.gz\n",
    "\"\"\")"
   ]
  },
  {
   "cell_type": "markdown",
   "metadata": {},
   "source": [
    "Index the file to allow fast queries on all columns"
   ]
  },
  {
   "cell_type": "code",
   "execution_count": 307,
   "metadata": {
    "execution": {
     "iopub.execute_input": "2021-12-27T17:21:36.306475Z",
     "iopub.status.busy": "2021-12-27T17:21:36.306190Z",
     "iopub.status.idle": "2021-12-27T17:24:24.520152Z",
     "shell.execute_reply": "2021-12-27T17:24:24.519152Z",
     "shell.execute_reply.started": "2021-12-27T17:21:36.306446Z"
    },
    "tags": []
   },
   "outputs": [
    {
     "name": "stdout",
     "output_type": "stream",
     "text": [
      "[2021-12-27 09:21:38 query]: SQL Translation:\n",
      "---------------------------------------------\n",
      "  SELECT *\n",
      "     FROM graph_15 AS graph_15_c1\n",
      "     LIMIT ?\n",
      "  PARAS: [3]\n",
      "---------------------------------------------\n",
      "[2021-12-27 09:21:38 sqlstore]: CREATE INDEX \"graph_15_node1_node2_graph_edge_type_idx\" ON \"graph_15\" (\"node1\", \"node2\", \"graph\", \"edge_type\")\n",
      "[2021-12-27 09:23:54 sqlstore]: ANALYZE \"graph_15_node1_node2_graph_edge_type_idx\"\n",
      "node1\tlabel\tnode2\tgraph\tedge_type\n",
      "Q100000030\tP279\tQ14748\tQ14748\tsubclass\n",
      "Q100000030\tP279\tQ14748\tQ14745\tsubclass\n",
      "Q100000030\tP279\tQ14748\tQ1357761\tsubclass\n"
     ]
    }
   ],
   "source": [
    "!kgtk --debug query -i $TEMP/graph.low.tsv.gz --as graphbrowser --idx index:node1,node2,graph,edge_type --limit 3"
   ]
  },
  {
   "cell_type": "markdown",
   "metadata": {},
   "source": [
    "## Compute the node file for visualization\n",
    "\n",
    "The node file for visualization needs the labels for the nodes, and the `graph` to pull it out quickly. We add:\n",
    "\n",
    "- `instance_count`: the number of direct instances of the class, as it is interesting for the user to see this information."
   ]
  },
  {
   "cell_type": "markdown",
   "metadata": {},
   "source": [
    "### Extract the nodes from the edge file\n",
    "\n",
    "The reason to use the edge file is that we need the `graph` id. We do it in two steps, first extract `node1` and then extract `node2`"
   ]
  },
  {
   "cell_type": "code",
   "execution_count": 382,
   "metadata": {
    "execution": {
     "iopub.execute_input": "2021-12-27T22:44:22.507474Z",
     "iopub.status.busy": "2021-12-27T22:44:22.507173Z",
     "iopub.status.idle": "2021-12-27T23:03:21.843229Z",
     "shell.execute_reply": "2021-12-27T23:03:21.839624Z",
     "shell.execute_reply.started": "2021-12-27T22:44:22.507442Z"
    },
    "tags": []
   },
   "outputs": [],
   "source": [
    "kgtk(\"\"\"\n",
    "    query -i label -i $TEMP/statistics.Pinstance_count.tsv.gz -i graphbrowser\n",
    "        --match 'graphbrowser: (c)-[{graph: graph}]->()'\n",
    "        --opt 'label: (c)-[]->(class_label)'\n",
    "        --opt 'Pinstance_count: (c)-[:Pinstance_count]->(instance_count)'\n",
    "        --return 'distinct c as node1, graph as graph, coalesce(instance_count,0) as instance_count, \"few_subclasses\" as node_type, class_label as label'\n",
    "    -o $TEMP/graph.low.node1.tsv.gz\n",
    "\"\"\")\n"
   ]
  },
  {
   "cell_type": "markdown",
   "metadata": {},
   "source": [
    "This is what our node file looks like:"
   ]
  },
  {
   "cell_type": "code",
   "execution_count": 442,
   "metadata": {
    "execution": {
     "iopub.execute_input": "2021-12-29T01:57:13.658829Z",
     "iopub.status.busy": "2021-12-29T01:57:13.658555Z",
     "iopub.status.idle": "2021-12-29T01:57:16.166978Z",
     "shell.execute_reply": "2021-12-29T01:57:16.166361Z",
     "shell.execute_reply.started": "2021-12-29T01:57:13.658802Z"
    }
   },
   "outputs": [
    {
     "data": {
      "text/html": [
       "<div>\n",
       "<style scoped>\n",
       "    .dataframe tbody tr th:only-of-type {\n",
       "        vertical-align: middle;\n",
       "    }\n",
       "\n",
       "    .dataframe tbody tr th {\n",
       "        vertical-align: top;\n",
       "    }\n",
       "\n",
       "    .dataframe thead th {\n",
       "        text-align: right;\n",
       "    }\n",
       "</style>\n",
       "<table border=\"1\" class=\"dataframe\">\n",
       "  <thead>\n",
       "    <tr style=\"text-align: right;\">\n",
       "      <th></th>\n",
       "      <th>node1</th>\n",
       "      <th>graph</th>\n",
       "      <th>instance_count</th>\n",
       "      <th>label</th>\n",
       "    </tr>\n",
       "  </thead>\n",
       "  <tbody>\n",
       "    <tr>\n",
       "      <th>0</th>\n",
       "      <td>Q100000030</td>\n",
       "      <td>Q100000030</td>\n",
       "      <td>0</td>\n",
       "      <td>NaN</td>\n",
       "    </tr>\n",
       "    <tr>\n",
       "      <th>1</th>\n",
       "      <td>Q100000030</td>\n",
       "      <td>Q1357761</td>\n",
       "      <td>0</td>\n",
       "      <td>NaN</td>\n",
       "    </tr>\n",
       "    <tr>\n",
       "      <th>2</th>\n",
       "      <td>Q100000030</td>\n",
       "      <td>Q14745</td>\n",
       "      <td>0</td>\n",
       "      <td>NaN</td>\n",
       "    </tr>\n",
       "    <tr>\n",
       "      <th>3</th>\n",
       "      <td>Q100000030</td>\n",
       "      <td>Q14748</td>\n",
       "      <td>0</td>\n",
       "      <td>NaN</td>\n",
       "    </tr>\n",
       "    <tr>\n",
       "      <th>4</th>\n",
       "      <td>Q100000030</td>\n",
       "      <td>Q15401930</td>\n",
       "      <td>0</td>\n",
       "      <td>NaN</td>\n",
       "    </tr>\n",
       "  </tbody>\n",
       "</table>\n",
       "</div>"
      ],
      "text/plain": [
       "        node1       graph  instance_count  label\n",
       "0  Q100000030  Q100000030               0    NaN\n",
       "1  Q100000030    Q1357761               0    NaN\n",
       "2  Q100000030      Q14745               0    NaN\n",
       "3  Q100000030      Q14748               0    NaN\n",
       "4  Q100000030   Q15401930               0    NaN"
      ]
     },
     "execution_count": 442,
     "metadata": {},
     "output_type": "execute_result"
    }
   ],
   "source": [
    "kgtk(\"head -n 5 -i $TEMP/graph.low.node1.tsv.gz\")"
   ]
  },
  {
   "cell_type": "code",
   "execution_count": 392,
   "metadata": {
    "execution": {
     "iopub.execute_input": "2021-12-27T23:09:40.926445Z",
     "iopub.status.busy": "2021-12-27T23:09:40.926154Z",
     "iopub.status.idle": "2021-12-27T23:24:26.542000Z",
     "shell.execute_reply": "2021-12-27T23:24:26.539133Z",
     "shell.execute_reply.started": "2021-12-27T23:09:40.926415Z"
    }
   },
   "outputs": [],
   "source": [
    "kgtk(\"\"\"\n",
    "    query -i label -i $TEMP/statistics.Pinstance_count.tsv.gz -i graphbrowser\n",
    "        --match 'graphbrowser: ()-[{graph: graph}]->(c)'\n",
    "        --opt 'label: (c)-[]->(class_label)'\n",
    "        --opt 'Pinstance_count: (c)-[:Pinstance_count]->(instance_count)'\n",
    "        --return 'distinct c as node1, graph as graph, coalesce(instance_count,0) as instance_count, \"few_subclasses\" as node_type, class_label as label'\n",
    "    -o $TEMP/graph.low.node2.tsv.gz\n",
    "\"\"\")"
   ]
  },
  {
   "cell_type": "markdown",
   "metadata": {},
   "source": [
    "### Concatenate the two node files, deduplicate and index"
   ]
  },
  {
   "cell_type": "code",
   "execution_count": 395,
   "metadata": {
    "execution": {
     "iopub.execute_input": "2021-12-27T23:35:30.606033Z",
     "iopub.status.busy": "2021-12-27T23:35:30.605783Z",
     "iopub.status.idle": "2021-12-28T01:46:47.549211Z",
     "shell.execute_reply": "2021-12-28T01:46:47.526985Z",
     "shell.execute_reply.started": "2021-12-27T23:35:30.606008Z"
    },
    "tags": []
   },
   "outputs": [],
   "source": [
    "kgtk(\"\"\"\n",
    "    cat --mode NONE -i $TEMP/graph.low.node1.tsv.gz -i $TEMP/graph.low.node2.tsv.gz\n",
    "    / compact --mode NONE  --columns node1 graph\n",
    "    -o $TEMP/graph.low.node.tsv.gz\n",
    "\"\"\")"
   ]
  },
  {
   "cell_type": "markdown",
   "metadata": {},
   "source": [
    "We only need to index on `graph` as we will not do node queries on it:"
   ]
  },
  {
   "cell_type": "markdown",
   "metadata": {},
   "source": [
    "## Special handling of high degree nodes"
   ]
  },
  {
   "cell_type": "code",
   "execution_count": 443,
   "metadata": {
    "execution": {
     "iopub.execute_input": "2021-12-29T02:07:28.645367Z",
     "iopub.status.busy": "2021-12-29T02:07:28.645105Z",
     "iopub.status.idle": "2021-12-29T02:07:32.054846Z",
     "shell.execute_reply": "2021-12-29T02:07:32.053756Z",
     "shell.execute_reply.started": "2021-12-29T02:07:28.645338Z"
    },
    "tags": []
   },
   "outputs": [
    {
     "data": {
      "text/html": [
       "<div>\n",
       "<style scoped>\n",
       "    .dataframe tbody tr th:only-of-type {\n",
       "        vertical-align: middle;\n",
       "    }\n",
       "\n",
       "    .dataframe tbody tr th {\n",
       "        vertical-align: top;\n",
       "    }\n",
       "\n",
       "    .dataframe thead th {\n",
       "        text-align: right;\n",
       "    }\n",
       "</style>\n",
       "<table border=\"1\" class=\"dataframe\">\n",
       "  <thead>\n",
       "    <tr style=\"text-align: right;\">\n",
       "      <th></th>\n",
       "      <th>node1</th>\n",
       "    </tr>\n",
       "  </thead>\n",
       "  <tbody>\n",
       "    <tr>\n",
       "      <th>0</th>\n",
       "      <td>Q20747295</td>\n",
       "    </tr>\n",
       "    <tr>\n",
       "      <th>1</th>\n",
       "      <td>Q8054</td>\n",
       "    </tr>\n",
       "    <tr>\n",
       "      <th>2</th>\n",
       "      <td>Q7187</td>\n",
       "    </tr>\n",
       "    <tr>\n",
       "      <th>3</th>\n",
       "      <td>Q277338</td>\n",
       "    </tr>\n",
       "    <tr>\n",
       "      <th>4</th>\n",
       "      <td>Q427087</td>\n",
       "    </tr>\n",
       "  </tbody>\n",
       "</table>\n",
       "</div>"
      ],
      "text/plain": [
       "       node1\n",
       "0  Q20747295\n",
       "1      Q8054\n",
       "2      Q7187\n",
       "3    Q277338\n",
       "4    Q427087"
      ]
     },
     "execution_count": 443,
     "metadata": {},
     "output_type": "execute_result"
    }
   ],
   "source": [
    "kgtk(\"head -n 5 -i $OUT/class-browsing.high-degree-nodes.tsv\")"
   ]
  },
  {
   "cell_type": "markdown",
   "metadata": {},
   "source": [
    "### Make a graph file with the `P279` edges where the subclass is a high degree class"
   ]
  },
  {
   "cell_type": "code",
   "execution_count": 417,
   "metadata": {
    "execution": {
     "iopub.execute_input": "2021-12-28T02:39:23.866031Z",
     "iopub.status.busy": "2021-12-28T02:39:23.865763Z",
     "iopub.status.idle": "2021-12-28T02:41:27.703416Z",
     "shell.execute_reply": "2021-12-28T02:41:27.702649Z",
     "shell.execute_reply.started": "2021-12-28T02:39:23.866002Z"
    },
    "tags": []
   },
   "outputs": [
    {
     "name": "stdout",
     "output_type": "stream",
     "text": [
      "[2021-12-27 18:39:26 query]: SQL Translation:\n",
      "---------------------------------------------\n",
      "  SELECT DISTINCT graph_21_c2.\"node1\" \"_aLias.node1\", ? \"_aLias.label\", graph_22_c1.\"node1\" \"_aLias.node2\", graph_22_c1.\"graph\" \"_aLias.graph\", ? \"_aLias.edge_type\"\n",
      "     FROM graph_1 AS graph_1_c3\n",
      "     INNER JOIN graph_21 AS graph_21_c2, graph_22 AS graph_22_c1\n",
      "     ON graph_21_c2.\"node1\" = graph_1_c3.\"node1\"\n",
      "        AND graph_22_c1.\"node1\" = graph_1_c3.\"node2\"\n",
      "        AND graph_22_c1.\"graph\" = graph_22_c1.\"graph\"\n",
      "  PARAS: ['P279', 'subclass']\n",
      "---------------------------------------------\n",
      "\n"
     ]
    }
   ],
   "source": [
    "kgtk(\"\"\"\n",
    "    query --debug -i $TEMP/graph.low.node.tsv.gz -i $OUT/class-browsing.high-degree-nodes.tsv -i p279\n",
    "        --match '\n",
    "            node: (class)-[{graph: graph}]->(),\n",
    "            high: (subclass),\n",
    "            p279: (subclass)-[]->(class)'\n",
    "        --return 'distinct subclass as node1, \"P279\" as label, class as node2, graph as graph, \"subclass\" as edge_type'\n",
    "    -o $TEMP/graph.high.tsv.gz\n",
    "\"\"\")"
   ]
  },
  {
   "cell_type": "code",
   "execution_count": 445,
   "metadata": {
    "execution": {
     "iopub.execute_input": "2021-12-29T02:08:11.138729Z",
     "iopub.status.busy": "2021-12-29T02:08:11.138455Z",
     "iopub.status.idle": "2021-12-29T02:08:13.388796Z",
     "shell.execute_reply": "2021-12-29T02:08:13.388076Z",
     "shell.execute_reply.started": "2021-12-29T02:08:11.138698Z"
    },
    "tags": []
   },
   "outputs": [
    {
     "data": {
      "text/html": [
       "<div>\n",
       "<style scoped>\n",
       "    .dataframe tbody tr th:only-of-type {\n",
       "        vertical-align: middle;\n",
       "    }\n",
       "\n",
       "    .dataframe tbody tr th {\n",
       "        vertical-align: top;\n",
       "    }\n",
       "\n",
       "    .dataframe thead th {\n",
       "        text-align: right;\n",
       "    }\n",
       "</style>\n",
       "<table border=\"1\" class=\"dataframe\">\n",
       "  <thead>\n",
       "    <tr style=\"text-align: right;\">\n",
       "      <th></th>\n",
       "      <th>node1</th>\n",
       "      <th>label</th>\n",
       "      <th>node2</th>\n",
       "      <th>graph</th>\n",
       "      <th>edge_type</th>\n",
       "    </tr>\n",
       "  </thead>\n",
       "  <tbody>\n",
       "    <tr>\n",
       "      <th>0</th>\n",
       "      <td>Q10267817</td>\n",
       "      <td>P279</td>\n",
       "      <td>Q18553442</td>\n",
       "      <td>Q1002195</td>\n",
       "      <td>subclass</td>\n",
       "    </tr>\n",
       "    <tr>\n",
       "      <th>1</th>\n",
       "      <td>Q10267817</td>\n",
       "      <td>P279</td>\n",
       "      <td>Q18553442</td>\n",
       "      <td>Q100936194</td>\n",
       "      <td>subclass</td>\n",
       "    </tr>\n",
       "    <tr>\n",
       "      <th>2</th>\n",
       "      <td>Q10267817</td>\n",
       "      <td>P279</td>\n",
       "      <td>Q18553442</td>\n",
       "      <td>Q101534204</td>\n",
       "      <td>subclass</td>\n",
       "    </tr>\n",
       "    <tr>\n",
       "      <th>3</th>\n",
       "      <td>Q10267817</td>\n",
       "      <td>P279</td>\n",
       "      <td>Q18553442</td>\n",
       "      <td>Q101896</td>\n",
       "      <td>subclass</td>\n",
       "    </tr>\n",
       "    <tr>\n",
       "      <th>4</th>\n",
       "      <td>Q10267817</td>\n",
       "      <td>P279</td>\n",
       "      <td>Q18553442</td>\n",
       "      <td>Q102186811</td>\n",
       "      <td>subclass</td>\n",
       "    </tr>\n",
       "  </tbody>\n",
       "</table>\n",
       "</div>"
      ],
      "text/plain": [
       "       node1 label      node2       graph edge_type\n",
       "0  Q10267817  P279  Q18553442    Q1002195  subclass\n",
       "1  Q10267817  P279  Q18553442  Q100936194  subclass\n",
       "2  Q10267817  P279  Q18553442  Q101534204  subclass\n",
       "3  Q10267817  P279  Q18553442     Q101896  subclass\n",
       "4  Q10267817  P279  Q18553442  Q102186811  subclass"
      ]
     },
     "execution_count": 445,
     "metadata": {},
     "output_type": "execute_result"
    }
   ],
   "source": [
    "kgtk(\"head -n 5 -i $TEMP/graph.high.tsv.gz\")"
   ]
  },
  {
   "cell_type": "markdown",
   "metadata": {},
   "source": [
    "### Make a node file with the high degree nodes\n",
    "\n",
    "We use the edge file because we need to put the `graph` in the node file too."
   ]
  },
  {
   "cell_type": "code",
   "execution_count": 449,
   "metadata": {
    "execution": {
     "iopub.execute_input": "2021-12-29T02:15:08.531675Z",
     "iopub.status.busy": "2021-12-29T02:15:08.531313Z",
     "iopub.status.idle": "2021-12-29T02:17:07.820416Z",
     "shell.execute_reply": "2021-12-29T02:17:07.819343Z",
     "shell.execute_reply.started": "2021-12-29T02:15:08.531606Z"
    },
    "tags": []
   },
   "outputs": [],
   "source": [
    "kgtk(\"\"\"\n",
    "    query -i label -i $TEMP/statistics.Pinstance_count.tsv.gz -i $TEMP/graph.high.tsv.gz\n",
    "        --match 'high: (c)-[{graph: graph}]->()'\n",
    "        --opt 'label: (c)-[]->(class_label)'\n",
    "        --opt 'Pinstance_count: (c)-[:Pinstance_count]->(instance_count)'\n",
    "        --return 'distinct c as node1, graph as graph, coalesce(instance_count,0) as instance_count, \"many_subclasses\" as node_type, class_label as label'\n",
    "    -o $TEMP/graph.high.node.tsv.gz\n",
    "\"\"\")"
   ]
  },
  {
   "cell_type": "code",
   "execution_count": 450,
   "metadata": {
    "execution": {
     "iopub.execute_input": "2021-12-29T02:17:07.822680Z",
     "iopub.status.busy": "2021-12-29T02:17:07.822443Z",
     "iopub.status.idle": "2021-12-29T02:17:11.450603Z",
     "shell.execute_reply": "2021-12-29T02:17:11.449934Z",
     "shell.execute_reply.started": "2021-12-29T02:17:07.822645Z"
    },
    "tags": []
   },
   "outputs": [
    {
     "data": {
      "text/html": [
       "<div>\n",
       "<style scoped>\n",
       "    .dataframe tbody tr th:only-of-type {\n",
       "        vertical-align: middle;\n",
       "    }\n",
       "\n",
       "    .dataframe tbody tr th {\n",
       "        vertical-align: top;\n",
       "    }\n",
       "\n",
       "    .dataframe thead th {\n",
       "        text-align: right;\n",
       "    }\n",
       "</style>\n",
       "<table border=\"1\" class=\"dataframe\">\n",
       "  <thead>\n",
       "    <tr style=\"text-align: right;\">\n",
       "      <th></th>\n",
       "      <th>node1</th>\n",
       "      <th>graph</th>\n",
       "      <th>instance_count</th>\n",
       "      <th>node_type</th>\n",
       "      <th>label</th>\n",
       "    </tr>\n",
       "  </thead>\n",
       "  <tbody>\n",
       "    <tr>\n",
       "      <th>0</th>\n",
       "      <td>Q10267817</td>\n",
       "      <td>Q1002195</td>\n",
       "      <td>1</td>\n",
       "      <td>many_subclasses</td>\n",
       "      <td>'autosomal recessive disease'@en</td>\n",
       "    </tr>\n",
       "    <tr>\n",
       "      <th>1</th>\n",
       "      <td>Q10267817</td>\n",
       "      <td>Q100936194</td>\n",
       "      <td>1</td>\n",
       "      <td>many_subclasses</td>\n",
       "      <td>'autosomal recessive disease'@en</td>\n",
       "    </tr>\n",
       "    <tr>\n",
       "      <th>2</th>\n",
       "      <td>Q10267817</td>\n",
       "      <td>Q101534204</td>\n",
       "      <td>1</td>\n",
       "      <td>many_subclasses</td>\n",
       "      <td>'autosomal recessive disease'@en</td>\n",
       "    </tr>\n",
       "    <tr>\n",
       "      <th>3</th>\n",
       "      <td>Q10267817</td>\n",
       "      <td>Q101896</td>\n",
       "      <td>1</td>\n",
       "      <td>many_subclasses</td>\n",
       "      <td>'autosomal recessive disease'@en</td>\n",
       "    </tr>\n",
       "    <tr>\n",
       "      <th>4</th>\n",
       "      <td>Q10267817</td>\n",
       "      <td>Q102186811</td>\n",
       "      <td>1</td>\n",
       "      <td>many_subclasses</td>\n",
       "      <td>'autosomal recessive disease'@en</td>\n",
       "    </tr>\n",
       "  </tbody>\n",
       "</table>\n",
       "</div>"
      ],
      "text/plain": [
       "       node1       graph  instance_count        node_type  \\\n",
       "0  Q10267817    Q1002195               1  many_subclasses   \n",
       "1  Q10267817  Q100936194               1  many_subclasses   \n",
       "2  Q10267817  Q101534204               1  many_subclasses   \n",
       "3  Q10267817     Q101896               1  many_subclasses   \n",
       "4  Q10267817  Q102186811               1  many_subclasses   \n",
       "\n",
       "                              label  \n",
       "0  'autosomal recessive disease'@en  \n",
       "1  'autosomal recessive disease'@en  \n",
       "2  'autosomal recessive disease'@en  \n",
       "3  'autosomal recessive disease'@en  \n",
       "4  'autosomal recessive disease'@en  "
      ]
     },
     "execution_count": 450,
     "metadata": {},
     "output_type": "execute_result"
    }
   ],
   "source": [
    "kgtk(\"head -n 5 -i $TEMP/graph.high.node.tsv.gz\")"
   ]
  },
  {
   "cell_type": "markdown",
   "metadata": {},
   "source": [
    "Just to make sure, count the number of sublcasses of one of our supposedly high degree nodes, innocent looking with one instance, but indeed many subclasses."
   ]
  },
  {
   "cell_type": "code",
   "execution_count": 451,
   "metadata": {
    "execution": {
     "iopub.execute_input": "2021-12-29T02:17:11.452743Z",
     "iopub.status.busy": "2021-12-29T02:17:11.452542Z",
     "iopub.status.idle": "2021-12-29T02:17:13.774118Z",
     "shell.execute_reply": "2021-12-29T02:17:13.772597Z",
     "shell.execute_reply.started": "2021-12-29T02:17:11.452720Z"
    },
    "tags": []
   },
   "outputs": [
    {
     "data": {
      "text/html": [
       "<div>\n",
       "<style scoped>\n",
       "    .dataframe tbody tr th:only-of-type {\n",
       "        vertical-align: middle;\n",
       "    }\n",
       "\n",
       "    .dataframe tbody tr th {\n",
       "        vertical-align: top;\n",
       "    }\n",
       "\n",
       "    .dataframe thead th {\n",
       "        text-align: right;\n",
       "    }\n",
       "</style>\n",
       "<table border=\"1\" class=\"dataframe\">\n",
       "  <thead>\n",
       "    <tr style=\"text-align: right;\">\n",
       "      <th></th>\n",
       "      <th>count(DISTINCT graph_1_c1.\"node1\")</th>\n",
       "    </tr>\n",
       "  </thead>\n",
       "  <tbody>\n",
       "    <tr>\n",
       "      <th>0</th>\n",
       "      <td>1097</td>\n",
       "    </tr>\n",
       "  </tbody>\n",
       "</table>\n",
       "</div>"
      ],
      "text/plain": [
       "   count(DISTINCT graph_1_c1.\"node1\")\n",
       "0                                1097"
      ]
     },
     "execution_count": 451,
     "metadata": {},
     "output_type": "execute_result"
    }
   ],
   "source": [
    "kgtk(\"query -i p279 --match '(subclass)-[]->(:Q10267817)' --return 'count(distinct subclass)'\")"
   ]
  },
  {
   "cell_type": "code",
   "execution_count": 473,
   "metadata": {
    "execution": {
     "iopub.execute_input": "2021-12-29T05:12:32.998027Z",
     "iopub.status.busy": "2021-12-29T05:12:32.997645Z",
     "iopub.status.idle": "2021-12-29T05:12:35.259617Z",
     "shell.execute_reply": "2021-12-29T05:12:35.258905Z",
     "shell.execute_reply.started": "2021-12-29T05:12:32.997999Z"
    },
    "tags": []
   },
   "outputs": [
    {
     "data": {
      "text/html": [
       "<div>\n",
       "<style scoped>\n",
       "    .dataframe tbody tr th:only-of-type {\n",
       "        vertical-align: middle;\n",
       "    }\n",
       "\n",
       "    .dataframe tbody tr th {\n",
       "        vertical-align: top;\n",
       "    }\n",
       "\n",
       "    .dataframe thead th {\n",
       "        text-align: right;\n",
       "    }\n",
       "</style>\n",
       "<table border=\"1\" class=\"dataframe\">\n",
       "  <thead>\n",
       "    <tr style=\"text-align: right;\">\n",
       "      <th></th>\n",
       "      <th>count(DISTINCT graph_1_c1.\"node1\")</th>\n",
       "    </tr>\n",
       "  </thead>\n",
       "  <tbody>\n",
       "    <tr>\n",
       "      <th>0</th>\n",
       "      <td>2350</td>\n",
       "    </tr>\n",
       "  </tbody>\n",
       "</table>\n",
       "</div>"
      ],
      "text/plain": [
       "   count(DISTINCT graph_1_c1.\"node1\")\n",
       "0                                2350"
      ]
     },
     "execution_count": 473,
     "metadata": {},
     "output_type": "execute_result"
    }
   ],
   "source": [
    "kgtk(\"query -i p279 --match '(subclass)-[]->(:Q30185)' --return 'count(distinct subclass)'\")"
   ]
  },
  {
   "cell_type": "markdown",
   "metadata": {},
   "source": [
    "### Augment the low degree edge and node files with the high degree info"
   ]
  },
  {
   "cell_type": "markdown",
   "metadata": {},
   "source": [
    "Concatenating without deduplication is sufficient as the files cannot have duplicate edges or nodes."
   ]
  },
  {
   "cell_type": "code",
   "execution_count": 452,
   "metadata": {
    "execution": {
     "iopub.execute_input": "2021-12-29T02:23:51.784247Z",
     "iopub.status.busy": "2021-12-29T02:23:51.784024Z",
     "iopub.status.idle": "2021-12-29T02:31:09.434377Z",
     "shell.execute_reply": "2021-12-29T02:31:09.433370Z",
     "shell.execute_reply.started": "2021-12-29T02:23:51.784224Z"
    }
   },
   "outputs": [],
   "source": [
    "kgtk(\"\"\"\n",
    "    cat -i $TEMP/graph.high.tsv.gz -i $TEMP/graph.low.tsv.gz\n",
    "    -o $OUT/class-visualization.edge.tsv.gz\n",
    "\"\"\")"
   ]
  },
  {
   "cell_type": "code",
   "execution_count": 453,
   "metadata": {
    "execution": {
     "iopub.execute_input": "2021-12-29T02:31:09.436811Z",
     "iopub.status.busy": "2021-12-29T02:31:09.436520Z",
     "iopub.status.idle": "2021-12-29T02:31:12.389486Z",
     "shell.execute_reply": "2021-12-29T02:31:12.388825Z",
     "shell.execute_reply.started": "2021-12-29T02:31:09.436780Z"
    }
   },
   "outputs": [
    {
     "data": {
      "text/html": [
       "<div>\n",
       "<style scoped>\n",
       "    .dataframe tbody tr th:only-of-type {\n",
       "        vertical-align: middle;\n",
       "    }\n",
       "\n",
       "    .dataframe tbody tr th {\n",
       "        vertical-align: top;\n",
       "    }\n",
       "\n",
       "    .dataframe thead th {\n",
       "        text-align: right;\n",
       "    }\n",
       "</style>\n",
       "<table border=\"1\" class=\"dataframe\">\n",
       "  <thead>\n",
       "    <tr style=\"text-align: right;\">\n",
       "      <th></th>\n",
       "      <th>node1</th>\n",
       "      <th>label</th>\n",
       "      <th>node2</th>\n",
       "      <th>graph</th>\n",
       "      <th>edge_type</th>\n",
       "    </tr>\n",
       "  </thead>\n",
       "  <tbody>\n",
       "    <tr>\n",
       "      <th>0</th>\n",
       "      <td>Q10267817</td>\n",
       "      <td>P279</td>\n",
       "      <td>Q18553442</td>\n",
       "      <td>Q1002195</td>\n",
       "      <td>subclass</td>\n",
       "    </tr>\n",
       "    <tr>\n",
       "      <th>1</th>\n",
       "      <td>Q10267817</td>\n",
       "      <td>P279</td>\n",
       "      <td>Q18553442</td>\n",
       "      <td>Q100936194</td>\n",
       "      <td>subclass</td>\n",
       "    </tr>\n",
       "    <tr>\n",
       "      <th>2</th>\n",
       "      <td>Q10267817</td>\n",
       "      <td>P279</td>\n",
       "      <td>Q18553442</td>\n",
       "      <td>Q101534204</td>\n",
       "      <td>subclass</td>\n",
       "    </tr>\n",
       "    <tr>\n",
       "      <th>3</th>\n",
       "      <td>Q10267817</td>\n",
       "      <td>P279</td>\n",
       "      <td>Q18553442</td>\n",
       "      <td>Q101896</td>\n",
       "      <td>subclass</td>\n",
       "    </tr>\n",
       "    <tr>\n",
       "      <th>4</th>\n",
       "      <td>Q10267817</td>\n",
       "      <td>P279</td>\n",
       "      <td>Q18553442</td>\n",
       "      <td>Q102186811</td>\n",
       "      <td>subclass</td>\n",
       "    </tr>\n",
       "  </tbody>\n",
       "</table>\n",
       "</div>"
      ],
      "text/plain": [
       "       node1 label      node2       graph edge_type\n",
       "0  Q10267817  P279  Q18553442    Q1002195  subclass\n",
       "1  Q10267817  P279  Q18553442  Q100936194  subclass\n",
       "2  Q10267817  P279  Q18553442  Q101534204  subclass\n",
       "3  Q10267817  P279  Q18553442     Q101896  subclass\n",
       "4  Q10267817  P279  Q18553442  Q102186811  subclass"
      ]
     },
     "execution_count": 453,
     "metadata": {},
     "output_type": "execute_result"
    }
   ],
   "source": [
    "kgtk(\"head -n 5 -i $OUT/class-visualization.edge.tsv.gz\")"
   ]
  },
  {
   "cell_type": "markdown",
   "metadata": {},
   "source": [
    "Index the file for query using the `graph` column:"
   ]
  },
  {
   "cell_type": "code",
   "execution_count": 458,
   "metadata": {
    "execution": {
     "iopub.execute_input": "2021-12-29T02:46:59.948161Z",
     "iopub.status.busy": "2021-12-29T02:46:59.947899Z",
     "iopub.status.idle": "2021-12-29T02:57:33.808068Z",
     "shell.execute_reply": "2021-12-29T02:57:33.807231Z",
     "shell.execute_reply.started": "2021-12-29T02:46:59.948130Z"
    },
    "tags": []
   },
   "outputs": [
    {
     "name": "stdout",
     "output_type": "stream",
     "text": [
      "node1\tlabel\tnode2\tgraph\tedge_type\n",
      "Q10267817\tP279\tQ18553442\tQ1002195\tsubclass\n",
      "Q10267817\tP279\tQ18553442\tQ100936194\tsubclass\n",
      "Q10267817\tP279\tQ18553442\tQ101534204\tsubclass\n"
     ]
    }
   ],
   "source": [
    "!kgtk query -i $OUT/class-visualization.edge.tsv.gz --as classvizedge --idx index:graph --limit 3"
   ]
  },
  {
   "cell_type": "markdown",
   "metadata": {},
   "source": [
    "Concatenate the node files:"
   ]
  },
  {
   "cell_type": "code",
   "execution_count": 456,
   "metadata": {
    "execution": {
     "iopub.execute_input": "2021-12-29T02:36:51.436078Z",
     "iopub.status.busy": "2021-12-29T02:36:51.435587Z",
     "iopub.status.idle": "2021-12-29T02:46:56.987771Z",
     "shell.execute_reply": "2021-12-29T02:46:56.986767Z",
     "shell.execute_reply.started": "2021-12-29T02:36:51.436048Z"
    },
    "tags": []
   },
   "outputs": [],
   "source": [
    "kgtk(\"\"\"\n",
    "    cat --mode NONE -i $TEMP/graph.high.node.tsv.gz -i $TEMP/graph.low.node.tsv.gz\n",
    "    -o $OUT/class-visualization.node.tsv.gz\n",
    "\"\"\")"
   ]
  },
  {
   "cell_type": "code",
   "execution_count": 457,
   "metadata": {
    "execution": {
     "iopub.execute_input": "2021-12-29T02:46:56.990289Z",
     "iopub.status.busy": "2021-12-29T02:46:56.989984Z",
     "iopub.status.idle": "2021-12-29T02:46:59.946491Z",
     "shell.execute_reply": "2021-12-29T02:46:59.945600Z",
     "shell.execute_reply.started": "2021-12-29T02:46:56.990261Z"
    },
    "tags": []
   },
   "outputs": [
    {
     "data": {
      "text/html": [
       "<div>\n",
       "<style scoped>\n",
       "    .dataframe tbody tr th:only-of-type {\n",
       "        vertical-align: middle;\n",
       "    }\n",
       "\n",
       "    .dataframe tbody tr th {\n",
       "        vertical-align: top;\n",
       "    }\n",
       "\n",
       "    .dataframe thead th {\n",
       "        text-align: right;\n",
       "    }\n",
       "</style>\n",
       "<table border=\"1\" class=\"dataframe\">\n",
       "  <thead>\n",
       "    <tr style=\"text-align: right;\">\n",
       "      <th></th>\n",
       "      <th>node1</th>\n",
       "      <th>graph</th>\n",
       "      <th>instance_count</th>\n",
       "      <th>node_type</th>\n",
       "      <th>label</th>\n",
       "    </tr>\n",
       "  </thead>\n",
       "  <tbody>\n",
       "    <tr>\n",
       "      <th>0</th>\n",
       "      <td>Q10267817</td>\n",
       "      <td>Q1002195</td>\n",
       "      <td>1</td>\n",
       "      <td>many_subclasses</td>\n",
       "      <td>'autosomal recessive disease'@en</td>\n",
       "    </tr>\n",
       "    <tr>\n",
       "      <th>1</th>\n",
       "      <td>Q10267817</td>\n",
       "      <td>Q100936194</td>\n",
       "      <td>1</td>\n",
       "      <td>many_subclasses</td>\n",
       "      <td>'autosomal recessive disease'@en</td>\n",
       "    </tr>\n",
       "    <tr>\n",
       "      <th>2</th>\n",
       "      <td>Q10267817</td>\n",
       "      <td>Q101534204</td>\n",
       "      <td>1</td>\n",
       "      <td>many_subclasses</td>\n",
       "      <td>'autosomal recessive disease'@en</td>\n",
       "    </tr>\n",
       "    <tr>\n",
       "      <th>3</th>\n",
       "      <td>Q10267817</td>\n",
       "      <td>Q101896</td>\n",
       "      <td>1</td>\n",
       "      <td>many_subclasses</td>\n",
       "      <td>'autosomal recessive disease'@en</td>\n",
       "    </tr>\n",
       "    <tr>\n",
       "      <th>4</th>\n",
       "      <td>Q10267817</td>\n",
       "      <td>Q102186811</td>\n",
       "      <td>1</td>\n",
       "      <td>many_subclasses</td>\n",
       "      <td>'autosomal recessive disease'@en</td>\n",
       "    </tr>\n",
       "  </tbody>\n",
       "</table>\n",
       "</div>"
      ],
      "text/plain": [
       "       node1       graph  instance_count        node_type  \\\n",
       "0  Q10267817    Q1002195               1  many_subclasses   \n",
       "1  Q10267817  Q100936194               1  many_subclasses   \n",
       "2  Q10267817  Q101534204               1  many_subclasses   \n",
       "3  Q10267817     Q101896               1  many_subclasses   \n",
       "4  Q10267817  Q102186811               1  many_subclasses   \n",
       "\n",
       "                              label  \n",
       "0  'autosomal recessive disease'@en  \n",
       "1  'autosomal recessive disease'@en  \n",
       "2  'autosomal recessive disease'@en  \n",
       "3  'autosomal recessive disease'@en  \n",
       "4  'autosomal recessive disease'@en  "
      ]
     },
     "execution_count": 457,
     "metadata": {},
     "output_type": "execute_result"
    }
   ],
   "source": [
    "kgtk(\"head -n 5 -i $OUT/class-visualization.node.tsv.gz\")"
   ]
  },
  {
   "cell_type": "markdown",
   "metadata": {},
   "source": [
    "Index the file for query using the `graph` column:"
   ]
  },
  {
   "cell_type": "code",
   "execution_count": 459,
   "metadata": {
    "execution": {
     "iopub.execute_input": "2021-12-29T02:57:33.812201Z",
     "iopub.status.busy": "2021-12-29T02:57:33.811884Z",
     "iopub.status.idle": "2021-12-29T03:05:28.757717Z",
     "shell.execute_reply": "2021-12-29T03:05:28.756752Z",
     "shell.execute_reply.started": "2021-12-29T02:57:33.812165Z"
    },
    "tags": []
   },
   "outputs": [
    {
     "name": "stdout",
     "output_type": "stream",
     "text": [
      "node1\tgraph\tinstance_count\tnode_type\tlabel\n",
      "Q10267817\tQ1002195\t1\tmany_subclasses\t'autosomal recessive disease'@en\n",
      "Q10267817\tQ100936194\t1\tmany_subclasses\t'autosomal recessive disease'@en\n",
      "Q10267817\tQ101534204\t1\tmany_subclasses\t'autosomal recessive disease'@en\n"
     ]
    }
   ],
   "source": [
    "!kgtk query -i $OUT/class-visualization.node.tsv.gz --as classviznode --idx index:graph --limit 3"
   ]
  },
  {
   "cell_type": "code",
   "execution_count": null,
   "metadata": {},
   "outputs": [],
   "source": []
  },
  {
   "cell_type": "markdown",
   "metadata": {},
   "source": [
    "Temporary: we need this file for my current version of visualize because it needs labels in the edge file, the new version can have the labels in the node file"
   ]
  },
  {
   "cell_type": "code",
   "execution_count": 464,
   "metadata": {
    "execution": {
     "iopub.execute_input": "2021-12-29T03:07:00.466336Z",
     "iopub.status.busy": "2021-12-29T03:07:00.466064Z",
     "iopub.status.idle": "2021-12-29T03:41:46.315946Z",
     "shell.execute_reply": "2021-12-29T03:41:46.313896Z",
     "shell.execute_reply.started": "2021-12-29T03:07:00.466307Z"
    },
    "tags": []
   },
   "outputs": [],
   "source": [
    "kgtk(\"\"\"\n",
    "    query -i classvizedge -i label\n",
    "        --match 'classvizedge: (class)-[{label: property, graph: graph, edge_type: edge_type}]->(superclass)'\n",
    "        --opt 'label: (class)-[]->(class_label)'\n",
    "        --opt 'label: (property)-[]->(property_label)'\n",
    "        --opt 'label: (superclass)-[]->(superclass_label)'\n",
    "        --return 'distinct \n",
    "            class as node1, property as label, superclass as node2, \n",
    "            graph as graph, edge_type as edge_type,\n",
    "            class_label as `node1;label`, property_label as `label;label`, superclass_label as `node2;label`'\n",
    "    -o $TEMP/class-visualization.edge.label.tsv.gz\n",
    "\"\"\")"
   ]
  },
  {
   "cell_type": "code",
   "execution_count": 465,
   "metadata": {
    "execution": {
     "iopub.execute_input": "2021-12-29T03:41:46.321546Z",
     "iopub.status.busy": "2021-12-29T03:41:46.321253Z",
     "iopub.status.idle": "2021-12-29T04:03:33.804516Z",
     "shell.execute_reply": "2021-12-29T04:03:33.803272Z",
     "shell.execute_reply.started": "2021-12-29T03:41:46.321518Z"
    },
    "tags": []
   },
   "outputs": [
    {
     "name": "stdout",
     "output_type": "stream",
     "text": [
      "node1\tlabel\tnode2\tgraph\tedge_type\tnode1;label\tlabel;label\tnode2;label\n",
      "Q100000030\tP279\tQ14748\tQ14748\tsubclass\t\t'subclass of'@en\t'table'@en\n",
      "Q100000030\tP279\tQ14748\tQ14745\tsubclass\t\t'subclass of'@en\t'table'@en\n",
      "Q100000030\tP279\tQ14748\tQ1357761\tsubclass\t\t'subclass of'@en\t'table'@en\n"
     ]
    }
   ],
   "source": [
    "!kgtk query -i $TEMP/class-visualization.edge.label.tsv.gz --as classvizedgetest --idx index:graph --limit 3"
   ]
  },
  {
   "cell_type": "markdown",
   "metadata": {},
   "source": [
    "Test creation of the node file:"
   ]
  },
  {
   "cell_type": "code",
   "execution_count": 466,
   "metadata": {
    "execution": {
     "iopub.execute_input": "2021-12-29T04:03:33.808490Z",
     "iopub.status.busy": "2021-12-29T04:03:33.807352Z",
     "iopub.status.idle": "2021-12-29T04:03:36.932520Z",
     "shell.execute_reply": "2021-12-29T04:03:36.931802Z",
     "shell.execute_reply.started": "2021-12-29T04:03:33.808450Z"
    },
    "tags": []
   },
   "outputs": [
    {
     "data": {
      "text/html": [
       "<div>\n",
       "<style scoped>\n",
       "    .dataframe tbody tr th:only-of-type {\n",
       "        vertical-align: middle;\n",
       "    }\n",
       "\n",
       "    .dataframe tbody tr th {\n",
       "        vertical-align: top;\n",
       "    }\n",
       "\n",
       "    .dataframe thead th {\n",
       "        text-align: right;\n",
       "    }\n",
       "</style>\n",
       "<table border=\"1\" class=\"dataframe\">\n",
       "  <thead>\n",
       "    <tr style=\"text-align: right;\">\n",
       "      <th></th>\n",
       "      <th>node1</th>\n",
       "      <th>graph</th>\n",
       "      <th>instance_count</th>\n",
       "      <th>node_type</th>\n",
       "      <th>label</th>\n",
       "    </tr>\n",
       "  </thead>\n",
       "  <tbody>\n",
       "    <tr>\n",
       "      <th>0</th>\n",
       "      <td>Q1183543</td>\n",
       "      <td>Q11424</td>\n",
       "      <td>198</td>\n",
       "      <td>many_subclasses</td>\n",
       "      <td>'device'@en</td>\n",
       "    </tr>\n",
       "    <tr>\n",
       "      <th>1</th>\n",
       "      <td>Q41207</td>\n",
       "      <td>Q11424</td>\n",
       "      <td>5046</td>\n",
       "      <td>many_subclasses</td>\n",
       "      <td>'coin'@en</td>\n",
       "    </tr>\n",
       "    <tr>\n",
       "      <th>2</th>\n",
       "      <td>Q746549</td>\n",
       "      <td>Q11424</td>\n",
       "      <td>814</td>\n",
       "      <td>many_subclasses</td>\n",
       "      <td>'dish'@en</td>\n",
       "    </tr>\n",
       "    <tr>\n",
       "      <th>3</th>\n",
       "      <td>Q100721968</td>\n",
       "      <td>Q11424</td>\n",
       "      <td>0</td>\n",
       "      <td>NaN</td>\n",
       "      <td>NaN</td>\n",
       "    </tr>\n",
       "    <tr>\n",
       "      <th>4</th>\n",
       "      <td>Q101071244</td>\n",
       "      <td>Q11424</td>\n",
       "      <td>0</td>\n",
       "      <td>NaN</td>\n",
       "      <td>'dystopian television'@en</td>\n",
       "    </tr>\n",
       "    <tr>\n",
       "      <th>...</th>\n",
       "      <td>...</td>\n",
       "      <td>...</td>\n",
       "      <td>...</td>\n",
       "      <td>...</td>\n",
       "      <td>...</td>\n",
       "    </tr>\n",
       "    <tr>\n",
       "      <th>495</th>\n",
       "      <td>Q99526021</td>\n",
       "      <td>Q11424</td>\n",
       "      <td>0</td>\n",
       "      <td>NaN</td>\n",
       "      <td>'2D version'@en</td>\n",
       "    </tr>\n",
       "    <tr>\n",
       "      <th>496</th>\n",
       "      <td>Q99526024</td>\n",
       "      <td>Q11424</td>\n",
       "      <td>0</td>\n",
       "      <td>NaN</td>\n",
       "      <td>'3D version'@en</td>\n",
       "    </tr>\n",
       "    <tr>\n",
       "      <th>497</th>\n",
       "      <td>Q99526025</td>\n",
       "      <td>Q11424</td>\n",
       "      <td>0</td>\n",
       "      <td>NaN</td>\n",
       "      <td>'2D film'@en</td>\n",
       "    </tr>\n",
       "    <tr>\n",
       "      <th>498</th>\n",
       "      <td>Q99527517</td>\n",
       "      <td>Q11424</td>\n",
       "      <td>0</td>\n",
       "      <td>NaN</td>\n",
       "      <td>'collection entity'@en</td>\n",
       "    </tr>\n",
       "    <tr>\n",
       "      <th>499</th>\n",
       "      <td>Q996838</td>\n",
       "      <td>Q11424</td>\n",
       "      <td>0</td>\n",
       "      <td>NaN</td>\n",
       "      <td>'item number'@en</td>\n",
       "    </tr>\n",
       "  </tbody>\n",
       "</table>\n",
       "<p>500 rows × 5 columns</p>\n",
       "</div>"
      ],
      "text/plain": [
       "          node1   graph  instance_count        node_type  \\\n",
       "0      Q1183543  Q11424             198  many_subclasses   \n",
       "1        Q41207  Q11424            5046  many_subclasses   \n",
       "2       Q746549  Q11424             814  many_subclasses   \n",
       "3    Q100721968  Q11424               0              NaN   \n",
       "4    Q101071244  Q11424               0              NaN   \n",
       "..          ...     ...             ...              ...   \n",
       "495   Q99526021  Q11424               0              NaN   \n",
       "496   Q99526024  Q11424               0              NaN   \n",
       "497   Q99526025  Q11424               0              NaN   \n",
       "498   Q99527517  Q11424               0              NaN   \n",
       "499     Q996838  Q11424               0              NaN   \n",
       "\n",
       "                         label  \n",
       "0                  'device'@en  \n",
       "1                    'coin'@en  \n",
       "2                    'dish'@en  \n",
       "3                          NaN  \n",
       "4    'dystopian television'@en  \n",
       "..                         ...  \n",
       "495            '2D version'@en  \n",
       "496            '3D version'@en  \n",
       "497               '2D film'@en  \n",
       "498     'collection entity'@en  \n",
       "499           'item number'@en  \n",
       "\n",
       "[500 rows x 5 columns]"
      ]
     },
     "execution_count": 466,
     "metadata": {},
     "output_type": "execute_result"
    }
   ],
   "source": [
    "root = \"Q11424\"\n",
    "# root=\"Q391342\"\n",
    "# root=\"Q1420\"\n",
    "# root=\"Q1107\"\n",
    "# root=\"Q889821\"\n",
    "# root=\"Q1549591\"\n",
    "# root=\"Q188724\"\n",
    "# root=\"Q946808\"\n",
    "kgtk(f\"\"\"\n",
    "    query -i classviznode\n",
    "        --match '(class)-[{{graph: \"{root}\", instance_count: instance_count, label: label}}]->()'\n",
    "\"\"\")"
   ]
  },
  {
   "cell_type": "code",
   "execution_count": 468,
   "metadata": {
    "execution": {
     "iopub.execute_input": "2021-12-29T04:42:54.609112Z",
     "iopub.status.busy": "2021-12-29T04:42:54.608803Z",
     "iopub.status.idle": "2021-12-29T04:42:57.239682Z",
     "shell.execute_reply": "2021-12-29T04:42:57.238497Z",
     "shell.execute_reply.started": "2021-12-29T04:42:54.609081Z"
    }
   },
   "outputs": [],
   "source": [
    " kgtk(f\"\"\"\n",
    "        query -i classvizedgetest\n",
    "            --match '(class)-[{{label: property, graph: \"{root}\", edge_type: edge_type}}]->(superclass)'\n",
    "        -o $TEMP/browser/{root}.graph.low.tsv\n",
    "    \"\"\")"
   ]
  },
  {
   "cell_type": "markdown",
   "metadata": {},
   "source": [
    "## Test creation of visualizations"
   ]
  },
  {
   "cell_type": "code",
   "execution_count": 475,
   "metadata": {
    "execution": {
     "iopub.execute_input": "2021-12-29T05:30:11.306773Z",
     "iopub.status.busy": "2021-12-29T05:30:11.306438Z",
     "iopub.status.idle": "2021-12-29T05:31:25.778034Z",
     "shell.execute_reply": "2021-12-29T05:31:25.777067Z",
     "shell.execute_reply.started": "2021-12-29T05:30:11.306742Z"
    },
    "tags": []
   },
   "outputs": [],
   "source": [
    "roots = [\n",
    "    \"Q11424\",\n",
    "    \"Q391342\",\n",
    "    \"Q1420\",\n",
    "    \"Q1107\",\n",
    "    \"Q889821\",\n",
    "    \"Q1549591\",\n",
    "    \"Q188724\",\n",
    "    \"Q946808\",\n",
    "    \"Q33999\",\n",
    "    \"Q483501\",\n",
    "    \"Q2221906\"\n",
    "]\n",
    "\n",
    "for root in roots:\n",
    "    kgtk(f\"\"\"\n",
    "        query -i classvizedgetest\n",
    "            --match '(class)-[{{label: property, graph: \"{root}\", edge_type: edge_type}}]->(superclass)'\n",
    "        -o $TEMP/browser/{root}.graph.low.tsv\n",
    "    \"\"\")\n",
    "\n",
    "    kgtk(f\"\"\"\n",
    "        query -i classviznode\n",
    "            --match '(class)-[{{graph: \"{root}\", instance_count: instance_count, label: label}}]->()'\n",
    "        -o $TEMP/browser/{root}.node.graph.low.tsv\n",
    "    \"\"\")\n",
    "\n",
    "    kgtk(f\"\"\"\n",
    "        visualize-force-graph -i $TEMP/browser/{root}.graph.low.tsv\n",
    "            --direction arrow\n",
    "            -o $TEMP/browser/{root}.graph.low.html\n",
    "    \"\"\")"
   ]
  },
  {
   "cell_type": "raw",
   "metadata": {},
   "source": [
    "    kgtk(f\"\"\"\n",
    "        visualize-force-graph -i $TEMP/{root}.graph.low.tsv --node-file $TEMP/{root}.node.graph.low.tsv \n",
    "            --direction arrow\n",
    "            --node-size-column instance_count \n",
    "            --node-size-minimum 2.0 \n",
    "            --node-size-maximum 8.0 \n",
    "            --node-size-default 1.0 \n",
    "            --node-size-scale log \n",
    "            --node-color-column node_type\n",
    "            --node-color-scale categorical\n",
    "            --edge-color-column edge_type \n",
    "            --edge-color-style categorical \n",
    "            -o $TEMP/browser/{root}.graph.low.html\n",
    "    \"\"\")"
   ]
  },
  {
   "cell_type": "code",
   "execution_count": null,
   "metadata": {},
   "outputs": [],
   "source": []
  },
  {
   "cell_type": "code",
   "execution_count": null,
   "metadata": {},
   "outputs": [],
   "source": []
  },
  {
   "cell_type": "code",
   "execution_count": null,
   "metadata": {},
   "outputs": [],
   "source": []
  },
  {
   "cell_type": "code",
   "execution_count": null,
   "metadata": {},
   "outputs": [],
   "source": []
  },
  {
   "cell_type": "code",
   "execution_count": null,
   "metadata": {},
   "outputs": [],
   "source": []
  },
  {
   "cell_type": "markdown",
   "metadata": {
    "tags": []
   },
   "source": [
    "### Trim the subclasses based on the levels"
   ]
  },
  {
   "cell_type": "markdown",
   "metadata": {},
   "source": [
    "This is our starting point:"
   ]
  },
  {
   "cell_type": "code",
   "execution_count": 72,
   "metadata": {
    "execution": {
     "iopub.execute_input": "2021-12-24T01:33:07.163787Z",
     "iopub.status.busy": "2021-12-24T01:33:07.163508Z",
     "iopub.status.idle": "2021-12-24T01:33:09.587310Z",
     "shell.execute_reply": "2021-12-24T01:33:09.586497Z",
     "shell.execute_reply.started": "2021-12-24T01:33:07.163760Z"
    },
    "tags": []
   },
   "outputs": [
    {
     "data": {
      "text/html": [
       "<div>\n",
       "<style scoped>\n",
       "    .dataframe tbody tr th:only-of-type {\n",
       "        vertical-align: middle;\n",
       "    }\n",
       "\n",
       "    .dataframe tbody tr th {\n",
       "        vertical-align: top;\n",
       "    }\n",
       "\n",
       "    .dataframe thead th {\n",
       "        text-align: right;\n",
       "    }\n",
       "</style>\n",
       "<table border=\"1\" class=\"dataframe\">\n",
       "  <thead>\n",
       "    <tr style=\"text-align: right;\">\n",
       "      <th></th>\n",
       "      <th>node1</th>\n",
       "      <th>label</th>\n",
       "      <th>node2</th>\n",
       "      <th>distance</th>\n",
       "      <th>id</th>\n",
       "    </tr>\n",
       "  </thead>\n",
       "  <tbody>\n",
       "    <tr>\n",
       "      <th>0</th>\n",
       "      <td>Q100000030</td>\n",
       "      <td>P279star</td>\n",
       "      <td>Q100000030</td>\n",
       "      <td>0</td>\n",
       "      <td>Q100000030-P279star-Q100000030</td>\n",
       "    </tr>\n",
       "    <tr>\n",
       "      <th>1</th>\n",
       "      <td>Q100000030</td>\n",
       "      <td>P279star</td>\n",
       "      <td>Q14748</td>\n",
       "      <td>1</td>\n",
       "      <td>Q100000030-P279star-Q14748</td>\n",
       "    </tr>\n",
       "    <tr>\n",
       "      <th>2</th>\n",
       "      <td>Q100000030</td>\n",
       "      <td>P279star</td>\n",
       "      <td>Q14745</td>\n",
       "      <td>2</td>\n",
       "      <td>Q100000030-P279star-Q14745</td>\n",
       "    </tr>\n",
       "    <tr>\n",
       "      <th>3</th>\n",
       "      <td>Q100000030</td>\n",
       "      <td>P279star</td>\n",
       "      <td>Q1357761</td>\n",
       "      <td>3</td>\n",
       "      <td>Q100000030-P279star-Q1357761</td>\n",
       "    </tr>\n",
       "    <tr>\n",
       "      <th>4</th>\n",
       "      <td>Q100000030</td>\n",
       "      <td>P279star</td>\n",
       "      <td>Q2424752</td>\n",
       "      <td>3</td>\n",
       "      <td>Q100000030-P279star-Q2424752</td>\n",
       "    </tr>\n",
       "  </tbody>\n",
       "</table>\n",
       "</div>"
      ],
      "text/plain": [
       "        node1     label       node2  distance                              id\n",
       "0  Q100000030  P279star  Q100000030         0  Q100000030-P279star-Q100000030\n",
       "1  Q100000030  P279star      Q14748         1      Q100000030-P279star-Q14748\n",
       "2  Q100000030  P279star      Q14745         2      Q100000030-P279star-Q14745\n",
       "3  Q100000030  P279star    Q1357761         3    Q100000030-P279star-Q1357761\n",
       "4  Q100000030  P279star    Q2424752         3    Q100000030-P279star-Q2424752"
      ]
     },
     "execution_count": 72,
     "metadata": {},
     "output_type": "execute_result"
    }
   ],
   "source": [
    "kgtk(\"head -i $OUT/derived.p279star.complete.tsv.gz -n 5\")"
   ]
  },
  {
   "cell_type": "markdown",
   "metadata": {},
   "source": [
    "Let's look at the distribution of distances"
   ]
  },
  {
   "cell_type": "code",
   "execution_count": 75,
   "metadata": {
    "execution": {
     "iopub.execute_input": "2021-12-24T01:35:51.094241Z",
     "iopub.status.busy": "2021-12-24T01:35:51.093994Z",
     "iopub.status.idle": "2021-12-24T01:43:40.363740Z",
     "shell.execute_reply": "2021-12-24T01:43:40.362882Z",
     "shell.execute_reply.started": "2021-12-24T01:35:51.094213Z"
    },
    "tags": []
   },
   "outputs": [
    {
     "data": {
      "text/html": [
       "<div>\n",
       "<style scoped>\n",
       "    .dataframe tbody tr th:only-of-type {\n",
       "        vertical-align: middle;\n",
       "    }\n",
       "\n",
       "    .dataframe tbody tr th {\n",
       "        vertical-align: top;\n",
       "    }\n",
       "\n",
       "    .dataframe thead th {\n",
       "        text-align: right;\n",
       "    }\n",
       "</style>\n",
       "<table border=\"1\" class=\"dataframe\">\n",
       "  <thead>\n",
       "    <tr style=\"text-align: right;\">\n",
       "      <th></th>\n",
       "      <th>distance</th>\n",
       "      <th>count</th>\n",
       "    </tr>\n",
       "  </thead>\n",
       "  <tbody>\n",
       "    <tr>\n",
       "      <th>0</th>\n",
       "      <td>6</td>\n",
       "      <td>14920344</td>\n",
       "    </tr>\n",
       "    <tr>\n",
       "      <th>1</th>\n",
       "      <td>4</td>\n",
       "      <td>12395081</td>\n",
       "    </tr>\n",
       "    <tr>\n",
       "      <th>2</th>\n",
       "      <td>5</td>\n",
       "      <td>12068280</td>\n",
       "    </tr>\n",
       "    <tr>\n",
       "      <th>3</th>\n",
       "      <td>3</td>\n",
       "      <td>11432165</td>\n",
       "    </tr>\n",
       "    <tr>\n",
       "      <th>4</th>\n",
       "      <td>7</td>\n",
       "      <td>8660425</td>\n",
       "    </tr>\n",
       "    <tr>\n",
       "      <th>5</th>\n",
       "      <td>2</td>\n",
       "      <td>6976960</td>\n",
       "    </tr>\n",
       "    <tr>\n",
       "      <th>6</th>\n",
       "      <td>8</td>\n",
       "      <td>6681393</td>\n",
       "    </tr>\n",
       "    <tr>\n",
       "      <th>7</th>\n",
       "      <td>9</td>\n",
       "      <td>4448827</td>\n",
       "    </tr>\n",
       "    <tr>\n",
       "      <th>8</th>\n",
       "      <td>1</td>\n",
       "      <td>3077658</td>\n",
       "    </tr>\n",
       "    <tr>\n",
       "      <th>9</th>\n",
       "      <td>0</td>\n",
       "      <td>2503943</td>\n",
       "    </tr>\n",
       "    <tr>\n",
       "      <th>10</th>\n",
       "      <td>10</td>\n",
       "      <td>1873495</td>\n",
       "    </tr>\n",
       "    <tr>\n",
       "      <th>11</th>\n",
       "      <td>11</td>\n",
       "      <td>1159780</td>\n",
       "    </tr>\n",
       "    <tr>\n",
       "      <th>12</th>\n",
       "      <td>12</td>\n",
       "      <td>781940</td>\n",
       "    </tr>\n",
       "    <tr>\n",
       "      <th>13</th>\n",
       "      <td>13</td>\n",
       "      <td>362901</td>\n",
       "    </tr>\n",
       "    <tr>\n",
       "      <th>14</th>\n",
       "      <td>14</td>\n",
       "      <td>216027</td>\n",
       "    </tr>\n",
       "    <tr>\n",
       "      <th>15</th>\n",
       "      <td>15</td>\n",
       "      <td>119855</td>\n",
       "    </tr>\n",
       "    <tr>\n",
       "      <th>16</th>\n",
       "      <td>16</td>\n",
       "      <td>55762</td>\n",
       "    </tr>\n",
       "    <tr>\n",
       "      <th>17</th>\n",
       "      <td>17</td>\n",
       "      <td>27343</td>\n",
       "    </tr>\n",
       "    <tr>\n",
       "      <th>18</th>\n",
       "      <td>18</td>\n",
       "      <td>12478</td>\n",
       "    </tr>\n",
       "    <tr>\n",
       "      <th>19</th>\n",
       "      <td>19</td>\n",
       "      <td>5166</td>\n",
       "    </tr>\n",
       "    <tr>\n",
       "      <th>20</th>\n",
       "      <td>20</td>\n",
       "      <td>2427</td>\n",
       "    </tr>\n",
       "    <tr>\n",
       "      <th>21</th>\n",
       "      <td>21</td>\n",
       "      <td>659</td>\n",
       "    </tr>\n",
       "    <tr>\n",
       "      <th>22</th>\n",
       "      <td>22</td>\n",
       "      <td>188</td>\n",
       "    </tr>\n",
       "    <tr>\n",
       "      <th>23</th>\n",
       "      <td>23</td>\n",
       "      <td>15</td>\n",
       "    </tr>\n",
       "  </tbody>\n",
       "</table>\n",
       "</div>"
      ],
      "text/plain": [
       "    distance     count\n",
       "0          6  14920344\n",
       "1          4  12395081\n",
       "2          5  12068280\n",
       "3          3  11432165\n",
       "4          7   8660425\n",
       "5          2   6976960\n",
       "6          8   6681393\n",
       "7          9   4448827\n",
       "8          1   3077658\n",
       "9          0   2503943\n",
       "10        10   1873495\n",
       "11        11   1159780\n",
       "12        12    781940\n",
       "13        13    362901\n",
       "14        14    216027\n",
       "15        15    119855\n",
       "16        16     55762\n",
       "17        17     27343\n",
       "18        18     12478\n",
       "19        19      5166\n",
       "20        20      2427\n",
       "21        21       659\n",
       "22        22       188\n",
       "23        23        15"
      ]
     },
     "execution_count": 75,
     "metadata": {},
     "output_type": "execute_result"
    }
   ],
   "source": [
    "kgtk(\"\"\"\n",
    "    query -i p279starcomplete\n",
    "        --match '(class)-[eid {distance: d}]->(superclass)'\n",
    "        --return 'distinct d as distance, count(eid) as count'\n",
    "        --order-by 'cast(count, int) desc'\n",
    "\"\"\")"
   ]
  },
  {
   "cell_type": "markdown",
   "metadata": {},
   "source": [
    "Filter the `p279starcomplete` file to keep only the subclasses with distance < K=10"
   ]
  },
  {
   "cell_type": "code",
   "execution_count": 90,
   "metadata": {
    "execution": {
     "iopub.execute_input": "2021-12-24T02:12:19.407883Z",
     "iopub.status.busy": "2021-12-24T02:12:19.407617Z",
     "iopub.status.idle": "2021-12-24T02:14:12.762544Z",
     "shell.execute_reply": "2021-12-24T02:14:12.761464Z",
     "shell.execute_reply.started": "2021-12-24T02:12:19.407857Z"
    },
    "tags": []
   },
   "outputs": [],
   "source": [
    "kgtk(\"\"\"\n",
    "    query -i p279stard\n",
    "        --match '(subclass)-[eid {distance: d}]->(class)'\n",
    "        --return 'class as node1, \"Pcount_subclasses\" as label, count(distinct subclass) as node2'\n",
    "        --where 'subclass != class and d < 9'\n",
    "        --order-by 'cast(node2, int) desc'\n",
    "    -o $TEMP/subclass.count.d10.tsv.gz\n",
    "\"\"\")"
   ]
  },
  {
   "cell_type": "markdown",
   "metadata": {},
   "source": [
    "`kgtk add-labels` drives me crazy, as it takes sooooo long."
   ]
  },
  {
   "cell_type": "code",
   "execution_count": 433,
   "metadata": {
    "execution": {
     "iopub.execute_input": "2021-12-29T01:05:50.765242Z",
     "iopub.status.busy": "2021-12-29T01:05:50.764851Z",
     "iopub.status.idle": "2021-12-29T01:07:06.741101Z",
     "shell.execute_reply": "2021-12-29T01:07:06.740503Z",
     "shell.execute_reply.started": "2021-12-29T01:05:50.765211Z"
    },
    "tags": []
   },
   "outputs": [
    {
     "name": "stdout",
     "output_type": "stream",
     "text": [
      "zcat: error writing to output: Broken pipe\n",
      "| node1     | label             | node2   | node1;label                 |\n",
      "| --------- | ----------------- | ------- | --------------------------- |\n",
      "| Q35120    | Pcount_subclasses | 2366995 | 'entity'@en                 |\n",
      "| Q99527517 | Pcount_subclasses | 1440970 | 'collection entity'@en      |\n",
      "| Q16887380 | Pcount_subclasses | 1326944 | 'group'@en                  |\n",
      "| Q20937557 | Pcount_subclasses | 1255680 | 'series'@en                 |\n",
      "| Q28813620 | Pcount_subclasses | 1226806 | 'set'@en                    |\n",
      "| Q488383   | Pcount_subclasses | 1185270 | 'object'@en                 |\n",
      "| Q4406616  | Pcount_subclasses | 1144700 | 'concrete object'@en        |\n",
      "| Q223557   | Pcount_subclasses | 1136457 | 'physical object'@en        |\n",
      "| Q6671777  | Pcount_subclasses | 1110651 | 'structure'@en              |\n",
      "| Q58415929 | Pcount_subclasses | 1091001 | 'spatio-temporal entity'@en |\n",
      "| Q219858   | Pcount_subclasses | 1056942 | 'zone'@en                   |\n",
      "| Q50365914 | Pcount_subclasses | 1056855 | 'biological region'@en      |\n",
      "| Q97669203 | Pcount_subclasses | 1007358 | 'molecular conformation'@en |\n",
      "| Q15712714 | Pcount_subclasses | 1007317 | 'biomolecular structure'@en |\n",
      "| Q3511065  | Pcount_subclasses | 1007234 | 'biological sequence'@en    |\n",
      "| Q7187     | Pcount_subclasses | 1004629 | 'gene'@en                   |\n",
      "| Q3771876  | Pcount_subclasses | 1004622 | 'nucleic acid structure'@en |\n",
      "| Q37500013 | Pcount_subclasses | 1004619 | 'primary structure'@en      |\n",
      "| Q863908   | Pcount_subclasses | 1004579 | 'nucleic acid sequence'@en  |\n"
     ]
    }
   ],
   "source": [
    "!zcat < $TEMP/subclass.count.d10.tsv.gz | head -20 | kgtk add-labels / table"
   ]
  },
  {
   "cell_type": "code",
   "execution_count": null,
   "metadata": {},
   "outputs": [],
   "source": []
  }
 ],
 "metadata": {
  "kernelspec": {
   "display_name": "kgtk",
   "language": "python",
   "name": "kgtk"
  },
  "language_info": {
   "codemirror_mode": {
    "name": "ipython",
    "version": 3
   },
   "file_extension": ".py",
   "mimetype": "text/x-python",
   "name": "python",
   "nbconvert_exporter": "python",
   "pygments_lexer": "ipython3",
   "version": "3.8.12"
  }
 },
 "nbformat": 4,
 "nbformat_minor": 4
}
