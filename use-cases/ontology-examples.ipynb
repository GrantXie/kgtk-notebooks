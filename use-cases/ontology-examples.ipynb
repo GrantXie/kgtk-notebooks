{
 "cells": [
  {
   "cell_type": "markdown",
   "metadata": {},
   "source": [
    "# Ontology Examples\n",
    "\n",
    "Using the KGTK query API to find paths between qnodes"
   ]
  },
  {
   "cell_type": "markdown",
   "metadata": {},
   "source": [
    "### Preamble: set up the environment and files used in the tutorial"
   ]
  },
  {
   "cell_type": "code",
   "execution_count": 1,
   "metadata": {
    "execution": {
     "iopub.execute_input": "2021-12-03T05:18:58.338684Z",
     "iopub.status.busy": "2021-12-03T05:18:58.338368Z",
     "iopub.status.idle": "2021-12-03T05:18:58.730268Z",
     "shell.execute_reply": "2021-12-03T05:18:58.729856Z",
     "shell.execute_reply.started": "2021-12-03T05:18:58.338614Z"
    },
    "tags": []
   },
   "outputs": [],
   "source": [
    "import io\n",
    "import os\n",
    "import subprocess\n",
    "import sys\n",
    "\n",
    "import kgtk.kypher.api as kapi\n",
    "import numpy as np\n",
    "import pandas as pd\n",
    "from kgtk.configure_kgtk_notebooks import ConfigureKGTK\n",
    "from kgtk.functions import kgtk, kypher"
   ]
  },
  {
   "cell_type": "code",
   "execution_count": 2,
   "metadata": {
    "execution": {
     "iopub.execute_input": "2021-12-03T05:18:58.732408Z",
     "iopub.status.busy": "2021-12-03T05:18:58.732220Z",
     "iopub.status.idle": "2021-12-03T05:18:58.736257Z",
     "shell.execute_reply": "2021-12-03T05:18:58.735627Z",
     "shell.execute_reply.started": "2021-12-03T05:18:58.732364Z"
    },
    "tags": [
     "parameters"
    ]
   },
   "outputs": [],
   "source": [
    "# Parameters\n",
    "\n",
    "kgtk_path = \"/Users/pedroszekely/Documents/GitHub/kgtk\"\n",
    "\n",
    "# Folder on local machine where to create the output and temporary folders\n",
    "input_path = \"/Volumes/GoogleDrive/Shared drives/KGTK/datasets/wikidata-20210215/data/\"\n",
    "input_path = \"/Volumes/GoogleDrive/Shared drives/KGTK/datasets/wikidata-20210215-dwd-v2/\"\n",
    "output_path = \"/Users/pedroszekely/Downloads/kypher/projects\"\n",
    "graph_cache_path = \"/Users/pedroszekely/Downloads/kypher/wikidata.sqlite3.db\"\n",
    "project_name = \"browser-profiling\""
   ]
  },
  {
   "cell_type": "markdown",
   "metadata": {},
   "source": [
    "Our Wikidata distribution partitions the knowledge in Wikidata into smaller files that make it possible for you to pick and choose which files you want to use. Our tutorial KG is a subset of Wikidata, and is partitioned in the same way as the full Wikidata. The following is a partial list of all the files:"
   ]
  },
  {
   "cell_type": "code",
   "execution_count": 3,
   "metadata": {
    "execution": {
     "iopub.execute_input": "2021-12-03T05:18:58.737435Z",
     "iopub.status.busy": "2021-12-03T05:18:58.737234Z",
     "iopub.status.idle": "2021-12-03T05:18:58.743096Z",
     "shell.execute_reply": "2021-12-03T05:18:58.742350Z",
     "shell.execute_reply.started": "2021-12-03T05:18:58.737417Z"
    },
    "tags": []
   },
   "outputs": [
    {
     "name": "stdout",
     "output_type": "stream",
     "text": [
      "User home: /Users/pedroszekely\n",
      "Current dir: /Users/pedroszekely/Documents/GitHub/kgtk-tutorial-files/use-cases\n",
      "KGTK dir: /Users/pedroszekely/Documents/GitHub/kgtk\n",
      "Use-cases dir: /Users/pedroszekely/Documents/GitHub/kgtk/use-cases\n"
     ]
    }
   ],
   "source": [
    "files = [\n",
    "    \"item\",\n",
    "    \"p279star\",\n",
    "    \"label\"\n",
    "]\n",
    "ck = ConfigureKGTK(files, kgtk_path=kgtk_path)\n",
    "ck.configure_kgtk(input_graph_path=input_path,\n",
    "                  output_path=output_path,\n",
    "                  graph_cache_path=graph_cache_path,\n",
    "                  project_name=project_name,\n",
    "                  debug=True\n",
    "                 )"
   ]
  },
  {
   "cell_type": "markdown",
   "metadata": {},
   "source": [
    "The KGTK setup command defines environment variables for all the files so that you can reuse the Jupyter notebook when you install it on your local machine."
   ]
  },
  {
   "cell_type": "code",
   "execution_count": 4,
   "metadata": {
    "execution": {
     "iopub.execute_input": "2021-12-03T05:18:58.744523Z",
     "iopub.status.busy": "2021-12-03T05:18:58.744118Z",
     "iopub.status.idle": "2021-12-03T05:18:58.748009Z",
     "shell.execute_reply": "2021-12-03T05:18:58.747522Z",
     "shell.execute_reply.started": "2021-12-03T05:18:58.744500Z"
    },
    "tags": []
   },
   "outputs": [
    {
     "name": "stdout",
     "output_type": "stream",
     "text": [
      "KGTK_LABEL_FILE: /Volumes/GoogleDrive/Shared drives/KGTK/datasets/wikidata-20210215-dwd-v2//labels.en.tsv.gz\n",
      "STORE: /Users/pedroszekely/Downloads/kypher/wikidata.sqlite3.db\n",
      "kgtk: kgtk --debug\n",
      "KGTK_GRAPH_CACHE: /Users/pedroszekely/Downloads/kypher/wikidata.sqlite3.db\n",
      "EXAMPLES_DIR: /Users/pedroszekely/Documents/GitHub/kgtk/examples\n",
      "kypher: kgtk --debug query --graph-cache /Users/pedroszekely/Downloads/kypher/wikidata.sqlite3.db\n",
      "OUT: /Users/pedroszekely/Downloads/kypher/projects/browser-profiling\n",
      "KGTK_OPTION_DEBUG: false\n",
      "GRAPH: /Volumes/GoogleDrive/Shared drives/KGTK/datasets/wikidata-20210215-dwd-v2/\n",
      "TEMP: /Users/pedroszekely/Downloads/kypher/projects/browser-profiling/temp.browser-profiling\n",
      "USE_CASES_DIR: /Users/pedroszekely/Documents/GitHub/kgtk/use-cases\n",
      "item: /Volumes/GoogleDrive/Shared drives/KGTK/datasets/wikidata-20210215-dwd-v2//claims.wikibase-item.tsv.gz\n",
      "p279star: /Volumes/GoogleDrive/Shared drives/KGTK/datasets/wikidata-20210215-dwd-v2//derived.P279star.tsv.gz\n",
      "label: /Volumes/GoogleDrive/Shared drives/KGTK/datasets/wikidata-20210215-dwd-v2//labels.en.tsv.gz\n"
     ]
    }
   ],
   "source": [
    "ck.print_env_variables()"
   ]
  },
  {
   "cell_type": "code",
   "execution_count": 5,
   "metadata": {
    "execution": {
     "iopub.execute_input": "2021-12-03T05:18:58.749008Z",
     "iopub.status.busy": "2021-12-03T05:18:58.748871Z",
     "iopub.status.idle": "2021-12-03T05:18:59.220095Z",
     "shell.execute_reply": "2021-12-03T05:18:59.219500Z",
     "shell.execute_reply.started": "2021-12-03T05:18:58.748989Z"
    },
    "tags": []
   },
   "outputs": [
    {
     "name": "stdout",
     "output_type": "stream",
     "text": [
      "kgtk --debug query --graph-cache /Users/pedroszekely/Downloads/kypher/wikidata.sqlite3.db -i \"/Volumes/GoogleDrive/Shared drives/KGTK/datasets/wikidata-20210215-dwd-v2//claims.wikibase-item.tsv.gz\" --as item  -i \"/Volumes/GoogleDrive/Shared drives/KGTK/datasets/wikidata-20210215-dwd-v2//derived.P279star.tsv.gz\" --as p279star  -i \"/Volumes/GoogleDrive/Shared drives/KGTK/datasets/wikidata-20210215-dwd-v2//labels.en.tsv.gz\" --as label  --limit 3\n",
      "[2021-12-02 21:18:59 query]: SQL Translation:\n",
      "---------------------------------------------\n",
      "  SELECT *\n",
      "     FROM graph_1 AS graph_1_c1\n",
      "     LIMIT ?\n",
      "  PARAS: [3]\n",
      "---------------------------------------------\n",
      "node1\tlabel\tnode2\tid\trank\tnode2;wikidatatype\n",
      "P10\tP1629\tQ34508\tP10-P1629-Q34508-bcc39400-0\tnormal\twikibase-item\n",
      "P10\tP1855\tQ15075950\tP10-P1855-Q15075950-7eff6d65-0\tnormal\twikibase-item\n",
      "P10\tP1855\tQ4504\tP10-P1855-Q4504-a69d2c73-0\tnormal\twikibase-item\n"
     ]
    }
   ],
   "source": [
    "ck.load_files_into_cache()"
   ]
  },
  {
   "cell_type": "code",
   "execution_count": 6,
   "metadata": {
    "execution": {
     "iopub.execute_input": "2021-12-03T05:18:59.221711Z",
     "iopub.status.busy": "2021-12-03T05:18:59.221493Z",
     "iopub.status.idle": "2021-12-03T05:41:13.429153Z",
     "shell.execute_reply": "2021-12-03T05:41:13.418733Z",
     "shell.execute_reply.started": "2021-12-03T05:18:59.221686Z"
    },
    "tags": []
   },
   "outputs": [
    {
     "name": "stdout",
     "output_type": "stream",
     "text": [
      "[2021-12-02 21:18:59 query]: SQL Translation:\n",
      "---------------------------------------------\n",
      "  SELECT *\n",
      "     FROM graph_1 AS graph_1_c1\n",
      "     LIMIT ?\n",
      "  PARAS: [3]\n",
      "---------------------------------------------\n",
      "[2021-12-02 21:18:59 sqlstore]: DROP INDEX \"graph_1_node1_label_node2_idx\"\n",
      "[2021-12-02 21:20:11 sqlstore]: DROP INDEX \"graph_1_label_idx\"\n",
      "[2021-12-02 21:20:40 sqlstore]: DROP INDEX \"graph_1_node2_label_node1_idx\"\n",
      "[2021-12-02 21:21:51 sqlstore]: CREATE INDEX \"graph_1_node1_label_node2_idx\" ON \"graph_1\" (\"node1\", \"label\", \"node2\")\n",
      "[2021-12-02 21:25:00 sqlstore]: ANALYZE \"graph_1_node1_label_node2_idx\"\n",
      "[2021-12-02 21:25:34 sqlstore]: CREATE INDEX \"graph_1_label_idx\" ON \"graph_1\" (\"label\")\n",
      "[2021-12-02 21:28:53 sqlstore]: ANALYZE \"graph_1_label_idx\"\n",
      "[2021-12-02 21:29:07 sqlstore]: CREATE INDEX \"graph_1_node2_label_node1_idx\" ON \"graph_1\" (\"node2\", \"label\", \"node1\")\n",
      "[2021-12-02 21:35:21 sqlstore]: ANALYZE \"graph_1_node2_label_node1_idx\"\n",
      "node1\tlabel\tnode2\tid\trank\tnode2;wikidatatype\n",
      "P10\tP1629\tQ34508\tP10-P1629-Q34508-bcc39400-0\tnormal\twikibase-item\n",
      "P10\tP1855\tQ15075950\tP10-P1855-Q15075950-7eff6d65-0\tnormal\twikibase-item\n",
      "P10\tP1855\tQ4504\tP10-P1855-Q4504-a69d2c73-0\tnormal\twikibase-item\n",
      "[2021-12-02 21:36:00 query]: SQL Translation:\n",
      "---------------------------------------------\n",
      "  SELECT *\n",
      "     FROM graph_2 AS graph_2_c1\n",
      "     LIMIT ?\n",
      "  PARAS: [3]\n",
      "---------------------------------------------\n",
      "[2021-12-02 21:36:00 sqlstore]: DROP INDEX \"graph_2_node1_label_node2_idx\"\n",
      "[2021-12-02 21:36:36 sqlstore]: DROP INDEX \"graph_2_node2_label_node1_idx\"\n",
      "[2021-12-02 21:37:06 sqlstore]: CREATE INDEX \"graph_2_node1_label_node2_idx\" ON \"graph_2\" (\"node1\", \"label\", \"node2\")\n",
      "[2021-12-02 21:38:16 sqlstore]: ANALYZE \"graph_2_node1_label_node2_idx\"\n",
      "[2021-12-02 21:38:28 sqlstore]: CREATE INDEX \"graph_2_node2_label_node1_idx\" ON \"graph_2\" (\"node2\", \"label\", \"node1\")\n",
      "[2021-12-02 21:40:23 sqlstore]: ANALYZE \"graph_2_node2_label_node1_idx\"\n",
      "node1\tlabel\tnode2\tid\n",
      "Q100000030\tP279star\tQ100000030\tQ100000030-P279star-Q100000030-0000\n",
      "Q100000030\tP279star\tQ1357761\tQ100000030-P279star-Q1357761-0000\n",
      "Q100000030\tP279star\tQ14745\tQ100000030-P279star-Q14745-0000\n",
      "[2021-12-02 21:40:37 query]: SQL Translation:\n",
      "---------------------------------------------\n",
      "  SELECT *\n",
      "     FROM graph_3 AS graph_3_c1\n",
      "     LIMIT ?\n",
      "  PARAS: [3]\n",
      "---------------------------------------------\n",
      "[2021-12-02 21:40:37 sqlstore]: DROP INDEX \"graph_3_node1_idx\"\n",
      "[2021-12-02 21:40:44 sqlstore]: CREATE INDEX \"graph_3_node1_idx\" ON \"graph_3\" (\"node1\")\n",
      "[2021-12-02 21:41:09 sqlstore]: ANALYZE \"graph_3_node1_idx\"\n",
      "id\tnode1\tlabel\tnode2\n",
      "P10-label-en\tP10\tlabel\t'video'@en\n",
      "P1000-label-en\tP1000\tlabel\t'record held'@en\n",
      "P1001-label-en\tP1001\tlabel\t'applies to jurisdiction'@en\n"
     ]
    }
   ],
   "source": [
    "# best indexing for this notebook\n",
    "# !kgtk --debug query -i item --idx mode:graph -i p279star --idx mode:monograph --limit 3\n",
    "!kgtk --debug query -i item --idx mode:graph --limit 3\n",
    "!kgtk --debug query -i p279star --idx mode:monograph --limit 3\n",
    "!kgtk --debug query -i label --idx mode:valuegraph --limit 3"
   ]
  },
  {
   "cell_type": "markdown",
   "metadata": {
    "tags": []
   },
   "source": [
    "### Instantiate the Kypher API"
   ]
  },
  {
   "cell_type": "code",
   "execution_count": 7,
   "metadata": {
    "execution": {
     "iopub.execute_input": "2021-12-03T05:41:13.441373Z",
     "iopub.status.busy": "2021-12-03T05:41:13.440977Z",
     "iopub.status.idle": "2021-12-03T05:41:13.465100Z",
     "shell.execute_reply": "2021-12-03T05:41:13.464373Z",
     "shell.execute_reply.started": "2021-12-03T05:41:13.441343Z"
    },
    "tags": []
   },
   "outputs": [],
   "source": [
    "kypher_api = kapi.KypherApi(graphcache=os.environ['STORE'], loglevel=0, index='auto', maxresults=100, maxcache=0)"
   ]
  },
  {
   "cell_type": "markdown",
   "metadata": {},
   "source": [
    "### Find direct links"
   ]
  },
  {
   "cell_type": "code",
   "execution_count": 8,
   "metadata": {
    "execution": {
     "iopub.execute_input": "2021-12-03T05:41:13.471632Z",
     "iopub.status.busy": "2021-12-03T05:41:13.471382Z",
     "iopub.status.idle": "2021-12-03T05:41:13.481783Z",
     "shell.execute_reply": "2021-12-03T05:41:13.481000Z",
     "shell.execute_reply.started": "2021-12-03T05:41:13.471597Z"
    },
    "tags": []
   },
   "outputs": [],
   "source": [
    "def find_direct_links(qnode1, qnode2, limit=20):\n",
    "    \"\"\"Find direct links between qnode1 and qnode2\"\"\"\n",
    "    query = kypher_api.get_query(\n",
    "        inputs=['item', 'p279star', 'label'],\n",
    "        match='item: (n1)-[edgeid {label: property}]->(n2)',\n",
    "        where=f'((n1 = \"{qnode1}\" and n2 = \"{qnode2}\") or (n2 = \"{qnode1}\" and n1 = \"{qnode2}\")) and property != \"P279\" and property != \"P1889\"',\n",
    "        opt1='label: (n1)-[]->(n1_label)',\n",
    "        opt2='label: (property)-[]->(property_label)',\n",
    "        opt3='label: (n2)-[]->(n2_label)',\n",
    "        ret=\"\"\"distinct\n",
    "            n1 as node1, \n",
    "            n1_label as `node1;label`,\n",
    "            property as label, \n",
    "            property_label as `property;label`, \n",
    "            n2 as node2, \n",
    "            n2_label as `node2;label`\"\"\",\n",
    "        limit=limit\n",
    "    )\n",
    "    return query.execute()"
   ]
  },
  {
   "cell_type": "code",
   "execution_count": 9,
   "metadata": {
    "execution": {
     "iopub.execute_input": "2021-12-03T05:41:13.483664Z",
     "iopub.status.busy": "2021-12-03T05:41:13.483336Z",
     "iopub.status.idle": "2021-12-03T05:41:13.646760Z",
     "shell.execute_reply": "2021-12-03T05:41:13.646012Z",
     "shell.execute_reply.started": "2021-12-03T05:41:13.483608Z"
    },
    "tags": []
   },
   "outputs": [
    {
     "data": {
      "text/plain": [
       "(('Q81513',\n",
       "  \"'Citrus'@en\",\n",
       "  'P4000',\n",
       "  \"'has fruit type'@en\",\n",
       "  'Q1429336',\n",
       "  \"'hesperidium'@en\"),)"
      ]
     },
     "execution_count": 9,
     "metadata": {},
     "output_type": "execute_result"
    }
   ],
   "source": [
    "find_direct_links(\"Q81513\", \"Q1429336\")"
   ]
  },
  {
   "cell_type": "markdown",
   "metadata": {
    "execution": {
     "iopub.execute_input": "2021-12-03T05:12:16.355087Z",
     "iopub.status.busy": "2021-12-03T05:12:16.354827Z",
     "iopub.status.idle": "2021-12-03T05:12:16.358072Z",
     "shell.execute_reply": "2021-12-03T05:12:16.357480Z",
     "shell.execute_reply.started": "2021-12-03T05:12:16.355060Z"
    }
   },
   "source": [
    "### Find class to class links"
   ]
  },
  {
   "cell_type": "code",
   "execution_count": 10,
   "metadata": {
    "execution": {
     "iopub.execute_input": "2021-12-03T05:41:13.648307Z",
     "iopub.status.busy": "2021-12-03T05:41:13.648004Z",
     "iopub.status.idle": "2021-12-03T05:41:13.653941Z",
     "shell.execute_reply": "2021-12-03T05:41:13.652884Z",
     "shell.execute_reply.started": "2021-12-03T05:41:13.648270Z"
    },
    "tags": []
   },
   "outputs": [],
   "source": [
    "def find_class_class_links_via_superclass(qnode1, qnode2, limit=20):\n",
    "    \"\"\"Use case: qnode1 and qnode2 are classes: find a link between a P279* of qnode1 and qnode2\"\"\"\n",
    "    query = kypher_api.get_query(\n",
    "        inputs=['item', 'p279star', 'label'],\n",
    "        match=\"\"\"\n",
    "            p279star: (n1)-[]->(hop1),\n",
    "            item: (hop1)-[edgeid {label: property}]->(n2)\"\"\",\n",
    "        where=f'((n1 = \"{qnode1}\" and n2 = \"{qnode2}\") or (n2 = \"{qnode1}\" and n1 = \"{qnode2}\")) and property != \"P279\" and property != \"P1889\"',\n",
    "        opt1='label: (n1)-[]->(n1_label)',\n",
    "        opt2='label: (property)-[]->(property_label)',\n",
    "        opt3='label: (n2)-[]->(n2_label)',\n",
    "        opt4='label: (hop1)-[]->(hop1_label)',\n",
    "        ret=\"\"\"distinct\n",
    "            n1 as node1, \n",
    "            n1_label as `node1;label`,\n",
    "            property as label, \n",
    "            property_label as `property;label`, \n",
    "            n2 as node2, \n",
    "            n2_label as `node2;label`, \n",
    "            hop1 as hop1, \n",
    "            hop1_label as `hop1;label`\n",
    "            \"\"\",\n",
    "        limit=limit\n",
    "    )\n",
    "    return query.execute()"
   ]
  },
  {
   "cell_type": "code",
   "execution_count": 11,
   "metadata": {
    "execution": {
     "iopub.execute_input": "2021-12-03T05:41:13.655711Z",
     "iopub.status.busy": "2021-12-03T05:41:13.655410Z",
     "iopub.status.idle": "2021-12-03T05:41:13.738189Z",
     "shell.execute_reply": "2021-12-03T05:41:13.737685Z",
     "shell.execute_reply.started": "2021-12-03T05:41:13.655692Z"
    },
    "tags": []
   },
   "outputs": [
    {
     "data": {
      "text/plain": [
       "(('Q183206',\n",
       "  \"'vitamin B'@en\",\n",
       "  'P460',\n",
       "  \"'said to be the same as'@en\",\n",
       "  'Q1422299',\n",
       "  \"'nutriment'@en\",\n",
       "  'Q181394',\n",
       "  \"'nutrient'@en\"),)"
      ]
     },
     "execution_count": 11,
     "metadata": {},
     "output_type": "execute_result"
    }
   ],
   "source": [
    "find_class_class_links_via_superclass(\"Q183206\", \"Q1422299\")"
   ]
  },
  {
   "cell_type": "markdown",
   "metadata": {},
   "source": [
    "### Find instance to class links"
   ]
  },
  {
   "cell_type": "code",
   "execution_count": 12,
   "metadata": {
    "execution": {
     "iopub.execute_input": "2021-12-03T05:41:13.738975Z",
     "iopub.status.busy": "2021-12-03T05:41:13.738846Z",
     "iopub.status.idle": "2021-12-03T05:41:13.743253Z",
     "shell.execute_reply": "2021-12-03T05:41:13.742745Z",
     "shell.execute_reply.started": "2021-12-03T05:41:13.738957Z"
    }
   },
   "outputs": [],
   "source": [
    "def find_instance_class_links_via_superclass(qnode1, qnode2, limit=20):\n",
    "    \"\"\"Use case: qnode1 is an instance, qnode2 are classes: find a link between a P31/P279* of qnode1 and qnode2\"\"\"\n",
    "    query = kypher_api.get_query(\n",
    "        inputs=['item', 'p279star', 'label'],\n",
    "        match=\"\"\"\n",
    "            item: (n1)-[:P31]->(class),\n",
    "            p279star: (class)-[]->(hop1),\n",
    "            item: (hop1)-[edgeid {label: property}]->(n2)\"\"\",\n",
    "        where=f'((n1 = \"{qnode1}\" and n2 = \"{qnode2}\") or (n2 = \"{qnode1}\" and n1 = \"{qnode2}\")) and property != \"P279\" and property != \"P1889\"',\n",
    "        opt1='label: (n1)-[]->(n1_label)',\n",
    "        opt2='label: (property)-[]->(property_label)',\n",
    "        opt3='label: (n2)-[]->(n2_label)',\n",
    "        opt4='label: (hop1)-[]->(hop1_label)',\n",
    "        ret=\"\"\"distinct\n",
    "            n1 as node1, \n",
    "            n1_label as `node1;label`,\n",
    "            property as label, \n",
    "            property_label as `property;label`, \n",
    "            n2 as node2, \n",
    "            n2_label as `node2;label`, \n",
    "            hop1 as hop1, \n",
    "            hop1_label as `hop1;label`\n",
    "            \"\"\",\n",
    "        limit=limit\n",
    "    )\n",
    "    return query.execute()"
   ]
  },
  {
   "cell_type": "code",
   "execution_count": 13,
   "metadata": {
    "execution": {
     "iopub.execute_input": "2021-12-03T05:41:13.744329Z",
     "iopub.status.busy": "2021-12-03T05:41:13.744149Z",
     "iopub.status.idle": "2021-12-03T05:41:13.876516Z",
     "shell.execute_reply": "2021-12-03T05:41:13.876032Z",
     "shell.execute_reply.started": "2021-12-03T05:41:13.744309Z"
    }
   },
   "outputs": [
    {
     "data": {
      "text/plain": [
       "()"
      ]
     },
     "execution_count": 13,
     "metadata": {},
     "output_type": "execute_result"
    }
   ],
   "source": [
    "find_instance_class_links_via_superclass(\"Q183206\", \"Q1422299\")"
   ]
  },
  {
   "cell_type": "markdown",
   "metadata": {},
   "source": [
    "### Find class to class links via superclasses\n",
    "This variant is more generous as it finds relations between the superclasses of both inputs and thus can produce unexpected results.\n",
    "Suppose the inputs are car and sail: we can go from car up to vehicle, and from sail up to vehicle part, and discover the has-part relation between vehicle and vehicle-part, which would be wrong as cars don't have sails."
   ]
  },
  {
   "cell_type": "code",
   "execution_count": 14,
   "metadata": {
    "execution": {
     "iopub.execute_input": "2021-12-03T05:41:13.877413Z",
     "iopub.status.busy": "2021-12-03T05:41:13.877284Z",
     "iopub.status.idle": "2021-12-03T05:41:13.881796Z",
     "shell.execute_reply": "2021-12-03T05:41:13.881192Z",
     "shell.execute_reply.started": "2021-12-03T05:41:13.877395Z"
    },
    "tags": []
   },
   "outputs": [],
   "source": [
    "def find_class_class_links_via_superclass_and_subclass(qnode1, qnode2, limit=20):\n",
    "    \"\"\"Use case: qnode1 and qnode2 are classes: find a link between a P279* of qnode1 and a P279* of qnode2\"\"\"\n",
    "    query = kypher_api.get_query(\n",
    "        inputs=['item', 'p279star', 'label'],\n",
    "        match=\"\"\"\n",
    "            p279star: (n1)-[]->(hop1),\n",
    "            item: (hop1)-[edgeid {label: property}]->(hop2),\n",
    "            p279star: (n2)-[]->(hop2)\"\"\",\n",
    "        where=f'((n1 = \"{qnode1}\" and n2 = \"{qnode2}\") or (n2 = \"{qnode1}\" and n1 = \"{qnode2}\")) and property != \"P279\" and property != \"P1889\"',\n",
    "        opt1='label: (n1)-[]->(n1_label)',\n",
    "        opt2='label: (property)-[]->(property_label)',\n",
    "        opt3='label: (n2)-[]->(n2_label)',\n",
    "        opt4='label: (hop1)-[]->(hop1_label)',\n",
    "        opt5='label: (hop2)-[]->(hop2_label)',\n",
    "        ret=\"\"\"distinct\n",
    "            n1 as node1, \n",
    "            n1_label as `node1;label`,\n",
    "            property as label, \n",
    "            property_label as `property;label`, \n",
    "            n2 as node2, \n",
    "            n2_label as `node2;label`,\n",
    "            hop1 as hop1, \n",
    "            hop1_label as `hop1;label`, \n",
    "            hop2 as hop2, \n",
    "            hop2_label as `hop2;label`\n",
    "            \"\"\",\n",
    "        limit=limit\n",
    "    )\n",
    "    return query.execute()"
   ]
  },
  {
   "cell_type": "code",
   "execution_count": 15,
   "metadata": {
    "execution": {
     "iopub.execute_input": "2021-12-03T05:41:13.883008Z",
     "iopub.status.busy": "2021-12-03T05:41:13.882786Z",
     "iopub.status.idle": "2021-12-03T05:41:16.307833Z",
     "shell.execute_reply": "2021-12-03T05:41:16.307164Z",
     "shell.execute_reply.started": "2021-12-03T05:41:13.882988Z"
    },
    "tags": []
   },
   "outputs": [
    {
     "data": {
      "text/plain": [
       "()"
      ]
     },
     "execution_count": 15,
     "metadata": {},
     "output_type": "execute_result"
    }
   ],
   "source": [
    "find_class_class_links_via_superclass_and_subclass(\"Q199678\", \"Q1093742\")"
   ]
  },
  {
   "cell_type": "markdown",
   "metadata": {
    "execution": {
     "iopub.execute_input": "2021-12-03T05:17:16.200779Z",
     "iopub.status.busy": "2021-12-03T05:17:16.200532Z",
     "iopub.status.idle": "2021-12-03T05:17:16.203742Z",
     "shell.execute_reply": "2021-12-03T05:17:16.202929Z",
     "shell.execute_reply.started": "2021-12-03T05:17:16.200752Z"
    }
   },
   "source": [
    "### Find instance to class links via superclasses"
   ]
  },
  {
   "cell_type": "code",
   "execution_count": 16,
   "metadata": {
    "execution": {
     "iopub.execute_input": "2021-12-03T05:41:16.308850Z",
     "iopub.status.busy": "2021-12-03T05:41:16.308689Z",
     "iopub.status.idle": "2021-12-03T05:41:16.314160Z",
     "shell.execute_reply": "2021-12-03T05:41:16.313219Z",
     "shell.execute_reply.started": "2021-12-03T05:41:16.308831Z"
    },
    "tags": []
   },
   "outputs": [],
   "source": [
    "def find_instance_class_links_via_superclass_and_subclass(qnode1, qnode2, limit=20):\n",
    "    \"\"\"Use case: qnode1 is an instance, qnode2 is a class: find a link between a P31/P279* of qnode1 and a P279* of qnode2\"\"\"\n",
    "    query = kypher_api.get_query(\n",
    "        inputs=['item', 'p279star', 'label'],\n",
    "        match=\"\"\"\n",
    "            item: (n1)-[:P31]->(class),\n",
    "            p279star: (class)-[]->(hop1),\n",
    "            item: (hop1)-[edgeid {label: property}]->(hop2),\n",
    "            p279star: (n2)-[]->(hop2)\"\"\",\n",
    "        where=f'((n1 = \"{qnode1}\" and n2 = \"{qnode2}\") or (n2 = \"{qnode1}\" and n1 = \"{qnode2}\")) and property != \"P279\" and property != \"P1889\"',\n",
    "        opt1='label: (n1)-[]->(n1_label)',\n",
    "        opt2='label: (property)-[]->(property_label)',\n",
    "        opt3='label: (n2)-[]->(n2_label)',\n",
    "        opt4='label: (hop1)-[]->(hop1_label)',\n",
    "        opt5='label: (hop2)-[]->(hop2_label)',\n",
    "        ret=\"\"\"distinct\n",
    "            n1 as node1, \n",
    "            n1_label as `node1;label`,\n",
    "            property as label, \n",
    "            property_label as `property;label`, \n",
    "            n2 as node2, \n",
    "            n2_label as `node2;label`,\n",
    "            hop1 as hop1, \n",
    "            hop1_label as `hop1;label`, \n",
    "            hop2 as hop2, \n",
    "            hop2_label as `hop2;label`\n",
    "            \"\"\",\n",
    "        limit=limit\n",
    "    )\n",
    "    return query.execute()"
   ]
  },
  {
   "cell_type": "code",
   "execution_count": 17,
   "metadata": {
    "execution": {
     "iopub.execute_input": "2021-12-03T05:41:16.315510Z",
     "iopub.status.busy": "2021-12-03T05:41:16.315302Z",
     "iopub.status.idle": "2021-12-03T05:41:23.217895Z",
     "shell.execute_reply": "2021-12-03T05:41:23.217008Z",
     "shell.execute_reply.started": "2021-12-03T05:41:16.315487Z"
    },
    "tags": []
   },
   "outputs": [
    {
     "data": {
      "text/plain": [
       "(('Q199678',\n",
       "  \"'vitamin C'@en\",\n",
       "  'P527',\n",
       "  \"'has part'@en\",\n",
       "  'Q1093742',\n",
       "  \"'lemon'@en\",\n",
       "  'Q223557',\n",
       "  \"'physical object'@en\",\n",
       "  'Q28732711',\n",
       "  \"'physical substance'@en\"),\n",
       " ('Q199678',\n",
       "  \"'vitamin C'@en\",\n",
       "  'P2670',\n",
       "  \"'has parts of the class'@en\",\n",
       "  'Q1093742',\n",
       "  \"'lemon'@en\",\n",
       "  'Q28732711',\n",
       "  \"'physical substance'@en\",\n",
       "  'Q28728771',\n",
       "  \"'material substance'@en\"),\n",
       " ('Q199678',\n",
       "  \"'vitamin C'@en\",\n",
       "  'P361',\n",
       "  \"'part of'@en\",\n",
       "  'Q1093742',\n",
       "  \"'lemon'@en\",\n",
       "  'Q28732711',\n",
       "  \"'physical substance'@en\",\n",
       "  'Q223557',\n",
       "  \"'physical object'@en\"),\n",
       " ('Q199678',\n",
       "  \"'vitamin C'@en\",\n",
       "  'P1269',\n",
       "  \"'facet of'@en\",\n",
       "  'Q1093742',\n",
       "  \"'lemon'@en\",\n",
       "  'Q4406616',\n",
       "  \"'concrete object'@en\",\n",
       "  'Q488383',\n",
       "  \"'object'@en\"),\n",
       " ('Q199678',\n",
       "  \"'vitamin C'@en\",\n",
       "  'P460',\n",
       "  \"'said to be the same as'@en\",\n",
       "  'Q1093742',\n",
       "  \"'lemon'@en\",\n",
       "  'Q488383',\n",
       "  \"'object'@en\",\n",
       "  'Q4406616',\n",
       "  \"'concrete object'@en\"),\n",
       " ('Q199678',\n",
       "  \"'vitamin C'@en\",\n",
       "  'P461',\n",
       "  \"'opposite of'@en\",\n",
       "  'Q1093742',\n",
       "  \"'lemon'@en\",\n",
       "  'Q5127848',\n",
       "  \"'class'@en\",\n",
       "  'Q23958946',\n",
       "  \"'individual entity'@en\"),\n",
       " ('Q199678',\n",
       "  \"'vitamin C'@en\",\n",
       "  'P461',\n",
       "  \"'opposite of'@en\",\n",
       "  'Q1093742',\n",
       "  \"'lemon'@en\",\n",
       "  'Q7184903',\n",
       "  \"'abstract object'@en\",\n",
       "  'Q4406616',\n",
       "  \"'concrete object'@en\"),\n",
       " ('Q199678',\n",
       "  \"'vitamin C'@en\",\n",
       "  'P461',\n",
       "  \"'opposite of'@en\",\n",
       "  'Q1093742',\n",
       "  \"'lemon'@en\",\n",
       "  'Q16686448',\n",
       "  \"'artificial entity'@en\",\n",
       "  'Q29651224',\n",
       "  \"'natural object'@en\"),\n",
       " ('Q199678',\n",
       "  \"'vitamin C'@en\",\n",
       "  'P361',\n",
       "  \"'part of'@en\",\n",
       "  'Q1093742',\n",
       "  \"'lemon'@en\",\n",
       "  'Q28877',\n",
       "  \"'goods'@en\",\n",
       "  'Q2897903',\n",
       "  \"'goods and services'@en\"),\n",
       " ('Q199678',\n",
       "  \"'vitamin C'@en\",\n",
       "  'P461',\n",
       "  \"'opposite of'@en\",\n",
       "  'Q1093742',\n",
       "  \"'lemon'@en\",\n",
       "  'Q8205328',\n",
       "  \"'artificial physical object'@en\",\n",
       "  'Q16686022',\n",
       "  \"'natural physical object'@en\"),\n",
       " ('Q199678',\n",
       "  \"'vitamin C'@en\",\n",
       "  'P2670',\n",
       "  \"'has parts of the class'@en\",\n",
       "  'Q1093742',\n",
       "  \"'lemon'@en\",\n",
       "  'Q16887380',\n",
       "  \"'group'@en\",\n",
       "  'Q488383',\n",
       "  \"'object'@en\"),\n",
       " ('Q199678',\n",
       "  \"'vitamin C'@en\",\n",
       "  'P527',\n",
       "  \"'has part'@en\",\n",
       "  'Q1093742',\n",
       "  \"'lemon'@en\",\n",
       "  'Q16887380',\n",
       "  \"'group'@en\",\n",
       "  'Q35120',\n",
       "  \"'entity'@en\"),\n",
       " ('Q199678',\n",
       "  \"'vitamin C'@en\",\n",
       "  'P460',\n",
       "  \"'said to be the same as'@en\",\n",
       "  'Q1093742',\n",
       "  \"'lemon'@en\",\n",
       "  'Q181394',\n",
       "  \"'nutrient'@en\",\n",
       "  'Q1422299',\n",
       "  \"'nutriment'@en\"),\n",
       " ('Q199678',\n",
       "  \"'vitamin C'@en\",\n",
       "  'P1269',\n",
       "  \"'facet of'@en\",\n",
       "  'Q1093742',\n",
       "  \"'lemon'@en\",\n",
       "  'Q937228',\n",
       "  \"'property'@en\",\n",
       "  'Q488383',\n",
       "  \"'object'@en\"))"
      ]
     },
     "execution_count": 17,
     "metadata": {},
     "output_type": "execute_result"
    }
   ],
   "source": [
    "find_instance_class_links_via_superclass_and_subclass(\"Q199678\", \"Q1093742\")"
   ]
  },
  {
   "cell_type": "markdown",
   "metadata": {},
   "source": [
    "### Find instance to instance links via superclasses"
   ]
  },
  {
   "cell_type": "code",
   "execution_count": 18,
   "metadata": {
    "execution": {
     "iopub.execute_input": "2021-12-03T05:41:23.219531Z",
     "iopub.status.busy": "2021-12-03T05:41:23.219020Z",
     "iopub.status.idle": "2021-12-03T05:41:23.223932Z",
     "shell.execute_reply": "2021-12-03T05:41:23.223457Z",
     "shell.execute_reply.started": "2021-12-03T05:41:23.219515Z"
    },
    "tags": []
   },
   "outputs": [],
   "source": [
    "def find_instance_instance_links_via_superclass_and_subclass(qnode1, qnode2, limit=20):\n",
    "    \"\"\"Use case: qnode1 and qnode2 are instances: find a link between a P31/P279* of qnode1 and a P31/P279* of qnode2\"\"\"\n",
    "    query = kypher_api.get_query(\n",
    "        inputs=['item', 'p279star', 'label'],\n",
    "        match=\"\"\"\n",
    "            item: (n1)-[:P31]->(n1_class),\n",
    "            p279star: (n1_class)-[]->(hop1),\n",
    "            item: (hop1)-[edgeid {label: property}]->(hop2),\n",
    "            item: (n2)-[:P31]->(n2_class),\n",
    "            p279star: (n2_class)-[]->(hop2)\"\"\",\n",
    "        where=f'((n1 = \"{qnode1}\" and n2 = \"{qnode2}\") or (n2 = \"{qnode1}\" and n1 = \"{qnode2}\")) and property != \"P279\" and property != \"P1889\"',\n",
    "        opt1='label: (n1)-[]->(n1_label)',\n",
    "        opt2='label: (property)-[]->(property_label)',\n",
    "        opt3='label: (n2)-[]->(n2_label)',\n",
    "        opt4='label: (hop1)-[]->(hop1_label)',\n",
    "        opt5='label: (hop2)-[]->(hop2_label)',\n",
    "        ret=\"\"\"distinct\n",
    "            n1 as node1, \n",
    "            n1_label as `node1;label`,\n",
    "            property as label, \n",
    "            property_label as `property;label`, \n",
    "            n2 as node2, \n",
    "            n2_label as `node2;label`,\n",
    "            hop1 as hop1, \n",
    "            hop1_label as `hop1;label`, \n",
    "            hop2 as hop2, \n",
    "            hop2_label as `hop2;label`\n",
    "            \"\"\",\n",
    "        limit=limit\n",
    "    )\n",
    "    return query.execute()"
   ]
  },
  {
   "cell_type": "code",
   "execution_count": 19,
   "metadata": {
    "execution": {
     "iopub.execute_input": "2021-12-03T05:41:23.224746Z",
     "iopub.status.busy": "2021-12-03T05:41:23.224627Z",
     "iopub.status.idle": "2021-12-03T05:41:28.682715Z",
     "shell.execute_reply": "2021-12-03T05:41:28.682246Z",
     "shell.execute_reply.started": "2021-12-03T05:41:23.224730Z"
    },
    "tags": []
   },
   "outputs": [
    {
     "data": {
      "text/plain": [
       "(('Q199678',\n",
       "  \"'vitamin C'@en\",\n",
       "  'P527',\n",
       "  \"'has part'@en\",\n",
       "  'Q1093742',\n",
       "  \"'lemon'@en\",\n",
       "  'Q223557',\n",
       "  \"'physical object'@en\",\n",
       "  'Q28732711',\n",
       "  \"'physical substance'@en\"),\n",
       " ('Q199678',\n",
       "  \"'vitamin C'@en\",\n",
       "  'P2670',\n",
       "  \"'has parts of the class'@en\",\n",
       "  'Q1093742',\n",
       "  \"'lemon'@en\",\n",
       "  'Q28732711',\n",
       "  \"'physical substance'@en\",\n",
       "  'Q28728771',\n",
       "  \"'material substance'@en\"),\n",
       " ('Q199678',\n",
       "  \"'vitamin C'@en\",\n",
       "  'P361',\n",
       "  \"'part of'@en\",\n",
       "  'Q1093742',\n",
       "  \"'lemon'@en\",\n",
       "  'Q28732711',\n",
       "  \"'physical substance'@en\",\n",
       "  'Q223557',\n",
       "  \"'physical object'@en\"),\n",
       " ('Q199678',\n",
       "  \"'vitamin C'@en\",\n",
       "  'P1269',\n",
       "  \"'facet of'@en\",\n",
       "  'Q1093742',\n",
       "  \"'lemon'@en\",\n",
       "  'Q4406616',\n",
       "  \"'concrete object'@en\",\n",
       "  'Q488383',\n",
       "  \"'object'@en\"),\n",
       " ('Q199678',\n",
       "  \"'vitamin C'@en\",\n",
       "  'P460',\n",
       "  \"'said to be the same as'@en\",\n",
       "  'Q1093742',\n",
       "  \"'lemon'@en\",\n",
       "  'Q488383',\n",
       "  \"'object'@en\",\n",
       "  'Q4406616',\n",
       "  \"'concrete object'@en\"),\n",
       " ('Q199678',\n",
       "  \"'vitamin C'@en\",\n",
       "  'P461',\n",
       "  \"'opposite of'@en\",\n",
       "  'Q1093742',\n",
       "  \"'lemon'@en\",\n",
       "  'Q5127848',\n",
       "  \"'class'@en\",\n",
       "  'Q23958946',\n",
       "  \"'individual entity'@en\"),\n",
       " ('Q199678',\n",
       "  \"'vitamin C'@en\",\n",
       "  'P461',\n",
       "  \"'opposite of'@en\",\n",
       "  'Q1093742',\n",
       "  \"'lemon'@en\",\n",
       "  'Q7184903',\n",
       "  \"'abstract object'@en\",\n",
       "  'Q4406616',\n",
       "  \"'concrete object'@en\"),\n",
       " ('Q199678',\n",
       "  \"'vitamin C'@en\",\n",
       "  'P461',\n",
       "  \"'opposite of'@en\",\n",
       "  'Q1093742',\n",
       "  \"'lemon'@en\",\n",
       "  'Q16686448',\n",
       "  \"'artificial entity'@en\",\n",
       "  'Q29651224',\n",
       "  \"'natural object'@en\"),\n",
       " ('Q199678',\n",
       "  \"'vitamin C'@en\",\n",
       "  'P461',\n",
       "  \"'opposite of'@en\",\n",
       "  'Q1093742',\n",
       "  \"'lemon'@en\",\n",
       "  'Q8205328',\n",
       "  \"'artificial physical object'@en\",\n",
       "  'Q16686022',\n",
       "  \"'natural physical object'@en\"),\n",
       " ('Q199678',\n",
       "  \"'vitamin C'@en\",\n",
       "  'P2670',\n",
       "  \"'has parts of the class'@en\",\n",
       "  'Q1093742',\n",
       "  \"'lemon'@en\",\n",
       "  'Q16887380',\n",
       "  \"'group'@en\",\n",
       "  'Q488383',\n",
       "  \"'object'@en\"),\n",
       " ('Q199678',\n",
       "  \"'vitamin C'@en\",\n",
       "  'P527',\n",
       "  \"'has part'@en\",\n",
       "  'Q1093742',\n",
       "  \"'lemon'@en\",\n",
       "  'Q16887380',\n",
       "  \"'group'@en\",\n",
       "  'Q35120',\n",
       "  \"'entity'@en\"),\n",
       " ('Q199678',\n",
       "  \"'vitamin C'@en\",\n",
       "  'P1269',\n",
       "  \"'facet of'@en\",\n",
       "  'Q1093742',\n",
       "  \"'lemon'@en\",\n",
       "  'Q937228',\n",
       "  \"'property'@en\",\n",
       "  'Q488383',\n",
       "  \"'object'@en\"),\n",
       " ('Q1093742',\n",
       "  \"'lemon'@en\",\n",
       "  'P527',\n",
       "  \"'has part'@en\",\n",
       "  'Q199678',\n",
       "  \"'vitamin C'@en\",\n",
       "  'Q223557',\n",
       "  \"'physical object'@en\",\n",
       "  'Q28732711',\n",
       "  \"'physical substance'@en\"),\n",
       " ('Q1093742',\n",
       "  \"'lemon'@en\",\n",
       "  'P461',\n",
       "  \"'opposite of'@en\",\n",
       "  'Q199678',\n",
       "  \"'vitamin C'@en\",\n",
       "  'Q23958946',\n",
       "  \"'individual entity'@en\",\n",
       "  'Q5127848',\n",
       "  \"'class'@en\"),\n",
       " ('Q1093742',\n",
       "  \"'lemon'@en\",\n",
       "  'P361',\n",
       "  \"'part of'@en\",\n",
       "  'Q199678',\n",
       "  \"'vitamin C'@en\",\n",
       "  'Q28732711',\n",
       "  \"'physical substance'@en\",\n",
       "  'Q223557',\n",
       "  \"'physical object'@en\"),\n",
       " ('Q1093742',\n",
       "  \"'lemon'@en\",\n",
       "  'P1269',\n",
       "  \"'facet of'@en\",\n",
       "  'Q199678',\n",
       "  \"'vitamin C'@en\",\n",
       "  'Q4406616',\n",
       "  \"'concrete object'@en\",\n",
       "  'Q488383',\n",
       "  \"'object'@en\"),\n",
       " ('Q1093742',\n",
       "  \"'lemon'@en\",\n",
       "  'P461',\n",
       "  \"'opposite of'@en\",\n",
       "  'Q199678',\n",
       "  \"'vitamin C'@en\",\n",
       "  'Q4406616',\n",
       "  \"'concrete object'@en\",\n",
       "  'Q7184903',\n",
       "  \"'abstract object'@en\"),\n",
       " ('Q1093742',\n",
       "  \"'lemon'@en\",\n",
       "  'P460',\n",
       "  \"'said to be the same as'@en\",\n",
       "  'Q199678',\n",
       "  \"'vitamin C'@en\",\n",
       "  'Q488383',\n",
       "  \"'object'@en\",\n",
       "  'Q4406616',\n",
       "  \"'concrete object'@en\"),\n",
       " ('Q1093742',\n",
       "  \"'lemon'@en\",\n",
       "  'P460',\n",
       "  \"'said to be the same as'@en\",\n",
       "  'Q199678',\n",
       "  \"'vitamin C'@en\",\n",
       "  'Q53617407',\n",
       "  \"'material entity'@en\",\n",
       "  'Q223557',\n",
       "  \"'physical object'@en\"),\n",
       " ('Q1093742',\n",
       "  \"'lemon'@en\",\n",
       "  'P461',\n",
       "  \"'opposite of'@en\",\n",
       "  'Q199678',\n",
       "  \"'vitamin C'@en\",\n",
       "  'Q16686022',\n",
       "  \"'natural physical object'@en\",\n",
       "  'Q8205328',\n",
       "  \"'artificial physical object'@en\"))"
      ]
     },
     "execution_count": 19,
     "metadata": {},
     "output_type": "execute_result"
    }
   ],
   "source": [
    "find_instance_instance_links_via_superclass_and_subclass(\"Q199678\", \"Q1093742\")"
   ]
  },
  {
   "cell_type": "code",
   "execution_count": null,
   "metadata": {},
   "outputs": [],
   "source": []
  }
 ],
 "metadata": {
  "kernelspec": {
   "display_name": "kgtk",
   "language": "python",
   "name": "kgtk"
  },
  "language_info": {
   "codemirror_mode": {
    "name": "ipython",
    "version": 3
   },
   "file_extension": ".py",
   "mimetype": "text/x-python",
   "name": "python",
   "nbconvert_exporter": "python",
   "pygments_lexer": "ipython3",
   "version": "3.8.12"
  }
 },
 "nbformat": 4,
 "nbformat_minor": 4
}
